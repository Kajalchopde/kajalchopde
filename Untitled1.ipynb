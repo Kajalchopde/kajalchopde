{
 "cells": [
  {
   "cell_type": "markdown",
   "id": "5943afc0",
   "metadata": {},
   "source": [
    "how to use exception handling\n",
    "try\n",
    "except\n",
    "else\n",
    "finally\n",
    "raise"
   ]
  },
  {
   "cell_type": "code",
   "execution_count": 1,
   "id": "4a95274a",
   "metadata": {},
   "outputs": [
    {
     "name": "stdout",
     "output_type": "stream",
     "text": [
      "Error: cannot add an int and a str\n"
     ]
    }
   ],
   "source": [
    "x = 5\n",
    "y = \"hello\"\n",
    "try:\n",
    "    z = x + y\n",
    "except TypeError:\n",
    "    print(\"Error: cannot add an int and a str\")"
   ]
  },
  {
   "cell_type": "code",
   "execution_count": 4,
   "id": "4de316bf",
   "metadata": {},
   "outputs": [
    {
     "name": "stdout",
     "output_type": "stream",
     "text": [
      "enter first number:1\n",
      "enter second number:h\n",
      "Check your value\n"
     ]
    }
   ],
   "source": [
    "try:\n",
    "    a = int(input('enter first number:'))\n",
    "    b = int(input('enter second number:'))\n",
    "except ValueError:\n",
    "    print('Check your value')\n",
    "    "
   ]
  },
  {
   "cell_type": "code",
   "execution_count": 80,
   "id": "3a155f95",
   "metadata": {},
   "outputs": [
    {
     "name": "stdout",
     "output_type": "stream",
     "text": [
      "enter first number:1\n",
      "enter second number:2\n",
      "2 is not Allowed\n",
      "enter first number:1\n",
      "enter second number:2\n",
      "2 is not Allowed\n",
      "enter first number:1\n",
      "enter second number:22\n",
      "Final answer 0.045454545454545456\n"
     ]
    }
   ],
   "source": [
    "g = True\n",
    "while g:\n",
    "    try:\n",
    "        a = int(input('enter first number:'))\n",
    "        b = int(input('enter second number:'))\n",
    "    except Exception as e:\n",
    "        print(f'Error :- {e}')\n",
    "        g = True\n",
    "    else:\n",
    "        try:\n",
    "            if b==2 :\n",
    "                    raise ValueError ('2 is not allowed')\n",
    "            else:\n",
    "                 g = False\n",
    "            try:\n",
    "                c=print(f'Final answer {a/b}')\n",
    "            except Exception as e:\n",
    "                print(f'Error :- {e}')\n",
    "                print('Try Again')\n",
    "                g = True\n",
    "            else:\n",
    "                g = False\n",
    "        except:\n",
    "            print('2 is not Allowed')\n",
    "            g = True"
   ]
  },
  {
   "cell_type": "code",
   "execution_count": null,
   "id": "f6d7e091",
   "metadata": {},
   "outputs": [],
   "source": []
  },
  {
   "cell_type": "code",
   "execution_count": null,
   "id": "25a76d79",
   "metadata": {},
   "outputs": [],
   "source": []
  },
  {
   "cell_type": "code",
   "execution_count": null,
   "id": "1bb7bae5",
   "metadata": {},
   "outputs": [],
   "source": []
  }
 ],
 "metadata": {
  "kernelspec": {
   "display_name": "Python 3 (ipykernel)",
   "language": "python",
   "name": "python3"
  },
  "language_info": {
   "codemirror_mode": {
    "name": "ipython",
    "version": 3
   },
   "file_extension": ".py",
   "mimetype": "text/x-python",
   "name": "python",
   "nbconvert_exporter": "python",
   "pygments_lexer": "ipython3",
   "version": "3.11.5"
  }
 },
 "nbformat": 4,
 "nbformat_minor": 5
}
