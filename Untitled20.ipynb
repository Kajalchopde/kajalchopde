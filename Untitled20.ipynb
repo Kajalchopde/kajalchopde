{
 "cells": [
  {
   "cell_type": "code",
   "execution_count": 2,
   "id": "c8bd8ee5",
   "metadata": {},
   "outputs": [
    {
     "name": "stdout",
     "output_type": "stream",
     "text": [
      "80\n"
     ]
    }
   ],
   "source": [
    "# Acess the value of key 'history'\n",
    "\n",
    "sampleDict = { \n",
    "   \"class\":{ \n",
    "      \"student\":{ \n",
    "         \"name\":\"Mike\",\n",
    "         \"marks\":{ \n",
    "            \"physics\":70,\n",
    "            \"history\":80\n",
    "         }\n",
    "      }\n",
    "   }\n",
    "}\n",
    "\n",
    "print(sampleDict[\"class\"][\"student\"][\"marks\"][\"history\"])"
   ]
  },
  {
   "cell_type": "code",
   "execution_count": null,
   "id": "b2a6dc34",
   "metadata": {},
   "outputs": [],
   "source": [
    "# Initialize dictionary with default values. Inputs are:-\n",
    "# employees = ['Kelly', 'Emma', 'John']\n",
    "# defaults = {\"designation\": 'Application Developer', \"salary\": 8000}\n",
    "\n",
    "#Expected output:- {'Kelly': {'designation': 'Application Developer', 'salary': 8000}, \n",
    "#                   'Emma': {'designation': 'Application Developer', 'salary': 8000}, \n",
    "#                   'John': {'designation': 'Application Developer', 'salary': 8000}}\n",
    "\n",
    "\n"
   ]
  },
  {
   "cell_type": "code",
   "execution_count": 19,
   "id": "558ed895",
   "metadata": {},
   "outputs": [
    {
     "name": "stdout",
     "output_type": "stream",
     "text": [
      "{'Kelly': {'designation': 'Application Developer', 'salary': 8000}, 'Emma': {'designation': 'Application Developer', 'salary': 8000}, 'John': {'designation': 'Application Developer', 'salary': 8000}}\n"
     ]
    }
   ],
   "source": [
    "employees = ['Kelly', 'Emma', 'John']\n",
    "defaults = {\"designation\": 'Application Developer', \"salary\": 8000}\n",
    "\n",
    "\n",
    "newd=dict.fromkeys(employees,defaults)\n",
    "print(newd)\n"
   ]
  },
  {
   "cell_type": "code",
   "execution_count": 42,
   "id": "17f5b37e",
   "metadata": {},
   "outputs": [
    {
     "name": "stdout",
     "output_type": "stream",
     "text": [
      "{'A': 'H', 'B': 'G', 'C': 'F', 'D': 'E'}\n",
      "enter mRNA value:-E\n",
      "D\n"
     ]
    }
   ],
   "source": [
    "# In gene expression, mRNA is transcribed from a DNA template. \n",
    "# The 4 nucleotide bases of A, T, C, G corresponds to the U, A, G, C bases of the mRNA. \n",
    "# Write a function that returns the mRNA transcript given the sequence of a DNA strand.\n",
    "\n",
    "# Use a dictionary to provide the mapping of DNA to RNA bases.\n",
    "def yy(x):\n",
    "    value={i for i in seq if seq[i]==x}\n",
    "    {i for i in seq if seq[i]==x}\n",
    "#    value = {i for i in seq if seq[i]==x}\n",
    "#     print(\"One line Code Key value: \", list(seq.keys())\n",
    "#      [list(seq.values()).index(x)])\n",
    "#    print(\"key by value:\",value)\n",
    "#    key = list(filter(lambda x1: seq[x1] == x, seq))[0]\n",
    "#    print(key)\n",
    "    return\n",
    "\n",
    "\n",
    "\n",
    "dn1=('A','B','C','D')\n",
    "mrna=('H','G','F','E')\n",
    "\n",
    "seq=dict(zip(dn1,mrna))\n",
    "print(seq)\n",
    "x=input(\"enter mRNA value:-\")\n",
    "yy(x)\n"
   ]
  },
  {
   "cell_type": "code",
   "execution_count": 43,
   "id": "11e9c0d2",
   "metadata": {},
   "outputs": [
    {
     "name": "stdout",
     "output_type": "stream",
     "text": [
      "{'ten': 10, 'twenty': 20, 'thirty': 30}\n"
     ]
    }
   ],
   "source": [
    "keys=['ten','twenty','thirty']\n",
    "values=[10,20,30]\n",
    "x=dict(zip(keys,values))\n",
    "print(x)"
   ]
  },
  {
   "cell_type": "code",
   "execution_count": 47,
   "id": "3fe686a5",
   "metadata": {},
   "outputs": [
    {
     "name": "stdout",
     "output_type": "stream",
     "text": [
      "{'ten': 10, 'twenty': 20, 'thirty': 30, 'fourty': 40, 'fifty': 50}\n"
     ]
    }
   ],
   "source": [
    "dict1={'ten':10,'twenty':20,'thirty':30}\n",
    "dict2={'thirty':30,'fourty':40,'fifty':50}\n",
    "x={**dict1,**dict2}\n",
    "print(x)"
   ]
  },
  {
   "cell_type": "code",
   "execution_count": 48,
   "id": "d19f6e7e",
   "metadata": {},
   "outputs": [
    {
     "name": "stdout",
     "output_type": "stream",
     "text": [
      "{'ten': 10, 'twenty': 20, 'thirty': 30, 'fourty': 40, 'fifty': 50}\n"
     ]
    }
   ],
   "source": [
    "dict1={'ten':10,'twenty':20,'thirty':30}\n",
    "dict2={'thirty':30,'fourty':40,'fifty':50}\n",
    "dict3=dict1.copy()\n",
    "dict3.update(dict2)\n",
    "print(dict3)"
   ]
  },
  {
   "cell_type": "code",
   "execution_count": null,
   "id": "1db601f1",
   "metadata": {},
   "outputs": [],
   "source": [
    "print(dict[\"class\"][\"student\"][\"marks\"][\"history\"])"
   ]
  },
  {
   "cell_type": "code",
   "execution_count": 53,
   "id": "d0bb2e50",
   "metadata": {},
   "outputs": [
    {
     "name": "stdout",
     "output_type": "stream",
     "text": [
      "{'Kelly': {'designation': 'Developer', 'salary': 8000}, 'Emma': {'designation': 'Developer', 'salary': 8000}}\n"
     ]
    }
   ],
   "source": [
    "employees = ['Kelly', 'Emma']\n",
    "defaults = {\"designation\": 'Developer', \"salary\": 8000}\n",
    "dict=dict.fromkeys(employees,defaults)\n",
    "print(dict)"
   ]
  },
  {
   "cell_type": "code",
   "execution_count": null,
   "id": "d6cb256d",
   "metadata": {},
   "outputs": [],
   "source": [
    "dict.fromkeys(employees,defaults)\n",
    "dict.fromkeys(employees,defaults)\n",
    "dict.fromkeys(employees,defaults)"
   ]
  },
  {
   "cell_type": "code",
   "execution_count": 2,
   "id": "f1c81f90",
   "metadata": {},
   "outputs": [
    {
     "name": "stdout",
     "output_type": "stream",
     "text": [
      "{'name': 'Kelly', 'salary': 8000}\n"
     ]
    }
   ],
   "source": [
    "sample_dict = {\n",
    "    \"name\": \"Kelly\",\n",
    "    \"age\": 25,\n",
    "    \"salary\": 8000,\n",
    "    \"city\": \"New york\"}\n",
    "\n",
    "keys=[\"name\",\"salary\"]\n",
    "\n",
    "d= dict()\n",
    "\n",
    "for k in keys:\n",
    "    d.update({k:sample_dict[k]})\n",
    "print(d)\n"
   ]
  },
  {
   "cell_type": "code",
   "execution_count": 1,
   "id": "69192e31",
   "metadata": {},
   "outputs": [],
   "source": [
    "l1=dict()"
   ]
  },
  {
   "cell_type": "code",
   "execution_count": 9,
   "id": "bb9fbd3e",
   "metadata": {},
   "outputs": [
    {
     "name": "stdout",
     "output_type": "stream",
     "text": [
      "{'city': 'New york', 'age': 25}\n"
     ]
    }
   ],
   "source": [
    "sample_dict = {\n",
    "    \"name\": \"Kelly\",\n",
    "    \"age\": 25,\n",
    "    \"salary\": 8000,\n",
    "    \"city\": \"New york\"}\n",
    "\n",
    "keys=[\"name\",\"salary\"]\n",
    "sample_dict={k:sample_dict[k] for k in sample_dict.keys()- keys}\n",
    "\n",
    "print(sample_dict)"
   ]
  },
  {
   "cell_type": "code",
   "execution_count": 4,
   "id": "d963f19d",
   "metadata": {},
   "outputs": [
    {
     "name": "stdout",
     "output_type": "stream",
     "text": [
      "{'age': 25, 'city': 'New york'}\n"
     ]
    }
   ],
   "source": [
    "print(sample_dict)"
   ]
  },
  {
   "cell_type": "code",
   "execution_count": 13,
   "id": "ca392fed",
   "metadata": {},
   "outputs": [
    {
     "name": "stdout",
     "output_type": "stream",
     "text": [
      "200 in a dict\n"
     ]
    }
   ],
   "source": [
    "s={'a':100,'b':200,'c':300}\n",
    "\n",
    "if 200 in s.values():\n",
    "    print('200 in a dict')"
   ]
  },
  {
   "cell_type": "code",
   "execution_count": 24,
   "id": "fe3c066b",
   "metadata": {},
   "outputs": [
    {
     "name": "stdout",
     "output_type": "stream",
     "text": [
      "{'name': 'Kelly', 'age': 25, 'salary': 8000, 'location': 'New york'}\n"
     ]
    }
   ],
   "source": [
    "a1 = {\n",
    "    \"name\": \"Kelly\",\n",
    "    \"age\": 25,\n",
    "    \"salary\": 8000,\n",
    "    \"city\": \"New york\"}\n",
    "a1[\"location\"]=a1.pop(\"city\")\n",
    "print(a1)"
   ]
  },
  {
   "cell_type": "code",
   "execution_count": 27,
   "id": "6286a43a",
   "metadata": {},
   "outputs": [
    {
     "name": "stdout",
     "output_type": "stream",
     "text": [
      "Math\n"
     ]
    }
   ],
   "source": [
    "sample_dict = {\n",
    "  'Physics': 82,\n",
    "  'Math': 65,\n",
    "  'history': 75\n",
    "}\n",
    "print(min(sample_dict,key=sample_dict.get))\n",
    "print(min(sample_dict,key=sample_dict.get))\n"
   ]
  },
  {
   "cell_type": "code",
   "execution_count": 28,
   "id": "bdbd1190",
   "metadata": {},
   "outputs": [],
   "source": [
    "sample_dict = {\n",
    "    'emp1': {'name': 'Jhon', 'salary': 7500},\n",
    "    'emp2': {'name': 'Emma', 'salary': 8000},\n",
    "    'emp3': {'name': 'Brad', 'salary': 500}\n",
    "}\n",
    "sample_dict[\"emp3\"][\"salary\"]=8500"
   ]
  },
  {
   "cell_type": "code",
   "execution_count": 29,
   "id": "8fd21a0d",
   "metadata": {},
   "outputs": [
    {
     "name": "stdout",
     "output_type": "stream",
     "text": [
      "{'emp1': {'name': 'Jhon', 'salary': 7500}, 'emp2': {'name': 'Emma', 'salary': 8000}, 'emp3': {'name': 'Brad', 'salary': 8500}}\n"
     ]
    }
   ],
   "source": [
    "print(sample_dict)"
   ]
  },
  {
   "cell_type": "code",
   "execution_count": 30,
   "id": "6e6bd769",
   "metadata": {},
   "outputs": [
    {
     "name": "stdout",
     "output_type": "stream",
     "text": [
      "(50, 40, 30, 20, 10)\n"
     ]
    }
   ],
   "source": [
    "tuple1=(10,20,30,40,50)\n",
    "tuple1=tuple1[::-1]\n",
    "print(tuple1)"
   ]
  },
  {
   "cell_type": "code",
   "execution_count": 31,
   "id": "cd9b5f07",
   "metadata": {},
   "outputs": [
    {
     "name": "stdout",
     "output_type": "stream",
     "text": [
      "(10, 20, 30, 40, 50)\n"
     ]
    }
   ],
   "source": [
    "tuple1=tuple1[::-1]\n",
    "print(tuple1)"
   ]
  },
  {
   "cell_type": "code",
   "execution_count": 33,
   "id": "19130430",
   "metadata": {},
   "outputs": [
    {
     "name": "stdout",
     "output_type": "stream",
     "text": [
      "20\n"
     ]
    }
   ],
   "source": [
    "tuple1 = (\"Orange\", [10, 20, 30], (5, 15, 25))\n",
    "print(tuple1[1][1])"
   ]
  },
  {
   "cell_type": "code",
   "execution_count": 37,
   "id": "da4236f3",
   "metadata": {},
   "outputs": [
    {
     "name": "stdout",
     "output_type": "stream",
     "text": [
      "10\n",
      "20\n",
      "30\n",
      "40\n"
     ]
    }
   ],
   "source": [
    "tuple1=(10,20,30,40,50)\n",
    "a,b,c,d,e=tuple1\n",
    "print(a)\n",
    "print(b)\n",
    "print(c)\n",
    "print(d)"
   ]
  },
  {
   "cell_type": "code",
   "execution_count": 38,
   "id": "d5a1a2fa",
   "metadata": {},
   "outputs": [
    {
     "name": "stdout",
     "output_type": "stream",
     "text": [
      "(99, 88)\n",
      "(11, 22)\n"
     ]
    }
   ],
   "source": [
    "tuple1=(11,22)\n",
    "tuple2=(99,88)\n",
    "tuple1,tuple2=tuple2,tuple1\n",
    "print(tuple1)\n",
    "print(tuple2)"
   ]
  },
  {
   "cell_type": "code",
   "execution_count": 44,
   "id": "f4d66a3e",
   "metadata": {},
   "outputs": [
    {
     "name": "stdout",
     "output_type": "stream",
     "text": [
      "(44, 55)\n"
     ]
    }
   ],
   "source": [
    "tuple1=(11,22,33,44,55,66)\n",
    "values=(44,55)\n",
    "tuple2=tuple1[3:5]\n",
    "print(tuple2)"
   ]
  },
  {
   "cell_type": "code",
   "execution_count": 45,
   "id": "9c3d10b2",
   "metadata": {},
   "outputs": [],
   "source": [
    "tuple1=(11,[22,33],44,55)\n",
    "tuple1[1][0]=222"
   ]
  },
  {
   "cell_type": "code",
   "execution_count": 46,
   "id": "d47b58fb",
   "metadata": {},
   "outputs": [
    {
     "name": "stdout",
     "output_type": "stream",
     "text": [
      "(11, [222, 33], 44, 55)\n"
     ]
    }
   ],
   "source": [
    "print(tuple1)"
   ]
  },
  {
   "cell_type": "code",
   "execution_count": 47,
   "id": "77332215",
   "metadata": {},
   "outputs": [
    {
     "name": "stdout",
     "output_type": "stream",
     "text": [
      "(('c', 11), ('a', 23), ('d', 29), ('b', 37))\n"
     ]
    }
   ],
   "source": [
    "tuple1=(('a',23),('b',37),('c',11),('d',29))\n",
    "tuple1=tuple(sorted(list(tuple1),key=lambda x:x[1]))\n",
    "print(tuple1)"
   ]
  },
  {
   "cell_type": "code",
   "execution_count": 48,
   "id": "7dd757ac",
   "metadata": {},
   "outputs": [],
   "source": [
    "tuple1=tuple(sorted(list(tuple1),key=lambda x:x[1]))"
   ]
  },
  {
   "cell_type": "code",
   "execution_count": 50,
   "id": "36a1aab9",
   "metadata": {},
   "outputs": [],
   "source": [
    "tuple1=tuple(sorted(list(tuple1),key=lambda x:x[1]))"
   ]
  },
  {
   "cell_type": "code",
   "execution_count": 51,
   "id": "6e0457fb",
   "metadata": {},
   "outputs": [],
   "source": [
    "tuple1=tuple(sorted(list(tuple1),key=lambda x:x[1]))"
   ]
  },
  {
   "cell_type": "code",
   "execution_count": null,
   "id": "eaa57804",
   "metadata": {},
   "outputs": [],
   "source": [
    "tuple1=tuple(sorted(list(tuple1),key=lambda x:x[1]))"
   ]
  },
  {
   "cell_type": "code",
   "execution_count": 53,
   "id": "eed4e411",
   "metadata": {},
   "outputs": [
    {
     "name": "stdout",
     "output_type": "stream",
     "text": [
      "2\n"
     ]
    }
   ],
   "source": [
    "tuple1=(50,10,60,70,50)\n",
    "print(tuple1.count(50))"
   ]
  },
  {
   "cell_type": "code",
   "execution_count": 56,
   "id": "1e6fcd4f",
   "metadata": {},
   "outputs": [
    {
     "name": "stdout",
     "output_type": "stream",
     "text": [
      "True\n"
     ]
    }
   ],
   "source": [
    "tuple1=(45,45,45,45)\n",
    "x=all(i==tuple1[0] for i in tuple1)\n",
    "print(x)"
   ]
  },
  {
   "cell_type": "code",
   "execution_count": 61,
   "id": "85eec45c",
   "metadata": {},
   "outputs": [
    {
     "name": "stdout",
     "output_type": "stream",
     "text": [
      "0\n",
      "1\n",
      "2\n",
      "3\n",
      "4\n",
      "5\n",
      "6\n",
      "7\n",
      "8\n",
      "9\n",
      "1\n",
      "2\n",
      "3\n",
      "4\n",
      "5\n",
      "6\n",
      "7\n",
      "8\n",
      "9\n",
      "10\n"
     ]
    }
   ],
   "source": [
    "for i in range(10):\n",
    "    print(i)\n",
    "\n",
    "i=1\n",
    "while i<=10:\n",
    "    print(i)\n",
    "    i=i+1"
   ]
  },
  {
   "cell_type": "code",
   "execution_count": 75,
   "id": "bcb25be2",
   "metadata": {},
   "outputs": [
    {
     "name": "stdout",
     "output_type": "stream",
     "text": [
      "1% \n",
      "1% 2% 3% \n",
      "1% 2% 3% 4% 5% \n"
     ]
    }
   ],
   "source": [
    "for i in range(1,6,1):\n",
    "    for j in range(1,i+1):\n",
    "        print(j,end='% ')\n",
    "    print(\"\")    \n"
   ]
  },
  {
   "cell_type": "code",
   "execution_count": 76,
   "id": "abf8ad2d",
   "metadata": {},
   "outputs": [
    {
     "name": "stdout",
     "output_type": "stream",
     "text": [
      "enter no :-10\n",
      "55\n",
      "55\n"
     ]
    }
   ],
   "source": [
    "x=int(input('enter no :-'))\n",
    "s=0\n",
    "for i in range(1,x+1,1):\n",
    "    s=s+i\n",
    "print(s)\n",
    "z=sum(range(1,x+1))\n",
    "print(z)"
   ]
  },
  {
   "cell_type": "code",
   "execution_count": 79,
   "id": "5baebe60",
   "metadata": {},
   "outputs": [
    {
     "name": "stdout",
     "output_type": "stream",
     "text": [
      "enter no :-2\n",
      "2\n",
      "4\n",
      "6\n",
      "8\n",
      "10\n",
      "12\n",
      "14\n",
      "16\n",
      "18\n",
      "20\n"
     ]
    }
   ],
   "source": [
    "x=int(input('enter no :-'))\n",
    "for i in range(1,11,1):\n",
    "    print(x*i)"
   ]
  },
  {
   "cell_type": "code",
   "execution_count": 86,
   "id": "930c1cb7",
   "metadata": {},
   "outputs": [
    {
     "name": "stdout",
     "output_type": "stream",
     "text": [
      "75\n",
      "150\n",
      "145\n"
     ]
    }
   ],
   "source": [
    "numbers=[12,75,150,180,145,525,50]\n",
    "for i in numbers:\n",
    "    if i > 500:\n",
    "        break\n",
    "    elif i>150:\n",
    "        continue\n",
    "    elif i%5==0:\n",
    "        print(i)\n"
   ]
  },
  {
   "cell_type": "code",
   "execution_count": 88,
   "id": "adc718ec",
   "metadata": {},
   "outputs": [
    {
     "name": "stdout",
     "output_type": "stream",
     "text": [
      "enter number :-12010021\n",
      "8\n"
     ]
    }
   ],
   "source": [
    "num=int(input(\"enter number :-\"))\n",
    "count=0\n",
    "while num !=0:\n",
    "    num=num//10\n",
    "    count=count+1\n",
    "print(count)"
   ]
  },
  {
   "cell_type": "code",
   "execution_count": 89,
   "id": "547a72e8",
   "metadata": {},
   "outputs": [
    {
     "name": "stdout",
     "output_type": "stream",
     "text": [
      "enter number:-22\n",
      "2\n"
     ]
    }
   ],
   "source": [
    "n=int(input(\"enter number:-\"))\n",
    "c=0\n",
    "while n !=0:\n",
    "    n=n//10\n",
    "    c=c+1\n",
    "print(c)\n"
   ]
  },
  {
   "cell_type": "code",
   "execution_count": 91,
   "id": "e8cc6ddf",
   "metadata": {},
   "outputs": [
    {
     "name": "stdout",
     "output_type": "stream",
     "text": [
      "5 4 3 2 1 \n",
      "4 3 2 1 \n",
      "3 2 1 \n",
      "2 1 \n",
      "1 \n",
      "\n"
     ]
    }
   ],
   "source": [
    "k=5\n",
    "\n",
    "for i in range (0,k+1):\n",
    "    for j in range(k-i,0,-1):\n",
    "        print(j,end=' ')\n",
    "    print()\n"
   ]
  },
  {
   "cell_type": "code",
   "execution_count": 94,
   "id": "7d87f53c",
   "metadata": {},
   "outputs": [
    {
     "name": "stdout",
     "output_type": "stream",
     "text": [
      "5 4 3 2 1 \n",
      "4 3 2 1 \n",
      "3 2 1 \n",
      "2 1 \n",
      "1 \n",
      "\n"
     ]
    }
   ],
   "source": [
    "n=5\n",
    "k=5\n",
    "for i in range(0,n+1):\n",
    "    for j in range(k-i,0,-1):\n",
    "        print(j,end=' ')\n",
    "    print()"
   ]
  },
  {
   "cell_type": "code",
   "execution_count": 103,
   "id": "47ce83fb",
   "metadata": {},
   "outputs": [
    {
     "name": "stdout",
     "output_type": "stream",
     "text": [
      "50\n",
      "40\n",
      "30\n",
      "20\n",
      "10\n"
     ]
    }
   ],
   "source": [
    "list1=[10,20,30,40,50]\n",
    "newlist=reversed(list1)\n",
    "for i in newlist:\n",
    "    print(i)\n"
   ]
  },
  {
   "cell_type": "code",
   "execution_count": 105,
   "id": "340215af",
   "metadata": {},
   "outputs": [
    {
     "name": "stdout",
     "output_type": "stream",
     "text": [
      "50\n",
      "40\n",
      "30\n",
      "20\n",
      "10\n"
     ]
    }
   ],
   "source": [
    "list1=[10,20,30,40,50]\n",
    "newlist=reversed(list1)\n",
    "for i in newlist:\n",
    "    print(i)"
   ]
  },
  {
   "cell_type": "code",
   "execution_count": 107,
   "id": "b790f7c7",
   "metadata": {},
   "outputs": [
    {
     "name": "stdout",
     "output_type": "stream",
     "text": [
      "-10\n",
      "-9\n",
      "-8\n",
      "-7\n",
      "-6\n",
      "-5\n",
      "-4\n",
      "-3\n",
      "-2\n",
      "-1\n"
     ]
    }
   ],
   "source": [
    "for i in range(-10,0,1):\n",
    "    print (i)"
   ]
  },
  {
   "cell_type": "code",
   "execution_count": 108,
   "id": "5f89f6e8",
   "metadata": {},
   "outputs": [
    {
     "name": "stdout",
     "output_type": "stream",
     "text": [
      "0\n",
      "1\n",
      "2\n",
      "3\n",
      "4\n",
      "done!\n"
     ]
    }
   ],
   "source": [
    "for i in range(5):\n",
    "    print(i)\n",
    "else:\n",
    "    print(\"done!\")"
   ]
  },
  {
   "cell_type": "code",
   "execution_count": 4,
   "id": "5394857e",
   "metadata": {},
   "outputs": [
    {
     "name": "stdout",
     "output_type": "stream",
     "text": [
      "29\n",
      "31\n",
      "37\n",
      "41\n",
      "43\n",
      "47\n"
     ]
    }
   ],
   "source": [
    "start=25\n",
    "end=50\n",
    "for i in range(25,51):\n",
    "    if i >1:\n",
    "        for j in range(2,i):\n",
    "            if i%j==0:\n",
    "                break\n",
    "        else:\n",
    "            print(i)\n",
    "        "
   ]
  },
  {
   "cell_type": "code",
   "execution_count": 6,
   "id": "3542ce0d",
   "metadata": {},
   "outputs": [
    {
     "name": "stdout",
     "output_type": "stream",
     "text": [
      "3\n",
      "5\n",
      "7\n",
      "11\n",
      "13\n",
      "17\n",
      "19\n"
     ]
    }
   ],
   "source": [
    "start=3\n",
    "end=20\n",
    "for i in range(start,end+1):\n",
    "    if i>1:\n",
    "        for j in range(2,i):\n",
    "            if i%j==0:\n",
    "                break\n",
    "        else:\n",
    "            print(i)"
   ]
  },
  {
   "cell_type": "code",
   "execution_count": 8,
   "id": "005c2dc3",
   "metadata": {},
   "outputs": [
    {
     "name": "stdout",
     "output_type": "stream",
     "text": [
      "1\n",
      "2\n",
      "3\n",
      "4\n",
      "5\n",
      "6\n",
      "7\n",
      "8\n",
      "9\n",
      "10\n"
     ]
    }
   ],
   "source": [
    "for i in range(1,11,1):\n",
    "    print(i)"
   ]
  },
  {
   "cell_type": "code",
   "execution_count": 13,
   "id": "a66be81b",
   "metadata": {},
   "outputs": [
    {
     "name": "stdout",
     "output_type": "stream",
     "text": [
      "1 \n",
      "1 2 \n",
      "1 2 3 \n",
      "1 2 3 4 \n",
      "1 2 3 4 5 \n"
     ]
    }
   ],
   "source": [
    "for i in range(1,6,1):\n",
    "    for j in range(1,i+1):\n",
    "          print(j,end=' ')  \n",
    "    print(\"\")"
   ]
  },
  {
   "cell_type": "code",
   "execution_count": 14,
   "id": "f87f8e02",
   "metadata": {},
   "outputs": [
    {
     "name": "stdout",
     "output_type": "stream",
     "text": [
      "55\n"
     ]
    }
   ],
   "source": [
    "num=10\n",
    "c=0\n",
    "for i in range(num+1):\n",
    "    c=c+i\n",
    "print(c)"
   ]
  },
  {
   "cell_type": "code",
   "execution_count": 15,
   "id": "ffd5a45c",
   "metadata": {},
   "outputs": [
    {
     "name": "stdout",
     "output_type": "stream",
     "text": [
      "55\n"
     ]
    }
   ],
   "source": [
    "x=sum(range(1,num+1))\n",
    "print(x)"
   ]
  },
  {
   "cell_type": "code",
   "execution_count": 19,
   "id": "43fc7f13",
   "metadata": {},
   "outputs": [
    {
     "name": "stdout",
     "output_type": "stream",
     "text": [
      "2\n",
      "4\n",
      "6\n",
      "8\n",
      "10\n",
      "12\n",
      "14\n",
      "16\n",
      "18\n",
      "20\n"
     ]
    }
   ],
   "source": [
    "for i in range(1,11):\n",
    "    print(i*2)\n",
    "    "
   ]
  },
  {
   "cell_type": "code",
   "execution_count": 21,
   "id": "1ffedd33",
   "metadata": {},
   "outputs": [
    {
     "name": "stdout",
     "output_type": "stream",
     "text": [
      "75\n",
      "150\n",
      "145\n"
     ]
    }
   ],
   "source": [
    "n=[12,75,150,180,145,525,50]\n",
    "for i in n:\n",
    "    if i>500:\n",
    "        break\n",
    "    elif i>150:\n",
    "        pass\n",
    "    elif i%5==0:\n",
    "        print(i)"
   ]
  },
  {
   "cell_type": "code",
   "execution_count": 26,
   "id": "270682b3",
   "metadata": {},
   "outputs": [
    {
     "name": "stdout",
     "output_type": "stream",
     "text": [
      "enter number :-10000000\n",
      "8\n"
     ]
    }
   ],
   "source": [
    "nn=int(input('enter number :-'))\n",
    "c=0\n",
    "while nn!=0:\n",
    "    nn=nn//10\n",
    "    c=c+1\n",
    "print(c)\n",
    "    "
   ]
  },
  {
   "cell_type": "code",
   "execution_count": 28,
   "id": "6dbc91cf",
   "metadata": {},
   "outputs": [
    {
     "name": "stdout",
     "output_type": "stream",
     "text": [
      "15\n"
     ]
    }
   ],
   "source": [
    "nn=231423432325325\n",
    "c=0\n",
    "while nn!=0:\n",
    "    nn=nn//10\n",
    "    c=c+1\n",
    "print(c)"
   ]
  },
  {
   "cell_type": "code",
   "execution_count": 40,
   "id": "d0b2f5a9",
   "metadata": {},
   "outputs": [
    {
     "name": "stdout",
     "output_type": "stream",
     "text": [
      "5 4 3 2 1 \n",
      "4 3 2 1 \n",
      "3 2 1 \n",
      "2 1 \n",
      "1 \n",
      "\n"
     ]
    }
   ],
   "source": [
    "\n",
    "for i in range(0,6):\n",
    "    for j in range(5-i,0,-1):\n",
    "        print(j,end=' ')\n",
    "    print(\"\")"
   ]
  },
  {
   "cell_type": "code",
   "execution_count": 42,
   "id": "24294bd0",
   "metadata": {},
   "outputs": [
    {
     "name": "stdout",
     "output_type": "stream",
     "text": [
      "50\n",
      "40\n",
      "30\n",
      "20\n",
      "10\n"
     ]
    }
   ],
   "source": [
    "list1=[10,20,30,40,50]\n",
    "list2=reversed(list1)\n",
    "for i in list2:\n",
    "    print(i)"
   ]
  },
  {
   "cell_type": "code",
   "execution_count": 44,
   "id": "e761162f",
   "metadata": {},
   "outputs": [
    {
     "name": "stdout",
     "output_type": "stream",
     "text": [
      "-10\n",
      "-9\n",
      "-8\n",
      "-7\n",
      "-6\n",
      "-5\n",
      "-4\n",
      "-3\n",
      "-2\n",
      "-1\n"
     ]
    }
   ],
   "source": [
    "for i in range(-10,0,1):\n",
    "      print(i)"
   ]
  },
  {
   "cell_type": "code",
   "execution_count": 46,
   "id": "04680a29",
   "metadata": {},
   "outputs": [
    {
     "name": "stdout",
     "output_type": "stream",
     "text": [
      "0\n",
      "1\n",
      "2\n",
      "3\n",
      "4\n",
      "done:\n"
     ]
    }
   ],
   "source": [
    "for i in range(5):\n",
    "    print(i)\n",
    "else:\n",
    "    print(\"done:\")"
   ]
  },
  {
   "cell_type": "code",
   "execution_count": 48,
   "id": "f2069c1b",
   "metadata": {},
   "outputs": [
    {
     "name": "stdout",
     "output_type": "stream",
     "text": [
      "29\n",
      "31\n",
      "37\n",
      "41\n",
      "43\n",
      "47\n"
     ]
    }
   ],
   "source": [
    "for i in range(25,51):\n",
    "   if i >1:\n",
    "        for j in range(2,i):\n",
    "            if (i%j)==0:\n",
    "                break\n",
    "        else:\n",
    "            print(i)"
   ]
  },
  {
   "cell_type": "code",
   "execution_count": 49,
   "id": "62c80957",
   "metadata": {},
   "outputs": [
    {
     "name": "stdout",
     "output_type": "stream",
     "text": [
      "fibonacci sequence\n",
      "0 1 1 2 3 5 8 13 21 34 "
     ]
    }
   ],
   "source": [
    "num1,num2=0,1\n",
    "print(\"fibonacci sequence\")\n",
    "for i in range(10):\n",
    "    print(num1,end=' ')\n",
    "    res=num1+num2\n",
    "    num1=num2\n",
    "    num2=res\n",
    "    \n",
    "    \n",
    "   "
   ]
  },
  {
   "cell_type": "code",
   "execution_count": 53,
   "id": "f851c010",
   "metadata": {},
   "outputs": [
    {
     "name": "stdout",
     "output_type": "stream",
     "text": [
      "0 1 1 2 3 5 8 13 21 34 "
     ]
    }
   ],
   "source": [
    "num1,num2=0,1\n",
    "for i in range(10):\n",
    "    print(num1,end=' ')\n",
    "    res=num1+num2\n",
    "    num1=num2\n",
    "    num2=res"
   ]
  },
  {
   "cell_type": "code",
   "execution_count": 56,
   "id": "cbbfb230",
   "metadata": {},
   "outputs": [
    {
     "name": "stdout",
     "output_type": "stream",
     "text": [
      "120\n"
     ]
    }
   ],
   "source": [
    "#factorial\n",
    "#5!=5 x 4 x3 x 3 x1\n",
    "num=5\n",
    "factorial=1\n",
    "if num<0:\n",
    "    print(\"factorial cannot possible in negative numbers\")\n",
    "else:\n",
    "    for i in range(1, num+1):\n",
    "        factorial=factorial*i\n",
    "    print(factorial)"
   ]
  },
  {
   "cell_type": "code",
   "execution_count": 58,
   "id": "cd0e6039",
   "metadata": {},
   "outputs": [
    {
     "name": "stdout",
     "output_type": "stream",
     "text": [
      "3628800\n"
     ]
    }
   ],
   "source": [
    "num=10\n",
    "fact=1\n",
    "if num<0:\n",
    "    print(\"cannot possible\")\n",
    "else:\n",
    "    for i in range(1,num+1):\n",
    "        fact=fact*i\n",
    "    print(fact)"
   ]
  },
  {
   "cell_type": "code",
   "execution_count": 66,
   "id": "be70b7b4",
   "metadata": {},
   "outputs": [
    {
     "name": "stdout",
     "output_type": "stream",
     "text": [
      "765\n"
     ]
    }
   ],
   "source": [
    "num=567\n",
    "rev=0\n",
    "while num>0:\n",
    "    reminder=num%10\n",
    "    rev=(rev*10)+reminder\n",
    "    num=num//10\n",
    "print(rev)"
   ]
  },
  {
   "cell_type": "code",
   "execution_count": 67,
   "id": "dad81519",
   "metadata": {},
   "outputs": [
    {
     "name": "stdout",
     "output_type": "stream",
     "text": [
      "20 40 60 80 100 "
     ]
    }
   ],
   "source": [
    "mylist=[10,20,30,40,50,60,70,80,90,100]\n",
    "for i in mylist[1::2]:\n",
    "    print(i,end=' ')\n"
   ]
  },
  {
   "cell_type": "code",
   "execution_count": 71,
   "id": "f3ba857c",
   "metadata": {},
   "outputs": [
    {
     "name": "stdout",
     "output_type": "stream",
     "text": [
      "1\n",
      "8\n",
      "27\n",
      "64\n",
      "125\n",
      "216\n"
     ]
    }
   ],
   "source": [
    "num=6\n",
    "c=1\n",
    "while c<num+1:\n",
    "    print(c**3)\n",
    "    c=c+1\n",
    "    \n",
    "    "
   ]
  },
  {
   "cell_type": "code",
   "execution_count": 74,
   "id": "28e397ba",
   "metadata": {},
   "outputs": [
    {
     "name": "stdout",
     "output_type": "stream",
     "text": [
      "2 22 222 2222 22222 24690\n"
     ]
    }
   ],
   "source": [
    "num=5\n",
    "sump=0\n",
    "n=2\n",
    "for i in range(0,num):\n",
    "    print(n,end=' ')\n",
    "    sump=sump+n\n",
    "    n=(n*10)+2\n",
    "print(sump)"
   ]
  },
  {
   "cell_type": "code",
   "execution_count": 75,
   "id": "8b228025",
   "metadata": {},
   "outputs": [
    {
     "name": "stdout",
     "output_type": "stream",
     "text": [
      "222222 2222222 22222222 222222222 2222222222 2469111110\n"
     ]
    }
   ],
   "source": [
    "num=5\n",
    "summ=0\n",
    "startwith=2\n",
    "for i in range(0,num):\n",
    "    print(n,end=' ')\n",
    "    summ=summ+n\n",
    "    n=n*10+2\n",
    "print(summ)"
   ]
  },
  {
   "cell_type": "code",
   "execution_count": 81,
   "id": "cd9becca",
   "metadata": {},
   "outputs": [
    {
     "name": "stdout",
     "output_type": "stream",
     "text": [
      "* \n",
      "* * \n",
      "* * * \n",
      "* * * * \n",
      "* * * * * \n",
      "* * * * \n",
      "* * * \n",
      "* * \n",
      "* \n",
      "\n"
     ]
    }
   ],
   "source": [
    "for i in range(0,5,1):\n",
    "    for j in range(0,i+1):\n",
    "        print('*',end=' ')\n",
    "    print(\"\")\n",
    "for i in range(5,0,-1):\n",
    "    for j in range(0,i-1):\n",
    "        print('*',end=' ')\n",
    "    print(\"\")\n",
    "    "
   ]
  },
  {
   "cell_type": "code",
   "execution_count": 90,
   "id": "f5e2922f",
   "metadata": {},
   "outputs": [
    {
     "data": {
      "text/plain": [
       "<function matplotlib.pyplot.show(close=None, block=None)>"
      ]
     },
     "execution_count": 90,
     "metadata": {},
     "output_type": "execute_result"
    },
    {
     "data": {
      "image/png": "[encoded data removed]",
      "text/plain": [
       "<Figure size 640x480 with 1 Axes>"
      ]
     },
     "metadata": {},
     "output_type": "display_data"
    }
   ],
   "source": [
    "\n",
    "import pandas as pd\n",
    "import matplotlib.pyplot as plt\n",
    "\n",
    "df=pd.read_csv('./prac data/company_sales_data.csv')\n",
    "\n",
    "plist=df['total_profit'].tolist()\n",
    "mlist=df['month_number'].tolist()\n",
    "\n",
    "plt.plot(mlist,plist,label='month wise profite chart',color='r',marker='o',markerfacecolor='k',linestyle='--',linewidth=3)\n",
    "\n",
    "\n",
    "plt.xlabel\n",
    "plt.ylabel\n",
    "plt.xticks(mlist)\n",
    "plt.yticks([100000,200000,300000,400000,500000])\n",
    "plt.title(\"new chart\")\n",
    "plt.legend(loc=4)\n",
    "plt.show"
   ]
  },
  {
   "cell_type": "code",
   "execution_count": null,
   "id": "999f3f6e",
   "metadata": {},
   "outputs": [],
   "source": [
    "plt.plot(mlist,plist,label='sdfsd',color='r',marker='o',markerfacecolor='k',linestyle='--', linewidth=3)"
   ]
  },
  {
   "cell_type": "code",
   "execution_count": 92,
   "id": "5cd26bb6",
   "metadata": {},
   "outputs": [
    {
     "data": {
      "text/html": [
       "<div>\n",
       "<style scoped>\n",
       "    .dataframe tbody tr th:only-of-type {\n",
       "        vertical-align: middle;\n",
       "    }\n",
       "\n",
       "    .dataframe tbody tr th {\n",
       "        vertical-align: top;\n",
       "    }\n",
       "\n",
       "    .dataframe thead th {\n",
       "        text-align: right;\n",
       "    }\n",
       "</style>\n",
       "<table border=\"1\" class=\"dataframe\">\n",
       "  <thead>\n",
       "    <tr style=\"text-align: right;\">\n",
       "      <th></th>\n",
       "      <th>month_number</th>\n",
       "      <th>facecream</th>\n",
       "      <th>facewash</th>\n",
       "      <th>toothpaste</th>\n",
       "      <th>bathingsoap</th>\n",
       "      <th>shampoo</th>\n",
       "      <th>moisturizer</th>\n",
       "      <th>total_units</th>\n",
       "      <th>total_profit</th>\n",
       "    </tr>\n",
       "  </thead>\n",
       "  <tbody>\n",
       "    <tr>\n",
       "      <th>0</th>\n",
       "      <td>1</td>\n",
       "      <td>2500</td>\n",
       "      <td>1500</td>\n",
       "      <td>5200</td>\n",
       "      <td>9200</td>\n",
       "      <td>1200</td>\n",
       "      <td>1500</td>\n",
       "      <td>21100</td>\n",
       "      <td>211000</td>\n",
       "    </tr>\n",
       "    <tr>\n",
       "      <th>1</th>\n",
       "      <td>2</td>\n",
       "      <td>2630</td>\n",
       "      <td>1200</td>\n",
       "      <td>5100</td>\n",
       "      <td>6100</td>\n",
       "      <td>2100</td>\n",
       "      <td>1200</td>\n",
       "      <td>18330</td>\n",
       "      <td>183300</td>\n",
       "    </tr>\n",
       "    <tr>\n",
       "      <th>2</th>\n",
       "      <td>3</td>\n",
       "      <td>2140</td>\n",
       "      <td>1340</td>\n",
       "      <td>4550</td>\n",
       "      <td>9550</td>\n",
       "      <td>3550</td>\n",
       "      <td>1340</td>\n",
       "      <td>22470</td>\n",
       "      <td>224700</td>\n",
       "    </tr>\n",
       "    <tr>\n",
       "      <th>3</th>\n",
       "      <td>4</td>\n",
       "      <td>3400</td>\n",
       "      <td>1130</td>\n",
       "      <td>5870</td>\n",
       "      <td>8870</td>\n",
       "      <td>1870</td>\n",
       "      <td>1130</td>\n",
       "      <td>22270</td>\n",
       "      <td>222700</td>\n",
       "    </tr>\n",
       "    <tr>\n",
       "      <th>4</th>\n",
       "      <td>5</td>\n",
       "      <td>3600</td>\n",
       "      <td>1740</td>\n",
       "      <td>4560</td>\n",
       "      <td>7760</td>\n",
       "      <td>1560</td>\n",
       "      <td>1740</td>\n",
       "      <td>20960</td>\n",
       "      <td>209600</td>\n",
       "    </tr>\n",
       "    <tr>\n",
       "      <th>5</th>\n",
       "      <td>6</td>\n",
       "      <td>2760</td>\n",
       "      <td>1555</td>\n",
       "      <td>4890</td>\n",
       "      <td>7490</td>\n",
       "      <td>1890</td>\n",
       "      <td>1555</td>\n",
       "      <td>20140</td>\n",
       "      <td>201400</td>\n",
       "    </tr>\n",
       "    <tr>\n",
       "      <th>6</th>\n",
       "      <td>7</td>\n",
       "      <td>2980</td>\n",
       "      <td>1120</td>\n",
       "      <td>4780</td>\n",
       "      <td>8980</td>\n",
       "      <td>1780</td>\n",
       "      <td>1120</td>\n",
       "      <td>29550</td>\n",
       "      <td>295500</td>\n",
       "    </tr>\n",
       "    <tr>\n",
       "      <th>7</th>\n",
       "      <td>8</td>\n",
       "      <td>3700</td>\n",
       "      <td>1400</td>\n",
       "      <td>5860</td>\n",
       "      <td>9960</td>\n",
       "      <td>2860</td>\n",
       "      <td>1400</td>\n",
       "      <td>36140</td>\n",
       "      <td>361400</td>\n",
       "    </tr>\n",
       "    <tr>\n",
       "      <th>8</th>\n",
       "      <td>9</td>\n",
       "      <td>3540</td>\n",
       "      <td>1780</td>\n",
       "      <td>6100</td>\n",
       "      <td>8100</td>\n",
       "      <td>2100</td>\n",
       "      <td>1780</td>\n",
       "      <td>23400</td>\n",
       "      <td>234000</td>\n",
       "    </tr>\n",
       "    <tr>\n",
       "      <th>9</th>\n",
       "      <td>10</td>\n",
       "      <td>1990</td>\n",
       "      <td>1890</td>\n",
       "      <td>8300</td>\n",
       "      <td>10300</td>\n",
       "      <td>2300</td>\n",
       "      <td>1890</td>\n",
       "      <td>26670</td>\n",
       "      <td>266700</td>\n",
       "    </tr>\n",
       "    <tr>\n",
       "      <th>10</th>\n",
       "      <td>11</td>\n",
       "      <td>2340</td>\n",
       "      <td>2100</td>\n",
       "      <td>7300</td>\n",
       "      <td>13300</td>\n",
       "      <td>2400</td>\n",
       "      <td>2100</td>\n",
       "      <td>41280</td>\n",
       "      <td>412800</td>\n",
       "    </tr>\n",
       "    <tr>\n",
       "      <th>11</th>\n",
       "      <td>12</td>\n",
       "      <td>2900</td>\n",
       "      <td>1760</td>\n",
       "      <td>7400</td>\n",
       "      <td>14400</td>\n",
       "      <td>1800</td>\n",
       "      <td>1760</td>\n",
       "      <td>30020</td>\n",
       "      <td>300200</td>\n",
       "    </tr>\n",
       "  </tbody>\n",
       "</table>\n",
       "</div>"
      ],
      "text/plain": [
       "    month_number  facecream  facewash  toothpaste  bathingsoap  shampoo  \\\n",
       "0              1       2500      1500        5200         9200     1200   \n",
       "1              2       2630      1200        5100         6100     2100   \n",
       "2              3       2140      1340        4550         9550     3550   \n",
       "3              4       3400      1130        5870         8870     1870   \n",
       "4              5       3600      1740        4560         7760     1560   \n",
       "5              6       2760      1555        4890         7490     1890   \n",
       "6              7       2980      1120        4780         8980     1780   \n",
       "7              8       3700      1400        5860         9960     2860   \n",
       "8              9       3540      1780        6100         8100     2100   \n",
       "9             10       1990      1890        8300        10300     2300   \n",
       "10            11       2340      2100        7300        13300     2400   \n",
       "11            12       2900      1760        7400        14400     1800   \n",
       "\n",
       "    moisturizer  total_units  total_profit  \n",
       "0          1500        21100        211000  \n",
       "1          1200        18330        183300  \n",
       "2          1340        22470        224700  \n",
       "3          1130        22270        222700  \n",
       "4          1740        20960        209600  \n",
       "5          1555        20140        201400  \n",
       "6          1120        29550        295500  \n",
       "7          1400        36140        361400  \n",
       "8          1780        23400        234000  \n",
       "9          1890        26670        266700  \n",
       "10         2100        41280        412800  \n",
       "11         1760        30020        300200  "
      ]
     },
     "execution_count": 92,
     "metadata": {},
     "output_type": "execute_result"
    }
   ],
   "source": [
    "import pandas as pd\n",
    "import numpy as np\n",
    "import matplotlib.pyplot as plt\n",
    "df=pd.read_csv(\".//prac data/company_sales_data.csv\")\n",
    "df"
   ]
  },
  {
   "cell_type": "code",
   "execution_count": 1,
   "id": "aed55798",
   "metadata": {},
   "outputs": [
    {
     "data": {
      "text/plain": [
       "<function matplotlib.pyplot.show(close=None, block=None)>"
      ]
     },
     "execution_count": 1,
     "metadata": {},
     "output_type": "execute_result"
    },
    {
     "data": {
      "image/png": "[encoded data removed]",
      "text/plain": [
       "<Figure size 640x480 with 1 Axes>"
      ]
     },
     "metadata": {},
     "output_type": "display_data"
    }
   ],
   "source": [
    "import pandas as pd\n",
    "import numpy as np\n",
    "import matplotlib.pyplot as plt\n",
    "df=pd.read_csv(\".//prac data/company_sales_data.csv\")\n",
    "fcream=df['facecream'].tolist()\n",
    "fwash=df['facewash'].tolist()\n",
    "tpaste=df['toothpaste'].tolist()\n",
    "bsoap=df['bathingsoap'].tolist()\n",
    "shampoo=df['shampoo'].tolist()\n",
    "mos=df['moisturizer'].tolist()\n",
    "mlist=df['month_number'].tolist()\n",
    "plt.plot(mlist,fcream,label='face cream',marker='o',linewidth=3)\n",
    "plt.plot(mlist,fwash,label='face cream',marker='o',linewidth=3)\n",
    "plt.plot(mlist,tpaste,label='face cream',marker='o',linewidth=3)\n",
    "plt.plot(mlist,bsoap,label='face cream',marker='o',linewidth=3)\n",
    "plt.plot(mlist,shampoo,label='face cream',marker='o',linewidth=3)\n",
    "plt.plot(mlist,mos,label='face cream',marker='o',linewidth=3)\n",
    "t='Month Number'\n",
    "plt.xlabel(t)\n",
    "plt.ylabel('sales')\n",
    "plt.grid(True)\n",
    "plt.legend(loc=4)\n",
    "plt.xticks(mlist)\n",
    "plt.title(\"sales data\")\n",
    "plt.show"
   ]
  },
  {
   "cell_type": "code",
   "execution_count": 2,
   "id": "372fc72d",
   "metadata": {},
   "outputs": [
    {
     "data": {
      "image/png": "[encoded data removed]",
      "text/plain": [
       "<Figure size 640x480 with 1 Axes>"
      ]
     },
     "metadata": {},
     "output_type": "display_data"
    }
   ],
   "source": [
    "df=pd.read_csv(\".//prac data/company_sales_data.csv\")\n",
    "mlist=df['month_number'].tolist()\n",
    "tpast=df['toothpaste'].tolist()\n",
    "plt.scatter(mlist,tpaste,label='tooth paste')\n",
    "plt.xlabel(\"month number\")\n",
    "plt.ylabel(\"tooth paste\")\n",
    "plt.legend(loc=4)\n",
    "plt.title('tooth paste sales')\n",
    "plt.xticks(mlist)\n",
    "plt.grid(True,linewidth=1,linestyle='--')\n",
    "plt.show()"
   ]
  },
  {
   "cell_type": "code",
   "execution_count": 12,
   "id": "633cf4ad",
   "metadata": {},
   "outputs": [
    {
     "data": {
      "text/plain": [
       "<function matplotlib.pyplot.show(close=None, block=None)>"
      ]
     },
     "execution_count": 12,
     "metadata": {},
     "output_type": "execute_result"
    },
    {
     "data": {
      "image/png": "[encoded data removed]",
      "text/plain": [
       "<Figure size 640x480 with 1 Axes>"
      ]
     },
     "metadata": {},
     "output_type": "display_data"
    }
   ],
   "source": [
    "df=pd.read_csv(\".//prac data/company_sales_data.csv\")\n",
    "mlist=df['month_number'].tolist()\n",
    "fcream=df['toothpaste'].tolist()\n",
    "fwash=df['facewash'].tolist()\n",
    "plt.bar([a-0.25 for a in mlist],fcream,width=0.25,align='edge',label='face cream')\n",
    "plt.bar([a+0.25 for a in mlist],fwash,width=-0.25,align='edge',label='fasce wash')\n",
    "plt.xlabel(\"month number\")\n",
    "plt.ylabel(\"sales\")\n",
    "plt.title(\"sales compare\")\n",
    "plt.grid(True)\n",
    "plt.legend(loc=1)\n",
    "plt.xticks(mlist)\n",
    "plt.savefig(\".//prac data/t.png\",dpi=150)\n",
    "plt.show\n"
   ]
  },
  {
   "cell_type": "code",
   "execution_count": 15,
   "id": "069e37ca",
   "metadata": {},
   "outputs": [
    {
     "data": {
      "text/plain": [
       "<function matplotlib.pyplot.show(close=None, block=None)>"
      ]
     },
     "execution_count": 15,
     "metadata": {},
     "output_type": "execute_result"
    },
    {
     "data": {
      "image/png": "[encoded data removed]",
      "text/plain": [
       "<Figure size 640x480 with 1 Axes>"
      ]
     },
     "metadata": {},
     "output_type": "display_data"
    }
   ],
   "source": [
    "df=pd.read_csv(\".//prac data/company_sales_data.csv\")\n",
    "plist=df['total_profit'].tolist()\n",
    "labels=['low','average','good','best']\n",
    "profit_range=[150000,175000,200000,225000,300000,350000]\n",
    "plt.hist(plist,profit_range,label='profit data')\n",
    "plt.show"
   ]
  },
  {
   "cell_type": "code",
   "execution_count": 14,
   "id": "a100c918",
   "metadata": {},
   "outputs": [
    {
     "data": {
      "text/plain": [
       "<function matplotlib.pyplot.hist(x, bins=None, range=None, density=False, weights=None, cumulative=False, bottom=None, histtype='bar', align='mid', orientation='vertical', rwidth=None, log=False, color=None, label=None, stacked=False, *, data=None, **kwargs)>"
      ]
     },
     "execution_count": 14,
     "metadata": {},
     "output_type": "execute_result"
    }
   ],
   "source": [
    "plt.plot\n",
    "plt.scatter\n",
    "plt.bar\n",
    "plt.savefig\n",
    "plt.hist"
   ]
  },
  {
   "cell_type": "code",
   "execution_count": 18,
   "id": "742e205a",
   "metadata": {},
   "outputs": [
    {
     "data": {
      "image/png": "[encoded data removed]",
      "text/plain": [
       "<Figure size 640x480 with 1 Axes>"
      ]
     },
     "metadata": {},
     "output_type": "display_data"
    }
   ],
   "source": [
    "df=pd.read_csv(\".//prac data/company_sales_data.csv\")\n",
    "mlist=df[\"month_number\"].tolist()\n",
    "saledata=[df['facecream'].sum(),df['facewash'].sum(),df['toothpaste'].sum(),df['bathingsoap'].sum(),df['shampoo'].sum(),df['moisturizer'].sum()]\n",
    "plt.axis(\"equal\")\n",
    "plt.pie(saledata,autopct='%1.1f%%')\n",
    "plt.show()"
   ]
  },
  {
   "cell_type": "code",
   "execution_count": 47,
   "id": "3b3f33fe",
   "metadata": {},
   "outputs": [
    {
     "name": "stdout",
     "output_type": "stream",
     "text": [
      "printing array\n",
      "[[    0     0]\n",
      " [    0 32752]\n",
      " [    0     0]\n",
      " [    0 32752]]\n",
      "(4, 2)\n",
      "2\n",
      "2\n"
     ]
    }
   ],
   "source": [
    "import numpy as np\n",
    "farray=np.empty([4,2],dtype=np.uint16)\n",
    "print('printing array')\n",
    "print(farray)\n",
    "print(farray.shape)\n",
    "print(farray.ndim)\n",
    "print(farray.itemsize)\n",
    "#farray=np.array([4,2],dtype)"
   ]
  },
  {
   "cell_type": "code",
   "execution_count": 48,
   "id": "631aa589",
   "metadata": {},
   "outputs": [
    {
     "name": "stdout",
     "output_type": "stream",
     "text": [
      "[[100 110]\n",
      " [120 130]\n",
      " [140 150]\n",
      " [160 170]\n",
      " [180 190]]\n"
     ]
    }
   ],
   "source": [
    "import numpy as np\n",
    "\n",
    "fa=np.arange(100,200,10)\n",
    "fa=fa.reshape(5,2)\n",
    "print(fa)\n",
    "\n"
   ]
  },
  {
   "cell_type": "code",
   "execution_count": 57,
   "id": "706ab4f9",
   "metadata": {},
   "outputs": [
    {
     "name": "stdout",
     "output_type": "stream",
     "text": [
      "array1 = [[  0.   0.]\n",
      " [  0. 480.]\n",
      " [640.   0.]]\n",
      "array2 = [[10 11 12 13 14]\n",
      " [15 16 17 18 19]]\n",
      "array3 = ['a' 'b']\n"
     ]
    }
   ],
   "source": [
    "f1=np.empty([3,2])\n",
    "f2=np.arange(10,20,1)\n",
    "f2=f2.reshape(2,5)\n",
    "print(f'array1 = {f1}')\n",
    "print(f'array2 = {f2}')\n",
    "a1=['a','b']\n",
    "f3=np.array(a1)\n",
    "print(f'array3 = {f3}')"
   ]
  },
  {
   "cell_type": "code",
   "execution_count": 66,
   "id": "95a9f6f6",
   "metadata": {},
   "outputs": [
    {
     "name": "stdout",
     "output_type": "stream",
     "text": [
      "[[11 22 33]\n",
      " [44 55 66]\n",
      " [77 88 99]]\n",
      "[33 66 99]\n",
      "[22 55 88]\n"
     ]
    }
   ],
   "source": [
    "sa=np.array([[11,22,33],[44,55,66],[77,88,99]])\n",
    "print(sa)\n",
    "sa1=sa[...,2]\n",
    "print(sa1)\n",
    "print(sa[...,1])"
   ]
  },
  {
   "cell_type": "code",
   "execution_count": 69,
   "id": "d9c149f0",
   "metadata": {},
   "outputs": [
    {
     "name": "stdout",
     "output_type": "stream",
     "text": [
      "[[ 3  6  9 12]\n",
      " [15 18 21 24]\n",
      " [27 30 33 36]\n",
      " [39 42 45 48]\n",
      " [51 54 57 60]]\n",
      "[[ 6 12]\n",
      " [30 36]\n",
      " [54 60]]\n"
     ]
    }
   ],
   "source": [
    "sampleArray = np.array([[3 ,6, 9, 12], [15 ,18, 21, 24], \n",
    "[27 ,30, 33, 36], [39 ,42, 45, 48], [51 ,54, 57, 60]])\n",
    "print(sampleArray)\n",
    "n1=sampleArray[::2,1::2]\n",
    "print(n1)\n",
    "\n"
   ]
  },
  {
   "cell_type": "code",
   "execution_count": 3,
   "id": "021de7f8",
   "metadata": {},
   "outputs": [
    {
     "name": "stdout",
     "output_type": "stream",
     "text": [
      "[[20 39 33]\n",
      " [25 25 28]]\n",
      "[[ 400 1521 1089]\n",
      " [ 625  625  784]]\n"
     ]
    }
   ],
   "source": [
    "import numpy as np\n",
    "arrayOne = np.array([[5, 6, 9], [21 ,18, 27]])\n",
    "arrayTwo = np.array([[15 ,33, 24], [4 ,7, 1]])\n",
    "res=arrayOne+arrayTwo\n",
    "print(res)\n",
    "n1=res**2\n",
    "print(n1)\n"
   ]
  },
  {
   "cell_type": "code",
   "execution_count": 8,
   "id": "3bf57304",
   "metadata": {},
   "outputs": [
    {
     "name": "stdout",
     "output_type": "stream",
     "text": [
      "[[10 11 12]\n",
      " [13 14 15]\n",
      " [16 17 18]\n",
      " [19 20 21]\n",
      " [22 23 24]\n",
      " [25 26 27]\n",
      " [28 29 30]\n",
      " [31 32 33]]\n",
      "[array([[10, 11, 12],\n",
      "       [13, 14, 15]]), array([[16, 17, 18],\n",
      "       [19, 20, 21]]), array([[22, 23, 24],\n",
      "       [25, 26, 27]]), array([[28, 29, 30],\n",
      "       [31, 32, 33]])]\n"
     ]
    }
   ],
   "source": [
    "n1=np.arange(10,34,1)\n",
    "n1=n1.reshape(8,3)\n",
    "print(n1)\n",
    "n2=np.split(n1,4)\n",
    "print(n2)"
   ]
  },
  {
   "cell_type": "code",
   "execution_count": 13,
   "id": "498b5fc6",
   "metadata": {},
   "outputs": [
    {
     "name": "stdout",
     "output_type": "stream",
     "text": [
      "[[34 43 73]\n",
      " [82 22 12]\n",
      " [53 94 66]]\n",
      "[[73 43 34]\n",
      " [12 22 82]\n",
      " [66 94 53]]\n",
      "[[43 34 73]\n",
      " [22 82 12]\n",
      " [94 53 66]]\n"
     ]
    }
   ],
   "source": [
    "sampleArray = np.array([[34,43,73],[82,22,12],[53,94,66]])\n",
    "print(sampleArray)\n",
    "N1=sampleArray[:,sampleArray[1,:].argsort()]\n",
    "print(N1)\n",
    "N2=sampleArray[:,sampleArray[:,1].argsort()]\n",
    "print(N2)"
   ]
  },
  {
   "cell_type": "code",
   "execution_count": 16,
   "id": "e3940df1",
   "metadata": {},
   "outputs": [
    {
     "name": "stdout",
     "output_type": "stream",
     "text": [
      "[[34 43 73]\n",
      " [82 22 12]\n",
      " [53 94 66]]\n",
      "[34 12 53]\n",
      "[82 94 73]\n"
     ]
    }
   ],
   "source": [
    "sampleArray = np.array([[34,43,73],[82,22,12],[53,94,66]])\n",
    "print(sampleArray)\n",
    "\n",
    "n1=np.amin(sampleArray,1)\n",
    "n2=np.amax(sampleArray,0)\n",
    "print(n1)\n",
    "print(n2)\n",
    "\n"
   ]
  },
  {
   "cell_type": "code",
   "execution_count": 18,
   "id": "82db51e8",
   "metadata": {},
   "outputs": [
    {
     "name": "stdout",
     "output_type": "stream",
     "text": [
      "[[34 73]\n",
      " [82 12]\n",
      " [53 66]]\n",
      "[[34 10 73]\n",
      " [82 10 12]\n",
      " [53 10 66]]\n"
     ]
    }
   ],
   "source": [
    "sampleArray = np.array([[34,43,73],[82,22,12],[53,94,66]]) \n",
    "newColumn = np.array([[10,10,10]])\n",
    "sampleArray=np.delete(sampleArray,1,axis=1)\n",
    "print(sampleArray)\n",
    "sampleArray=np.insert(sampleArray,1,newColumn,axis=1)\n",
    "print(sampleArray)\n"
   ]
  },
  {
   "cell_type": "code",
   "execution_count": 28,
   "id": "d6cf1ff2",
   "metadata": {},
   "outputs": [
    {
     "name": "stdout",
     "output_type": "stream",
     "text": [
      "{2, 3, 4, 5} <class 'set'>\n"
     ]
    },
    {
     "ename": "TypeError",
     "evalue": "unsupported operand type(s) for +: 'set' and 'set'",
     "output_type": "error",
     "traceback": [
      "\u001b[1;31m---------------------------------------------------------------------------\u001b[0m",
      "\u001b[1;31mTypeError\u001b[0m                                 Traceback (most recent call last)",
      "Cell \u001b[1;32mIn[28], line 3\u001b[0m\n\u001b[0;32m      1\u001b[0m set1\u001b[38;5;241m=\u001b[39m{\u001b[38;5;241m2\u001b[39m,\u001b[38;5;241m3\u001b[39m,\u001b[38;5;241m4\u001b[39m,\u001b[38;5;241m5\u001b[39m}\n\u001b[0;32m      2\u001b[0m \u001b[38;5;28mprint\u001b[39m(set1,\u001b[38;5;28mtype\u001b[39m(set1))\n\u001b[1;32m----> 3\u001b[0m set1\u001b[38;5;241m=\u001b[39mset1\u001b[38;5;241m+\u001b[39m{\u001b[38;5;241m7\u001b[39m}\n",
      "\u001b[1;31mTypeError\u001b[0m: unsupported operand type(s) for +: 'set' and 'set'"
     ]
    }
   ],
   "source": [
    "set1={2,3,4,5}\n",
    "print(set1,type(set1))\n",
    "set1=set1+{7}"
   ]
  },
  {
   "cell_type": "code",
   "execution_count": 46,
   "id": "86144989",
   "metadata": {},
   "outputs": [
    {
     "name": "stdout",
     "output_type": "stream",
     "text": [
      "{1, 2, 3, 4} <class 'set'>\n",
      "{'a': 1, 'b': 2} <class 'dict'>\n"
     ]
    }
   ],
   "source": [
    "set1={1,2,3}\n",
    "set2={'a':1,'b':2}\n",
    "set1.add(4)\n",
    "set1.add(4)\n",
    "print(set1,type(set1))\n",
    "print(set2,type(set2))"
   ]
  },
  {
   "cell_type": "code",
   "execution_count": 33,
   "id": "88aaa51c",
   "metadata": {},
   "outputs": [],
   "source": [
    "#pass=0\n",
    "eval=0\n",
    "#assert=0\n",
    "#nonlocal=0\n"
   ]
  },
  {
   "cell_type": "code",
   "execution_count": 48,
   "id": "b1d5f7fb",
   "metadata": {},
   "outputs": [
    {
     "name": "stdout",
     "output_type": "stream",
     "text": [
      "The value of a / b is : \n"
     ]
    },
    {
     "ename": "AssertionError",
     "evalue": "b cannot be zero",
     "output_type": "error",
     "traceback": [
      "\u001b[1;31m---------------------------------------------------------------------------\u001b[0m",
      "\u001b[1;31mAssertionError\u001b[0m                            Traceback (most recent call last)",
      "Cell \u001b[1;32mIn[48], line 6\u001b[0m\n\u001b[0;32m      4\u001b[0m \u001b[38;5;66;03m# using assert to check for 0\u001b[39;00m\n\u001b[0;32m      5\u001b[0m \u001b[38;5;28mprint\u001b[39m(\u001b[38;5;124m\"\u001b[39m\u001b[38;5;124mThe value of a / b is : \u001b[39m\u001b[38;5;124m\"\u001b[39m)\n\u001b[1;32m----> 6\u001b[0m \u001b[38;5;28;01massert\u001b[39;00m b \u001b[38;5;241m!=\u001b[39m \u001b[38;5;241m0\u001b[39m, \u001b[38;5;124m\"\u001b[39m\u001b[38;5;124mb cannot be zero\u001b[39m\u001b[38;5;124m\"\u001b[39m\n\u001b[0;32m      7\u001b[0m \u001b[38;5;28mprint\u001b[39m(a \u001b[38;5;241m/\u001b[39m b)\n",
      "\u001b[1;31mAssertionError\u001b[0m: b cannot be zero"
     ]
    }
   ],
   "source": [
    "a = 4\n",
    "b = 0\n",
    " \n",
    "# using assert to check for 0\n",
    "print(\"The value of a / b is : \")\n",
    "assert b != 0, \"b cannot be zero\"\n",
    "print(a / b)"
   ]
  },
  {
   "cell_type": "code",
   "execution_count": 43,
   "id": "9c17d0d1",
   "metadata": {},
   "outputs": [
    {
     "name": "stdout",
     "output_type": "stream",
     "text": [
      "set() <class 'set'>\n"
     ]
    }
   ],
   "source": [
    "naa=set()\n",
    "print(naa,type(naa))"
   ]
  },
  {
   "cell_type": "code",
   "execution_count": 53,
   "id": "1d604a0b",
   "metadata": {},
   "outputs": [
    {
     "name": "stdout",
     "output_type": "stream",
     "text": [
      "{'peter': 45}\n"
     ]
    }
   ],
   "source": [
    "d={\"john\":40,\"peter\":45}\n",
    "del d[\"john\"]\n",
    "print(d)"
   ]
  },
  {
   "cell_type": "code",
   "execution_count": 54,
   "id": "5221fa3a",
   "metadata": {},
   "outputs": [
    {
     "data": {
      "text/plain": [
       "2"
      ]
     },
     "execution_count": 54,
     "metadata": {},
     "output_type": "execute_result"
    }
   ],
   "source": [
    "d={\"john\":40,\"peter\":45}\n",
    "len(d)"
   ]
  },
  {
   "cell_type": "code",
   "execution_count": 55,
   "id": "6941ca19",
   "metadata": {},
   "outputs": [
    {
     "ename": "AttributeError",
     "evalue": "'dict' object has no attribute 'size'",
     "output_type": "error",
     "traceback": [
      "\u001b[1;31m---------------------------------------------------------------------------\u001b[0m",
      "\u001b[1;31mAttributeError\u001b[0m                            Traceback (most recent call last)",
      "Cell \u001b[1;32mIn[55], line 1\u001b[0m\n\u001b[1;32m----> 1\u001b[0m d\u001b[38;5;241m.\u001b[39msize()\n",
      "\u001b[1;31mAttributeError\u001b[0m: 'dict' object has no attribute 'size'"
     ]
    }
   ],
   "source": [
    "d.size()"
   ]
  },
  {
   "cell_type": "code",
   "execution_count": 56,
   "id": "e5384783",
   "metadata": {},
   "outputs": [
    {
     "name": "stdout",
     "output_type": "stream",
     "text": [
      "([2, 1], 'abc', 0, 9)\n"
     ]
    }
   ],
   "source": [
    "tupl=([2,3],\"abc\",0,9)\n",
    "tupl[0][1]=1\n",
    "print(tupl)"
   ]
  },
  {
   "cell_type": "code",
   "execution_count": 57,
   "id": "6d65c75d",
   "metadata": {},
   "outputs": [
    {
     "name": "stdout",
     "output_type": "stream",
     "text": [
      "[1, 3]\n"
     ]
    }
   ],
   "source": [
    "def fn(var1):\n",
    "    var1.pop(1)\n",
    "    \n",
    "var1=[1,2,3]\n",
    "fn(var1)\n",
    "print(var1)"
   ]
  },
  {
   "cell_type": "code",
   "execution_count": 59,
   "id": "f0c90c10",
   "metadata": {},
   "outputs": [
    {
     "name": "stdout",
     "output_type": "stream",
     "text": [
      "22\n",
      "12\n"
     ]
    }
   ],
   "source": [
    "def f1(var1):\n",
    "    var1=var1+10\n",
    "    print(var1)\n",
    "var1=12\n",
    "f1(var1)\n",
    "print(var1)"
   ]
  },
  {
   "cell_type": "code",
   "execution_count": 61,
   "id": "dd40b6a9",
   "metadata": {},
   "outputs": [
    {
     "name": "stdout",
     "output_type": "stream",
     "text": [
      "3  9\n"
     ]
    }
   ],
   "source": [
    "def f1(var1=5,var2=7):\n",
    "    var2=9\n",
    "    var1=3\n",
    "    print(var1,\"\",var2)\n",
    "f1(10,12)"
   ]
  },
  {
   "cell_type": "code",
   "execution_count": 63,
   "id": "95a3791a",
   "metadata": {},
   "outputs": [
    {
     "name": "stdout",
     "output_type": "stream",
     "text": [
      "6\n",
      "6\n",
      "5\n",
      "11\n"
     ]
    }
   ],
   "source": [
    "n=7\n",
    "c=0\n",
    "while(n):\n",
    "    if(n>5):\n",
    "        c=c+n-1\n",
    "        n=n-1\n",
    "    else:\n",
    "        break\n",
    "    print(n)\n",
    "    print(c)"
   ]
  },
  {
   "cell_type": "code",
   "execution_count": 65,
   "id": "e486c4f8",
   "metadata": {},
   "outputs": [],
   "source": [
    "for i in range(0,2,-1):\n",
    "    print(\"hello\")"
   ]
  },
  {
   "cell_type": "code",
   "execution_count": 66,
   "id": "88036077",
   "metadata": {},
   "outputs": [
    {
     "name": "stdout",
     "output_type": "stream",
     "text": [
      "pq\n"
     ]
    }
   ],
   "source": [
    "n='p'+'q' if '12'.isdigit() else 'r' + 's'\n",
    "print(n)"
   ]
  },
  {
   "cell_type": "code",
   "execution_count": 68,
   "id": "0989f488",
   "metadata": {},
   "outputs": [
    {
     "name": "stdout",
     "output_type": "stream",
     "text": [
      "False\n"
     ]
    }
   ],
   "source": [
    "print('kajal'.isdigit())"
   ]
  },
  {
   "cell_type": "code",
   "execution_count": 69,
   "id": "dba8e377",
   "metadata": {},
   "outputs": [
    {
     "name": "stdout",
     "output_type": "stream",
     "text": [
      "5\n",
      "3\n",
      "1\n"
     ]
    }
   ],
   "source": [
    "for i in range(5,0,-2):\n",
    "    print(i)"
   ]
  },
  {
   "cell_type": "code",
   "execution_count": 79,
   "id": "9df290b7",
   "metadata": {},
   "outputs": [
    {
     "name": "stdout",
     "output_type": "stream",
     "text": [
      "812\n"
     ]
    }
   ],
   "source": [
    "list1=[3,2,5,6,0,7,9]\n",
    "sum=0\n",
    "sum1=0\n",
    "for i in list1:\n",
    "    if (i % 2 ==0):\n",
    "        sum=sum+i\n",
    "        continue\n",
    "    if (i % 3 ==0):\n",
    "        sum1=sum1+i\n",
    "print(sum,end=\"\")\n",
    "print(sum1)"
   ]
  },
  {
   "cell_type": "code",
   "execution_count": 89,
   "id": "8353c56f",
   "metadata": {},
   "outputs": [
    {
     "name": "stdout",
     "output_type": "stream",
     "text": [
      "10\n",
      "1\n",
      "102\n",
      "10\n",
      "1023\n",
      "102\n",
      "201\n"
     ]
    }
   ],
   "source": [
    "dict1={'a':10,\"b\":2,\"c\":3}\n",
    "str1=\"\"\n",
    "for i in dict1:\n",
    "    str1=str1+str(dict1[i])+\"\"\n",
    "    print(str1)\n",
    "    str2=str1[:-1]\n",
    "    print(str2)\n",
    "print(str2[::-1])\n"
   ]
  },
  {
   "cell_type": "code",
   "execution_count": 91,
   "id": "76d04538",
   "metadata": {},
   "outputs": [
    {
     "name": "stdout",
     "output_type": "stream",
     "text": [
      "3201\n"
     ]
    }
   ],
   "source": [
    "s=\"1023\"\n",
    "d=s[::-1]\n",
    "print(d)"
   ]
  },
  {
   "cell_type": "code",
   "execution_count": 92,
   "id": "92baadea",
   "metadata": {},
   "outputs": [
    {
     "name": "stdout",
     "output_type": "stream",
     "text": [
      "11\n",
      "26\n",
      "1.75\n",
      "26.5\n"
     ]
    }
   ],
   "source": [
    "a=2\n",
    "b=4\n",
    "c=5\n",
    "d=4\n",
    "print(a+b+c)\n",
    "print(a+b*c+d)\n",
    "print(a/b+c/d)\n",
    "print(a+b*c+a/b+d)"
   ]
  },
  {
   "cell_type": "code",
   "execution_count": null,
   "id": "dbecde3e",
   "metadata": {},
   "outputs": [],
   "source": []
  }
 ],
 "metadata": {
  "kernelspec": {
   "display_name": "Python 3 (ipykernel)",
   "language": "python",
   "name": "python3"
  },
  "language_info": {
   "codemirror_mode": {
    "name": "ipython",
    "version": 3
   },
   "file_extension": ".py",
   "mimetype": "text/x-python",
   "name": "python",
   "nbconvert_exporter": "python",
   "pygments_lexer": "ipython3",
   "version": "3.11.5"
  }
 },
 "nbformat": 4,
 "nbformat_minor": 5
}
