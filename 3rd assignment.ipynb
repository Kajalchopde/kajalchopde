{
 "cells": [
  {
   "cell_type": "markdown",
   "id": "44b7f9ef",
   "metadata": {},
   "source": [
    "Q. Declare a complex number and store it in a variable. \n",
    "Check the type and print the id of the same. "
   ]
  },
  {
   "cell_type": "code",
   "execution_count": 1,
   "id": "118e8b01",
   "metadata": {},
   "outputs": [
    {
     "name": "stdout",
     "output_type": "stream",
     "text": [
      "<class 'complex'> 1792797232528\n"
     ]
    }
   ],
   "source": [
    "f=10+4j\n",
    "print(type(f),id(f))"
   ]
  },
  {
   "cell_type": "markdown",
   "id": "c1f41a14",
   "metadata": {},
   "source": [
    "Q. Arithmetic Operations on complex number \n",
    "Take two different complex numbers. \n",
    "Store them in two different variables. \n",
    "Do below operations on them:- \n",
    "   Find sum of both numbers \n",
    "   Find difference between them \n",
    "   Find the product of both numbers. \n",
    "   Find value after dividing first num with second number \n",
    "   Find the result of the first num to the power of the second number."
   ]
  },
  {
   "cell_type": "code",
   "execution_count": 3,
   "id": "d9e76a2a",
   "metadata": {},
   "outputs": [
    {
     "name": "stdout",
     "output_type": "stream",
     "text": [
      "(14+12j)\n",
      "(6-4j)\n",
      "(8+96j)\n",
      "(0.9-0.8j)\n",
      "(-74.21843422534752+636.7532749387462j)\n"
     ]
    }
   ],
   "source": [
    "a=10+4j\n",
    "b=4+8j\n",
    "c=a+b\n",
    "d=a-b\n",
    "e=a*b\n",
    "f=a/b\n",
    "g=a**b\n",
    "print(c)\n",
    "print(d)\n",
    "print(e)\n",
    "print(f)\n",
    "print(g)"
   ]
  },
  {
   "cell_type": "markdown",
   "id": "64852b65",
   "metadata": {},
   "source": [
    "Q. Comparison Operation not applicable between instance of complex \n",
    "values. \n",
    "Object reusability concept is not applicable on complex number"
   ]
  },
  {
   "cell_type": "markdown",
   "id": "9c54a898",
   "metadata": {},
   "source": [
    "Q. Equality Operator \n",
    "Take two different complex numbers. \n",
    "Store them in two different variables. \n",
    "Equate them using equality operators (==, !=) \n",
    "Observe the output(return type should be boolean)"
   ]
  },
  {
   "cell_type": "code",
   "execution_count": 5,
   "id": "19ec8099",
   "metadata": {},
   "outputs": [
    {
     "name": "stdout",
     "output_type": "stream",
     "text": [
      "False\n",
      "True\n"
     ]
    }
   ],
   "source": [
    "a=9+2j\n",
    "b=10+4j\n",
    "print(a==b)\n",
    "print(a!=b)\n"
   ]
  },
  {
   "cell_type": "markdown",
   "id": "4ad7f10d",
   "metadata": {},
   "source": [
    " Logical operators \n",
    "Observe the output of below code \n",
    "Cross check the output manually \n",
    " \n",
    "print(10+20j and 20+30j)    #20+30j \n",
    "#----------------------------------------->Output is 20+30j \n",
    " \n",
    "print(0+0j and 20+30j)      #0+0j \n",
    "#----------------------------------------->Output is 0j \n",
    " \n",
    "print(20+30j and 0+0j)      #0+0j \n",
    "#----------------------------------------->Output is 0j \n",
    " \n",
    "print(0+0j and 0+0j)        #0+0j \n",
    "#----------------------------------------->Output is 0j \n",
    " \n",
    "print(10+20j or 20+30j)     #10+20j \n",
    "#----------------------------------------->Output is 10+20j \n",
    " \n",
    "print(0+0j or 20+30j)       #20+30j \n",
    "#----------------------------------------->Output is 20+30j \n",
    " \n",
    "print(20+30j or 0+0j)       #20+30j \n",
    "#----------------------------------------->Output is 20+30j \n",
    " \n",
    "print(0+0j or 0+0j)         #0+0j \n",
    "#----------------------------------------->Output is 0j \n",
    " \n",
    "print(not 10+20j)           #False \n",
    "#----------------------------------------->Output is False \n",
    " \n",
    "print(not 0+0j)             #True \n",
    "#----------------------------------------->Output is True "
   ]
  },
  {
   "cell_type": "code",
   "execution_count": 6,
   "id": "612ba2eb",
   "metadata": {},
   "outputs": [
    {
     "name": "stdout",
     "output_type": "stream",
     "text": [
      "(20+30j)\n",
      "0j\n",
      "0j\n",
      "0j\n",
      "(10+20j)\n",
      "(20+30j)\n",
      "(20+30j)\n",
      "0j\n",
      "False\n",
      "True\n"
     ]
    }
   ],
   "source": [
    "print(10+20j and 20+30j) \n",
    "\n",
    "print(0+0j and 20+30j)  \n",
    "print(20+30j and 0+0j)  \n",
    "print(20+30j and 0+0j)  \n",
    "print(10+20j or 20+30j) \n",
    "print(0+0j or 20+30j)  \n",
    "print(20+30j or 0+0j)\n",
    "print(0+0j or 0+0j)  \n",
    "print(not 10+20j) \n",
    "print(not 0+0j) "
   ]
  },
  {
   "cell_type": "markdown",
   "id": "eddc1d3a",
   "metadata": {},
   "source": [
    "Q. What is the output of the expression inside the print statement. \n",
    "Cross check before running the program. \n",
    "a = 10+20j \n",
    "b = 10+20j \n",
    "print(a is b)       #False   #True or False? \n",
    "print(a is not b)   #True   #True or False? "
   ]
  },
  {
   "cell_type": "code",
   "execution_count": 8,
   "id": "afac8e31",
   "metadata": {},
   "outputs": [
    {
     "name": "stdout",
     "output_type": "stream",
     "text": [
      "False\n",
      "True\n"
     ]
    }
   ],
   "source": [
    "a=10+20j\n",
    "b=10+20j\n",
    "print(a is b)\n",
    "print(a is not b)"
   ]
  },
  {
   "cell_type": "markdown",
   "id": "0499dcbe",
   "metadata": {},
   "source": [
    "Q. Membership operation \n",
    "in, not in are two membership operators and it returns boolean value \n",
    "print('2.7' in 'Python2.7.8')                      #True \n",
    "print(10+20j in [10,10.20,10+20j,'Python'])        #True \n",
    "print(10+20j in (10,10.20,10+20j,'Python'))        #True \n",
    "print(30+40j in {1,20.30,30+40j})                  #True \n",
    "print(30+40j in {1:100, 2.3:200, 30+40j:300})      #True \n",
    "print(10 in range(20)) "
   ]
  },
  {
   "cell_type": "code",
   "execution_count": 9,
   "id": "b26575d3",
   "metadata": {},
   "outputs": [
    {
     "name": "stdout",
     "output_type": "stream",
     "text": [
      "True\n",
      "True\n",
      "True\n",
      "True\n",
      "True\n",
      "True\n"
     ]
    }
   ],
   "source": [
    "print('2.7' in 'Python2.7.8')                      #True \n",
    "print(10+20j in [10,10.20,10+20j,'Python'])        #True \n",
    "print(10+20j in (10,10.20,10+20j,'Python'))        #True \n",
    "print(30+40j in {1,20.30,30+40j})                  #True \n",
    "print(30+40j in {1:100, 2.3:200, 30+40j:300})      #True \n",
    "print(10 in range(20))"
   ]
  },
  {
   "cell_type": "code",
   "execution_count": null,
   "id": "ed7c13ab",
   "metadata": {},
   "outputs": [],
   "source": []
  },
  {
   "cell_type": "code",
   "execution_count": null,
   "id": "bf138440",
   "metadata": {},
   "outputs": [],
   "source": []
  }
 ],
 "metadata": {
  "kernelspec": {
   "display_name": "Python 3 (ipykernel)",
   "language": "python",
   "name": "python3"
  },
  "language_info": {
   "codemirror_mode": {
    "name": "ipython",
    "version": 3
   },
   "file_extension": ".py",
   "mimetype": "text/x-python",
   "name": "python",
   "nbconvert_exporter": "python",
   "pygments_lexer": "ipython3",
   "version": "3.11.5"
  }
 },
 "nbformat": 4,
 "nbformat_minor": 5
}
