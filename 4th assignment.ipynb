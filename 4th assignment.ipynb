{
 "cells": [
  {
   "cell_type": "markdown",
   "id": "86054722",
   "metadata": {},
   "source": [
    "Q. Declare a boolean value and store it in a variable. \n",
    "Check the type and print the id of the same. "
   ]
  },
  {
   "cell_type": "code",
   "execution_count": 1,
   "id": "3de1e583",
   "metadata": {},
   "outputs": [
    {
     "name": "stdout",
     "output_type": "stream",
     "text": [
      "<class 'bool'> 140710326381088\n"
     ]
    }
   ],
   "source": [
    "a= True\n",
    "print(type(a),id(a))\n"
   ]
  },
  {
   "cell_type": "markdown",
   "id": "ab7eaf21",
   "metadata": {},
   "source": [
    "Q. Take one boolean value between 0 - 256. \n",
    "Assign it to two different variables. \n",
    "Check the id of both the variables. It should come the same. Check why?"
   ]
  },
  {
   "cell_type": "code",
   "execution_count": 3,
   "id": "44f57d81",
   "metadata": {},
   "outputs": [
    {
     "name": "stdout",
     "output_type": "stream",
     "text": [
      "140710326381088 140710326381088 <class 'bool'>\n"
     ]
    }
   ],
   "source": [
    "a=bool(2)\n",
    "b=a\n",
    "c=a\n",
    "print(id(b),id(c),type(b))"
   ]
  },
  {
   "cell_type": "markdown",
   "id": "49380e97",
   "metadata": {},
   "source": [
    "Q. Arithmetic Operations on boolean data \n",
    "Take two different boolean values. \n",
    "Store them in two different variables. \n",
    "Do below operations on them:- \n",
    "   Find sum of both values \n",
    "   Find difference between them \n",
    "   Find the product of both. \n",
    "   Find value after dividing first value with second value \n",
    "   Find the remainder after dividing first value with second value \n",
    "   Find the quotient after dividing first value with second value \n",
    "   Find the result of first value to the power of second value."
   ]
  },
  {
   "cell_type": "code",
   "execution_count": 6,
   "id": "934355e8",
   "metadata": {},
   "outputs": [
    {
     "name": "stdout",
     "output_type": "stream",
     "text": [
      "1\n",
      "-1\n",
      "0\n",
      "0.0\n",
      "0\n",
      "0\n",
      "0\n"
     ]
    }
   ],
   "source": [
    "a=False\n",
    "b=True\n",
    "c=a+b\n",
    "d=a-b\n",
    "e=a*b\n",
    "f=a/b\n",
    "g=a%b\n",
    "h=a//b\n",
    "i=a**b\n",
    "print(c)\n",
    "print(d)\n",
    "print(e)\n",
    "print(f)\n",
    "print(g)\n",
    "print(h)\n",
    "print(i)"
   ]
  },
  {
   "cell_type": "markdown",
   "id": "abd37678",
   "metadata": {},
   "source": [
    "Q. Comparison Operators on boolean values \n",
    "Take two different boolean values. \n",
    "Store them in two different variables. \n",
    "Do below operations on them:- \n",
    "   Compare these two values with below operator:- \n",
    "       Greater than, '>' \n",
    "       less than, '<' \n",
    "       Greater than or equal to, '>=' \n",
    "       Less than or equal to, '<='  \n",
    "Observe their output(return type should be boolean)"
   ]
  },
  {
   "cell_type": "code",
   "execution_count": 8,
   "id": "f6ed5ef1",
   "metadata": {},
   "outputs": [
    {
     "name": "stdout",
     "output_type": "stream",
     "text": [
      "True\n",
      "False\n",
      "True\n",
      "False\n"
     ]
    }
   ],
   "source": [
    "a=True\n",
    "b=False\n",
    "print(a>b)\n",
    "print(a<b)\n",
    "print(a>=b)\n",
    "print(a<=b)\n"
   ]
  },
  {
   "cell_type": "markdown",
   "id": "50773439",
   "metadata": {},
   "source": [
    "Q. Equality Operator \n",
    "Take two different boolean values. \n",
    "Store them in two different variables. \n",
    "Equate them using equality operators (==, !=) \n",
    "Observe the output(return type should be boolean)"
   ]
  },
  {
   "cell_type": "code",
   "execution_count": 9,
   "id": "7804dcf2",
   "metadata": {},
   "outputs": [
    {
     "name": "stdout",
     "output_type": "stream",
     "text": [
      "False\n",
      "True\n"
     ]
    }
   ],
   "source": [
    "a= True\n",
    "b= False\n",
    "print(a==b)\n",
    "print(a!=b)\n"
   ]
  },
  {
   "cell_type": "markdown",
   "id": "03bf4b4b",
   "metadata": {},
   "source": [
    "Q. Logical operators \n",
    "Observe the output of below code \n",
    "Cross check the output manually \n",
    " \n",
    "print(True and True) \n",
    "#----------------------------------------->Output is True \n",
    "print(False and True) \n",
    "#----------------------------------------->Output is False \n",
    " \n",
    "print(True and False) \n",
    "#----------------------------------------->Output is False \n",
    " \n",
    "print(False and False) \n",
    "#----------------------------------------->Output is False \n",
    " \n",
    "print(True or True) \n",
    "#----------------------------------------->Output is True \n",
    " \n",
    "print(False or True) \n",
    "#----------------------------------------->Output is True \n",
    " \n",
    "print(True or False) \n",
    "#----------------------------------------->Output is True \n",
    " \n",
    "print(False or False) \n",
    "#----------------------------------------->Output is False \n",
    " \n",
    "print(not True) \n",
    "#----------------------------------------->Output is False \n",
    " \n",
    "print(not False) \n",
    "#----------------------------------------->Output is True "
   ]
  },
  {
   "cell_type": "code",
   "execution_count": 10,
   "id": "e838a7fb",
   "metadata": {},
   "outputs": [
    {
     "name": "stdout",
     "output_type": "stream",
     "text": [
      "True\n",
      "False\n",
      "False\n",
      "False\n",
      "True\n",
      "True\n",
      "True\n",
      "False\n",
      "False\n",
      "True\n"
     ]
    }
   ],
   "source": [
    "print(True and True) \n",
    "print(False and True) \n",
    "print(True and False) \n",
    "print(False and False) \n",
    "print(True or True) \n",
    "print(False or True) \n",
    "print(True or False) \n",
    "print(False or False) \n",
    "print(not True) \n",
    "print(not False) \n"
   ]
  },
  {
   "cell_type": "code",
   "execution_count": null,
   "id": "84ca43c0",
   "metadata": {},
   "outputs": [],
   "source": [
    "Q. Bitwise Operators \n",
    "Do below operations on the values provided below:- \n",
    "   Bitwise and(&) --------------> True, True    -------> Output is True \n",
    "   Bitwise or(|)  --------------> True, False   -------> Output is True \n",
    "   Bitwise(^)     --------------> True, False   -------> Output is True \n",
    "   Bitwise negation(~) ---------> True          -------> Output is -2 \n",
    "   Bitwise left shift  ---------> True,2        -------> Output is 4 \n",
    "   Bitwise right shift ---------> True,2        -------> Output is 0 \n",
    "Cross check the output manually "
   ]
  },
  {
   "cell_type": "code",
   "execution_count": 13,
   "id": "c72d5f54",
   "metadata": {},
   "outputs": [
    {
     "name": "stdout",
     "output_type": "stream",
     "text": [
      "True\n"
     ]
    }
   ],
   "source": [
    "print (True & True)"
   ]
  },
  {
   "cell_type": "code",
   "execution_count": 16,
   "id": "3c3fde2a",
   "metadata": {},
   "outputs": [
    {
     "name": "stdout",
     "output_type": "stream",
     "text": [
      "True\n"
     ]
    }
   ],
   "source": [
    "print (True | False)"
   ]
  },
  {
   "cell_type": "code",
   "execution_count": 17,
   "id": "bcec6b93",
   "metadata": {},
   "outputs": [
    {
     "name": "stdout",
     "output_type": "stream",
     "text": [
      "True\n"
     ]
    }
   ],
   "source": [
    "print(True^False)"
   ]
  },
  {
   "cell_type": "code",
   "execution_count": 18,
   "id": "81077201",
   "metadata": {},
   "outputs": [
    {
     "name": "stdout",
     "output_type": "stream",
     "text": [
      "-2\n"
     ]
    }
   ],
   "source": [
    "print(~True)"
   ]
  },
  {
   "cell_type": "code",
   "execution_count": 19,
   "id": "bb86595e",
   "metadata": {},
   "outputs": [
    {
     "name": "stdout",
     "output_type": "stream",
     "text": [
      "4\n"
     ]
    }
   ],
   "source": [
    "print(True<<2)"
   ]
  },
  {
   "cell_type": "code",
   "execution_count": 20,
   "id": "44b8f8e7",
   "metadata": {},
   "outputs": [
    {
     "name": "stdout",
     "output_type": "stream",
     "text": [
      "0\n"
     ]
    }
   ],
   "source": [
    "print(True>>2)"
   ]
  },
  {
   "cell_type": "markdown",
   "id": "6af296ac",
   "metadata": {},
   "source": [
    "Q. What is the output of expression inside the print statement. Cross \n",
    "check before running the program. \n",
    "a = True \n",
    "b = True \n",
    "print(a is b)          #True or False?   # \n",
    "print(a is not b)      #True or False? \n",
    " \n",
    "a = False \n",
    "b = False \n",
    "print(a is b)          #True or False? \n",
    "print(a is not b)      #True or False? "
   ]
  },
  {
   "cell_type": "code",
   "execution_count": 21,
   "id": "982059ad",
   "metadata": {},
   "outputs": [
    {
     "name": "stdout",
     "output_type": "stream",
     "text": [
      "True\n",
      "False\n"
     ]
    }
   ],
   "source": [
    "a=True\n",
    "b=True\n",
    "print(a is b)\n",
    "print(a is not b)\n"
   ]
  },
  {
   "cell_type": "code",
   "execution_count": 22,
   "id": "ef8dffd5",
   "metadata": {},
   "outputs": [
    {
     "name": "stdout",
     "output_type": "stream",
     "text": [
      "True\n",
      "False\n"
     ]
    }
   ],
   "source": [
    "a=False\n",
    "b=False\n",
    "print(a is b)\n",
    "print(a is not b)"
   ]
  },
  {
   "cell_type": "markdown",
   "id": "9d2d1ba5",
   "metadata": {},
   "source": [
    "Q. Membership operation \n",
    "in, not in are two membership operators and it returns boolean value \n",
    " \n",
    "print(True in [10,10.20,10+20j,'Python', True]) \n",
    "print(False in (10,10.20,10+20j,'Python', False)) \n",
    "print(True in {1,2,3, True}) \n",
    "print(True in {True:100, False:200, True:300}) \n",
    "print(False in {True:100, False:200, True:300})"
   ]
  },
  {
   "cell_type": "code",
   "execution_count": 23,
   "id": "5f9b7dff",
   "metadata": {},
   "outputs": [
    {
     "name": "stdout",
     "output_type": "stream",
     "text": [
      "True\n",
      "True\n",
      "True\n",
      "True\n",
      "True\n"
     ]
    }
   ],
   "source": [
    "print(True in [10,10.20,10+20j,'Python', True]) \n",
    "print(False in (10,10.20,10+20j,'Python', False)) \n",
    "print(True in {1,2,3, True}) \n",
    "print(True in {True:100, False:200, True:300}) \n",
    "print(False in {True:100, False:200, True:300})"
   ]
  },
  {
   "cell_type": "code",
   "execution_count": null,
   "id": "ff65b044",
   "metadata": {},
   "outputs": [],
   "source": []
  }
 ],
 "metadata": {
  "kernelspec": {
   "display_name": "Python 3 (ipykernel)",
   "language": "python",
   "name": "python3"
  },
  "language_info": {
   "codemirror_mode": {
    "name": "ipython",
    "version": 3
   },
   "file_extension": ".py",
   "mimetype": "text/x-python",
   "name": "python",
   "nbconvert_exporter": "python",
   "pygments_lexer": "ipython3",
   "version": "3.11.5"
  }
 },
 "nbformat": 4,
 "nbformat_minor": 5
}
