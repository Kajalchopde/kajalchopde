{
 "cells": [
  {
   "cell_type": "code",
   "execution_count": 2,
   "id": "a3ba209d",
   "metadata": {},
   "outputs": [
    {
     "name": "stdout",
     "output_type": "stream",
     "text": [
      "sum of 5 and 3 is 8\n"
     ]
    }
   ],
   "source": [
    "num1=5\n",
    "num2=3\n",
    "sum=num1+num2\n",
    "print(f'sum of {num1} and {num2} is {sum}')"
   ]
  },
  {
   "cell_type": "code",
   "execution_count": 3,
   "id": "da15d6cd",
   "metadata": {},
   "outputs": [
    {
     "name": "stdout",
     "output_type": "stream",
     "text": [
      "Enter first number :-1\n",
      "\n",
      "Enter first number :-2\n",
      "sum of 1.0 and 2.0 is 3.0\n"
     ]
    }
   ],
   "source": [
    "num1=float(input('Enter first number :-'))\n",
    "num2=float(input('\\nEnter first number :-'))\n",
    "sum=num1+num2\n",
    "print(f'sum of {num1} and {num2} is {sum}')"
   ]
  },
  {
   "cell_type": "code",
   "execution_count": 5,
   "id": "3819f5ed",
   "metadata": {},
   "outputs": [
    {
     "name": "stdout",
     "output_type": "stream",
     "text": [
      "Enter first number :-1\n",
      "\n",
      "Enter first number :-1\n",
      "sum of 1.0 and 1.0 is 2.0\n"
     ]
    }
   ],
   "source": [
    "def sum1(a,b):\n",
    "    sum=a+b\n",
    "    return print(f'sum of {num1} and {num2} is {sum}')\n",
    "num1=float(input('Enter first number :-'))\n",
    "num2=float(input('\\nEnter first number :-'))\n",
    "sum1(num1,num2)\n"
   ]
  },
  {
   "cell_type": "code",
   "execution_count": 6,
   "id": "98c6eff8",
   "metadata": {},
   "outputs": [
    {
     "name": "stdout",
     "output_type": "stream",
     "text": [
      "Enter first number :-1\n",
      "\n",
      "Enter first number :-1\n",
      "sum of 1.0 and 1.0 is 2.0\n"
     ]
    }
   ],
   "source": [
    "import operator\n",
    "num1=float(input('Enter first number :-'))\n",
    "num2=float(input('\\nEnter first number :-'))\n",
    "sum=operator.add(num1,num2)\n",
    "print(f'sum of {num1} and {num2} is {sum}')"
   ]
  },
  {
   "cell_type": "code",
   "execution_count": 16,
   "id": "6d3b3a89",
   "metadata": {},
   "outputs": [
    {
     "name": "stdout",
     "output_type": "stream",
     "text": [
      "Enter first number :-1\n",
      "\n",
      "Enter first number :-1\n",
      "sum of 1.0 and 1.0 is 2.0\n"
     ]
    }
   ],
   "source": [
    "sum=lambda a,b: print(f'sum of {a} and {b} is {a+b}')\n",
    "num1=float(input('Enter first number :-'))\n",
    "num2=float(input('\\nEnter first number :-'))\n",
    "sum(num1,num2)\n",
    "\n"
   ]
  },
  {
   "cell_type": "code",
   "execution_count": 20,
   "id": "f7f559de",
   "metadata": {},
   "outputs": [
    {
     "name": "stdout",
     "output_type": "stream",
     "text": [
      "Enter first number :-11\n",
      "\n",
      "Enter first number :-10\n",
      "The sum of 11.0 and 10.0 is 21.0\n"
     ]
    }
   ],
   "source": [
    "#recursive function to add 2 number\n",
    "def addrec(num1,num2):\n",
    "    if num2==0:\n",
    "        return num1\n",
    "    else:\n",
    "        return addrec(num1+1,num2-1)\n",
    "\n",
    "num1=float(input('Enter first number :-'))\n",
    "num2=float(input('\\nEnter first number :-'))\n",
    "rst=addrec(num1,num2)\n",
    "print(f'The sum of {num1} and {num2} is {rst}')\n"
   ]
  },
  {
   "cell_type": "code",
   "execution_count": 22,
   "id": "aed25cfa",
   "metadata": {},
   "outputs": [
    {
     "name": "stdout",
     "output_type": "stream",
     "text": [
      "Maximum number out of 2 and 5 is 5\n"
     ]
    }
   ],
   "source": [
    "a=2\n",
    "b=5\n",
    "if a>=b:\n",
    "    print(f'Maximum number out of {a} and {b} is {a}')\n",
    "else:\n",
    "    print(f'Maximum number out of {a} and {b} is {b}')\n",
    "\n",
    " "
   ]
  },
  {
   "cell_type": "code",
   "execution_count": 24,
   "id": "55ea76ae",
   "metadata": {},
   "outputs": [
    {
     "name": "stdout",
     "output_type": "stream",
     "text": [
      "Maximum number out of 2 and 5 is 5\n"
     ]
    }
   ],
   "source": [
    "a=2\n",
    "b=5\n",
    "x=max(a,b)\n",
    "print(f'Maximum number out of {a} and {b} is {x}')"
   ]
  },
  {
   "cell_type": "code",
   "execution_count": 25,
   "id": "d1f83aa8",
   "metadata": {},
   "outputs": [
    {
     "name": "stdout",
     "output_type": "stream",
     "text": [
      "Enter first number :-11\n",
      "\n",
      "Enter first number :-12\n",
      "12.0\n"
     ]
    }
   ],
   "source": [
    "#max number using ternary operator\n",
    "num1=float(input('Enter first number :-'))\n",
    "num2=float(input('\\nEnter first number :-'))\n",
    "print(num1 if num1>=num2 else num2)"
   ]
  },
  {
   "cell_type": "code",
   "execution_count": 28,
   "id": "87b0ac18",
   "metadata": {},
   "outputs": [
    {
     "name": "stdout",
     "output_type": "stream",
     "text": [
      "Enter first number :-11\n",
      "\n",
      "Enter first number :-0\n",
      "Maximum number out of 11.0 and 0.0 is 11.0\n"
     ]
    }
   ],
   "source": [
    "num1=float(input('Enter first number :-'))\n",
    "num2=float(input('\\nEnter first number :-'))\n",
    "x=lambda num1,num2:num1  if num1>=num2 else num2\n",
    "print(f'Maximum number out of {num1} and {num2} is {x(num1,num2)}')"
   ]
  },
  {
   "cell_type": "code",
   "execution_count": 29,
   "id": "ac541e48",
   "metadata": {},
   "outputs": [
    {
     "name": "stdout",
     "output_type": "stream",
     "text": [
      "Enter first number :-11\n",
      "\n",
      "Enter first number :-12\n",
      "Maximum number out of 11.0 and 12.0 is [12.0]\n"
     ]
    }
   ],
   "source": [
    "num1=float(input('Enter first number :-'))\n",
    "num2=float(input('\\nEnter first number :-'))\n",
    "x=[num1 if num1>=num2 else num2]\n",
    "print(f'Maximum number out of {num1} and {num2} is {x}')"
   ]
  },
  {
   "cell_type": "code",
   "execution_count": 33,
   "id": "fbd12dfc",
   "metadata": {},
   "outputs": [
    {
     "name": "stdout",
     "output_type": "stream",
     "text": [
      "Enter first number :-0\n",
      "\n",
      "Enter first number :--1\n",
      "0.0\n"
     ]
    }
   ],
   "source": [
    "num1=float(input('Enter first number :-'))\n",
    "num2=float(input('\\nEnter first number :-'))\n",
    "x=[num1,num2]\n",
    "x.sort()\n",
    "print(x[-1])"
   ]
  },
  {
   "cell_type": "code",
   "execution_count": null,
   "id": "260e37e5",
   "metadata": {},
   "outputs": [],
   "source": [
    "#if else\n",
    "#ternory\n",
    "#comprehension\n",
    "#function\n",
    "#max function\n",
    "#sort  method"
   ]
  },
  {
   "cell_type": "code",
   "execution_count": 34,
   "id": "9f74d68d",
   "metadata": {},
   "outputs": [
    {
     "name": "stdout",
     "output_type": "stream",
     "text": [
      "Enter first number :-10\n",
      "Factorial of  10.0 is 3628800.0\n"
     ]
    }
   ],
   "source": [
    "#factorial\n",
    "def fact(n):\n",
    "        return 1 if (n==1 or n==0) else n * fact(n-1)\n",
    "num1=float(input('Enter first number :-'))\n",
    "print('Factorial of ',num1,'is',fact(num1))"
   ]
  },
  {
   "cell_type": "code",
   "execution_count": 52,
   "id": "b96c38fc",
   "metadata": {},
   "outputs": [
    {
     "name": "stdout",
     "output_type": "stream",
     "text": [
      "Enter first number :-50\n",
      "Factorial of 50 is 30414093201713378043612608166064768844377641568960512000000000000\n"
     ]
    }
   ],
   "source": [
    "#factorial using iterative\n",
    "def fact(n):\n",
    "    if n<=0:\n",
    "        return 0\n",
    "    elif n==0 or n==1:\n",
    "        return 1\n",
    "    else:\n",
    "        fact=1\n",
    "        while (n>1):\n",
    "            fact *= n\n",
    "            n-=1\n",
    "        return fact\n",
    "num1=int(input('Enter first number :-'))\n",
    "print(f'Factorial of {num1} is {fact(num1)}')\n",
    "    \n"
   ]
  },
  {
   "cell_type": "code",
   "execution_count": 55,
   "id": "2f21147b",
   "metadata": {},
   "outputs": [
    {
     "name": "stdout",
     "output_type": "stream",
     "text": [
      "Enter first number :-1\n",
      "Factorial of 1 is 1\n"
     ]
    }
   ],
   "source": [
    "def fact(n):\n",
    "    res=1\n",
    "    for i in range(2,n+1):\n",
    "        res *=i\n",
    "    return res\n",
    "\n",
    "num1=int(input('Enter first number :-'))\n",
    "print(f'Factorial of {num1} is {fact(num1)}')"
   ]
  },
  {
   "cell_type": "code",
   "execution_count": 56,
   "id": "fe48b561",
   "metadata": {},
   "outputs": [
    {
     "name": "stdout",
     "output_type": "stream",
     "text": [
      "Enter first number :-3\n",
      "Factorial of 3 is 6\n"
     ]
    }
   ],
   "source": [
    "def fact(n):\n",
    "    return 1 if (n==1 or n==0) else n*fact(n-1)\n",
    "\n",
    "num1=int(input('Enter first number :-'))\n",
    "print(f'Factorial of {num1} is {fact(num1)}')\n"
   ]
  },
  {
   "cell_type": "code",
   "execution_count": 57,
   "id": "c95dad84",
   "metadata": {},
   "outputs": [
    {
     "name": "stdout",
     "output_type": "stream",
     "text": [
      "Enter first number :-5\n",
      "Factorial of 5 is 120\n"
     ]
    }
   ],
   "source": [
    "import math\n",
    "def fact(n):\n",
    "    return (math.factorial(n))\n",
    "\n",
    "num1=int(input('Enter first number :-'))\n",
    "print(f'Factorial of {num1} is {fact(num1)}')\n"
   ]
  },
  {
   "cell_type": "code",
   "execution_count": 58,
   "id": "7a1ed505",
   "metadata": {},
   "outputs": [
    {
     "name": "stdout",
     "output_type": "stream",
     "text": [
      "Enter first number :-3\n",
      "Factorial of 3 is 6\n"
     ]
    }
   ],
   "source": [
    "import numpy as np\n",
    "num1=int(input('Enter first number :-'))\n",
    "x=np.prod([i for i in range(1,num1+1)])\n",
    "print(f'Factorial of {num1} is {x}')\n"
   ]
  },
  {
   "cell_type": "code",
   "execution_count": 63,
   "id": "3e848410",
   "metadata": {},
   "outputs": [
    {
     "name": "stdout",
     "output_type": "stream",
     "text": [
      "{2: 1}\n"
     ]
    },
    {
     "data": {
      "text/plain": [
       "2"
      ]
     },
     "execution_count": 63,
     "metadata": {},
     "output_type": "execute_result"
    }
   ],
   "source": [
    "def pfact(n):\n",
    "    factors={}\n",
    "    i=2\n",
    "    while i*i <=n:\n",
    "        while n%i ==0:\n",
    "            if i not in factors:\n",
    "                factors[i]=0\n",
    "            factors[i]+=1\n",
    "            n//=i\n",
    "        i+=1\n",
    "    if n>1:\n",
    "        if n not in factors:\n",
    "            factors[n]=0\n",
    "        factors[n]+=1\n",
    "    return factors\n",
    "\n",
    "def fact(n):\n",
    "    rst=1\n",
    "    for i in range(2,n+1):    \n",
    "        factors=pfact(i)\n",
    "        for p in factors:\n",
    "            rst *=p**factors[p]\n",
    "        return rst\n",
    "\n",
    "fact(44)\n",
    "    "
   ]
  },
  {
   "cell_type": "code",
   "execution_count": 64,
   "id": "874f47ae",
   "metadata": {},
   "outputs": [
    {
     "name": "stdout",
     "output_type": "stream",
     "text": [
      "the principal is  8\n",
      "the time period is  6\n",
      "the rate of interest is  8\n",
      "the simple interest is  3.84\n"
     ]
    },
    {
     "data": {
      "text/plain": [
       "3.84"
      ]
     },
     "execution_count": 64,
     "metadata": {},
     "output_type": "execute_result"
    }
   ],
   "source": [
    "def simple_interest(p,t,r):\n",
    "    print('the principal is ',p)\n",
    "    print('the time period is ',t)\n",
    "    print('the rate of interest is ',r)\n",
    "    \n",
    "    si=(p*t*r)/100\n",
    "    print('the simple interest is ',si)\n",
    "    return si\n",
    "\n",
    "simple_interest(8,6,8)"
   ]
  },
  {
   "cell_type": "code",
   "execution_count": 66,
   "id": "5304c61b",
   "metadata": {},
   "outputs": [
    {
     "name": "stdout",
     "output_type": "stream",
     "text": [
      "6288.946267774416\n"
     ]
    }
   ],
   "source": [
    "def compound_interest(p,r,t):\n",
    "    amt=p*(pow((1+r/100),t))\n",
    "    CI=amt-p\n",
    "    print (CI)\n",
    "\n",
    "compound_interest(10000,10.25,5)"
   ]
  },
  {
   "cell_type": "code",
   "execution_count": 74,
   "id": "4e4f1bcc",
   "metadata": {},
   "outputs": [
    {
     "name": "stdout",
     "output_type": "stream",
     "text": [
      "enter number:-153\n",
      "153 armstorng value\n"
     ]
    }
   ],
   "source": [
    "n=int(input(\"enter number:-\"))\n",
    "s=n\n",
    "b=len(str(n))\n",
    "sum1=0\n",
    "while n!=0:\n",
    "    r=n%10\n",
    "    sum1=sum1+(r**b)\n",
    "    n=n//10\n",
    "if s==sum1:\n",
    "    print(s,'armstorng value')\n",
    "else:\n",
    "    print(s,'not armstrong value')"
   ]
  },
  {
   "cell_type": "markdown",
   "id": "6560ccbc",
   "metadata": {},
   "source": [
    "## "
   ]
  },
  {
   "cell_type": "code",
   "execution_count": null,
   "id": "9c352764",
   "metadata": {},
   "outputs": [],
   "source": []
  }
 ],
 "metadata": {
  "kernelspec": {
   "display_name": "Python 3 (ipykernel)",
   "language": "python",
   "name": "python3"
  },
  "language_info": {
   "codemirror_mode": {
    "name": "ipython",
    "version": 3
   },
   "file_extension": ".py",
   "mimetype": "text/x-python",
   "name": "python",
   "nbconvert_exporter": "python",
   "pygments_lexer": "ipython3",
   "version": "3.11.5"
  }
 },
 "nbformat": 4,
 "nbformat_minor": 5
}
