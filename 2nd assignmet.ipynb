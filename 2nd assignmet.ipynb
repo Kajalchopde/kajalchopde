{
 "cells": [
  {
   "cell_type": "markdown",
   "id": "c2e42f7d",
   "metadata": {},
   "source": [
    "Q. Declare a float value and store it in a variable. \n",
    "Check the type and print the id of the same. "
   ]
  },
  {
   "cell_type": "code",
   "execution_count": 1,
   "id": "223378bc",
   "metadata": {},
   "outputs": [
    {
     "name": "stdout",
     "output_type": "stream",
     "text": [
      "<class 'float'> 2648727940560\n"
     ]
    }
   ],
   "source": [
    "a=12.3\n",
    "print (type(a),id(a))"
   ]
  },
  {
   "cell_type": "markdown",
   "id": "13afff2e",
   "metadata": {},
   "source": [
    "Q. Arithmetic Operations on float \n",
    "Take two different float values. \n",
    "Store them in two different variables. \n",
    "Do below operations on them:- \n",
    "   Find sum of both numbers \n",
    "   Find difference between them \n",
    "   Find the product of both numbers. \n",
    "   Find value after dividing first num with second number \n",
    "   Find the remainder after dividing first number with second number \n",
    "   Find the quotient after dividing first number with second number \n",
    "   Find the result of the first num to the power of the second number. "
   ]
  },
  {
   "cell_type": "code",
   "execution_count": 4,
   "id": "a6cec2c1",
   "metadata": {},
   "outputs": [
    {
     "name": "stdout",
     "output_type": "stream",
     "text": [
      "13\n",
      "7\n",
      "30\n",
      "3.3333333333333335\n",
      "1\n",
      "3\n",
      "1000\n"
     ]
    }
   ],
   "source": [
    "a=10\n",
    "b=3\n",
    "print(a+b) #sum\n",
    "print(a-b) #difference\n",
    "print(a*b) ##product\n",
    "print(a/b) #division\n",
    "print(a%b) #reminder\n",
    "print(a//b) #quotient\n",
    "print(a**b) #power"
   ]
  },
  {
   "cell_type": "markdown",
   "id": "949a4f66",
   "metadata": {},
   "source": [
    "Q. Comparison Operators on float \n",
    "Take two different float values. \n",
    "Store them in two different variables. \n",
    "Do below operations on them:- \n",
    "   Compare these two numbers with below operator:- \n",
    "       Greater than, '>' \n",
    " Smaller than, '<' \n",
    " Greater than or equal to, '>=' \n",
    " Less than or equal to, '<=' \n",
    "Observe their output(return type should be boolean) "
   ]
  },
  {
   "cell_type": "code",
   "execution_count": 6,
   "id": "864b59a1",
   "metadata": {},
   "outputs": [
    {
     "name": "stdout",
     "output_type": "stream",
     "text": [
      "False\n",
      "True\n",
      "False\n",
      "True\n"
     ]
    }
   ],
   "source": [
    "a=1.2\n",
    "b=3.4\n",
    "print(a>b)\n",
    "print(a<b)\n",
    "print(a>=b)\n",
    "print(a<=b)\n"
   ]
  },
  {
   "cell_type": "markdown",
   "id": "8837ba61",
   "metadata": {},
   "source": [
    "Q. Equality Operator \n",
    "Take two different float values. \n",
    "Store them in two different variables. \n",
    "Equate them using equality operators (==, !=) \n",
    "Observe the output(return type should be boolean)"
   ]
  },
  {
   "cell_type": "code",
   "execution_count": 7,
   "id": "4212a820",
   "metadata": {},
   "outputs": [
    {
     "name": "stdout",
     "output_type": "stream",
     "text": [
      "False\n",
      "True\n"
     ]
    }
   ],
   "source": [
    "a=56.5\n",
    "b=54.5\n",
    "print(a==b)\n",
    "print(a!=b)"
   ]
  },
  {
   "cell_type": "markdown",
   "id": "3b6a78bf",
   "metadata": {},
   "source": [
    "Q. Logical operators \n",
    "Observe the output of below code \n",
    "Cross check the output manually \n",
    " \n",
    "print(10.20 and 20.30)       #both are true and second value taken \n",
    ">Output is 20.3 \n",
    " \n",
    "print(0.0 and 20.30)         #First is false so first value \n",
    "taken->Output is 0.0\n",
    "print(20.30 and 0.0)         #Goes to till second and second value is \n",
    "false so second is taken>Output is 0.0 \n",
    " \n",
    "print(0.0 and 0.0)           #First is false so first value is \n",
    "taken->Output is 0.0 \n",
    " \n",
    "print(10.20 or 20.30)        #First is True so first value is \n",
    "taken>Output is 10.2 \n",
    " \n",
    "print(0.0 or 20.30)          #Goes to till second and second is true \n",
    "second value is taken->Output is 20.3 \n",
    " \n",
    "print(20.30 or 0.0)          #First is True so first value is \n",
    "taken->Output is 20.3 \n",
    " \n",
    "print(0.0 or 0.0)            #Goes to till second and second is also \n",
    "false and second value is taken>Output is 0.0 \n",
    " \n",
    "print(not 10.20)             #-Not of true is false->Output is False \n",
    " \n",
    "print(not 0.0)               #Not of false is True>Output is True"
   ]
  },
  {
   "cell_type": "code",
   "execution_count": 10,
   "id": "242a3202",
   "metadata": {},
   "outputs": [
    {
     "name": "stdout",
     "output_type": "stream",
     "text": [
      "20.3\n",
      "0.0\n",
      "0.0\n",
      "10.2\n",
      "20.3\n",
      "20.3\n",
      "0.0\n",
      "False\n",
      "True\n"
     ]
    }
   ],
   "source": [
    "print(10.2 and 20.3)\n",
    "print(0.0 and 20.30)\n",
    "print(0.0 and 0.0)\n",
    "print(10.2 or 20.3)\n",
    "print(0.0 or 20.30)\n",
    "print(20.3 or 0.0)\n",
    "print (0.0 or 0.0)\n",
    "print (not 10.2)\n",
    "print(not 0.0)"
   ]
  },
  {
   "cell_type": "markdown",
   "id": "c42acb32",
   "metadata": {},
   "source": [
    "Q. What is the output of expression inside print statement. Cross check before running the program. \n",
    "a = 10.20 \n",
    "b - 10.20 \n",
    "print(a is b)          #True or False? True 10.20<256 \n",
    "print(a is not b)      #True or False? False \n",
    "Why the Id of float values are different when the same value is \n",
    "assigned to two different variables \n",
    "ex: a = 10.5 b=10.5. but id will be same if I assign the variable \n",
    "having float i.e. a=c then both a and c's Id are same "
   ]
  },
  {
   "cell_type": "code",
   "execution_count": 12,
   "id": "474f3b8d",
   "metadata": {},
   "outputs": [
    {
     "name": "stdout",
     "output_type": "stream",
     "text": [
      "False\n",
      "True\n",
      "2648741313072\n",
      "2648741314192\n",
      "2648741313072\n"
     ]
    }
   ],
   "source": [
    "a=10.2\n",
    "b=10.2\n",
    "print (a is b)\n",
    "print(a is not b)\n",
    "print(id(a))\n",
    "print(id(b))\n",
    "c=a\n",
    "print(id(c))"
   ]
  },
  {
   "cell_type": "markdown",
   "id": "73395554",
   "metadata": {},
   "source": [
    "Q. Bitwise operation is not applicable between instances of float. \n",
    "Why the Id of float values are different when the same value is \n",
    "assigned to two different variables \n",
    "ex: a = 10.5 b=10.5. but id will be same if I assign the variable \n",
    "having float i.e. a=c then both a and c's Id are same \n",
    "Object reusability concept is not applicable on float values."
   ]
  },
  {
   "cell_type": "code",
   "execution_count": 15,
   "id": "61da0034",
   "metadata": {},
   "outputs": [
    {
     "name": "stdout",
     "output_type": "stream",
     "text": [
      "2648727937136\n",
      "2648727934960\n",
      "2648727937136\n"
     ]
    }
   ],
   "source": [
    "a=10.5\n",
    "b=10.5\n",
    "print(id(a))\n",
    "print(id(b))\n",
    "c=a\n",
    "print(id(c))"
   ]
  },
  {
   "cell_type": "markdown",
   "id": "03ac466d",
   "metadata": {},
   "source": [
    "Q. Membership operation \n",
    "in, not in are two membership operators and it returns boolean value \n",
    "print('2.7' in 'Python2.7.8')              #True \n",
    "print(10.20 in [10,10.20,10+20j,'Python']) #True \n",
    "print(10.20 in (10,10.20,10+20j,'Python')) # True \n",
    "print(20.30 in {1,20.30,30+40j})           # True \n",
    "print(2.3 in {1:100, 2.3:200, 30+40j:300}) # True \n",
    "print(10 in range(20))                     # True"
   ]
  },
  {
   "cell_type": "code",
   "execution_count": 16,
   "id": "87054600",
   "metadata": {},
   "outputs": [
    {
     "name": "stdout",
     "output_type": "stream",
     "text": [
      "True\n",
      "True\n",
      "True\n",
      "True\n",
      "True\n",
      "True\n"
     ]
    }
   ],
   "source": [
    "print('2.7' in 'Python2.7.8')              #True \n",
    "print(10.20 in [10,10.20,10+20j,'Python']) #True \n",
    "print(10.20 in (10,10.20,10+20j,'Python')) # True \n",
    "print(20.30 in {1,20.30,30+40j})           # True \n",
    "print(2.3 in {1:100, 2.3:200, 30+40j:300}) # True \n",
    "print(10 in range(20))                     # True"
   ]
  },
  {
   "cell_type": "code",
   "execution_count": null,
   "id": "876d93d6",
   "metadata": {},
   "outputs": [],
   "source": []
  }
 ],
 "metadata": {
  "kernelspec": {
   "display_name": "Python 3 (ipykernel)",
   "language": "python",
   "name": "python3"
  },
  "language_info": {
   "codemirror_mode": {
    "name": "ipython",
    "version": 3
   },
   "file_extension": ".py",
   "mimetype": "text/x-python",
   "name": "python",
   "nbconvert_exporter": "python",
   "pygments_lexer": "ipython3",
   "version": "3.11.5"
  }
 },
 "nbformat": 4,
 "nbformat_minor": 5
}
