{
 "cells": [
  {
   "cell_type": "code",
   "execution_count": null,
   "id": "53053e98",
   "metadata": {},
   "outputs": [],
   "source": [
    "import pandas as pd\n",
    "import numpy as np\n",
    "import matplotlib.pyplot as plt"
   ]
  },
  {
   "cell_type": "code",
   "execution_count": 38,
   "id": "0af9203a",
   "metadata": {},
   "outputs": [],
   "source": [
    "cl('poem.txt')\n",
    "def cl(bb):\n",
    "    y=open(x,mode='r')\n",
    "    a=0\n",
    "    y.seek(0)\n",
    "    for i in y:\n",
    "        if i[0:1]=='T':\n",
    "            a+=1\n",
    "    print(a)\n"
   ]
  },
  {
   "cell_type": "code",
   "execution_count": 60,
   "id": "6a0875ee",
   "metadata": {},
   "outputs": [
    {
     "name": "stdout",
     "output_type": "stream",
     "text": [
      "4\n"
     ]
    }
   ],
   "source": [
    "cl('poem.txt')\n",
    "def cl(bb):\n",
    "    y=open(x,mode='r')\n",
    "    a=0\n",
    "    y.seek(0)\n",
    "    for i in y:\n",
    "        if i.startswith('T'):\n",
    "            a+=1\n",
    "    print(a)\n"
   ]
  },
  {
   "cell_type": "code",
   "execution_count": 64,
   "id": "bb691bf3",
   "metadata": {},
   "outputs": [
    {
     "name": "stdout",
     "output_type": "stream",
     "text": [
      "Total number of lines: 7\n"
     ]
    }
   ],
   "source": [
    "cl1('poem.txt')\n",
    "def cl1(ab):\n",
    "    with open(ab,'r') as fp:\n",
    "        lines=len(fp.readlines())\n",
    "        print('Total number of lines:', lines)"
   ]
  },
  {
   "cell_type": "code",
   "execution_count": 65,
   "id": "27001f58",
   "metadata": {},
   "outputs": [
    {
     "name": "stdout",
     "output_type": "stream",
     "text": [
      "7\n"
     ]
    }
   ],
   "source": [
    "with open(r'poem.txt','r') as fp:\n",
    "    for count,line in enumerate(fp):\n",
    "        pass\n",
    "print(count+1)"
   ]
  },
  {
   "cell_type": "code",
   "execution_count": 66,
   "id": "3eb10540",
   "metadata": {},
   "outputs": [
    {
     "name": "stdout",
     "output_type": "stream",
     "text": [
      "7\n"
     ]
    }
   ],
   "source": [
    "with open(r'poem.txt','r') as fp:\n",
    "    lines=sum(1 for lines in fp)\n",
    "    print(lines)"
   ]
  },
  {
   "cell_type": "code",
   "execution_count": 80,
   "id": "8a851593",
   "metadata": {},
   "outputs": [
    {
     "name": "stdout",
     "output_type": "stream",
     "text": [
      "12\n",
      "['hello', 'how', 'are', 'you', 'i', 'm', 'kajal', 'T', 'T', 'T', 'The', 'sdfsdl;']\n"
     ]
    }
   ],
   "source": [
    "with open (r'poem.txt','r') as fp:\n",
    "    ty=fp.read()\n",
    "    w=ty.split()\n",
    "    print(len(w))\n",
    "    print(w)"
   ]
  },
  {
   "cell_type": "code",
   "execution_count": 84,
   "id": "15f1aeb6",
   "metadata": {},
   "outputs": [
    {
     "name": "stdout",
     "output_type": "stream",
     "text": [
      "3\n"
     ]
    }
   ],
   "source": [
    "with open (r'poem.txt','r') as fp:\n",
    "    x1=fp.readlines()\n",
    "    cnt=0\n",
    "    for i in x1:\n",
    "        if 'the' in i:\n",
    "            cnt=cnt+1\n",
    "    print(cnt)\n",
    "        "
   ]
  },
  {
   "cell_type": "code",
   "execution_count": 87,
   "id": "42f40749",
   "metadata": {},
   "outputs": [
    {
     "name": "stdout",
     "output_type": "stream",
     "text": [
      "how\n",
      "are\n",
      "you\n",
      "i\n",
      "m\n",
      "T\n",
      "T\n",
      "T\n",
      "The\n",
      "the\n",
      "the\n",
      "the\n"
     ]
    }
   ],
   "source": [
    "with open (r'poem.txt','r') as fp:\n",
    "    x1=fp.read()\n",
    "    x2=x1.split()\n",
    "    for i in x2:\n",
    "        if len(i)<=4:\n",
    "            print(i)\n",
    "    "
   ]
  },
  {
   "cell_type": "code",
   "execution_count": 91,
   "id": "624baf53",
   "metadata": {},
   "outputs": [
    {
     "name": "stdout",
     "output_type": "stream",
     "text": [
      "3\n"
     ]
    }
   ],
   "source": [
    "with open (r'poem.txt','r') as t:\n",
    "    t1=t.read()\n",
    "    t2=t1.split()\n",
    "    c=0\n",
    "    for i in t2:\n",
    "        if i=='the':\n",
    "            c=c+1\n",
    "    print(c)\n",
    "\n",
    "\n"
   ]
  },
  {
   "cell_type": "code",
   "execution_count": 95,
   "id": "6925f401",
   "metadata": {},
   "outputs": [
    {
     "name": "stdout",
     "output_type": "stream",
     "text": [
      "Words count : 3\n"
     ]
    }
   ],
   "source": [
    "with open (r'poem.txt','r') as fp:\n",
    "    t1=fp.read()\n",
    "    letter = \"the\"\n",
    "    res = len([ele for ele in t1.split() if letter in ele])\n",
    " \n",
    "# printing result \n",
    "print(\"Words count : \" + str(res)) "
   ]
  },
  {
   "cell_type": "code",
   "execution_count": null,
   "id": "4cecadf1",
   "metadata": {},
   "outputs": [],
   "source": [
    "res=len([cnt for ctn in t1.split() if letter in cnt])"
   ]
  },
  {
   "cell_type": "code",
   "execution_count": 106,
   "id": "7b2a6c55",
   "metadata": {},
   "outputs": [
    {
     "name": "stdout",
     "output_type": "stream",
     "text": [
      "6\n"
     ]
    }
   ],
   "source": [
    "with open(r'poem.txt','r') as fp:\n",
    "    t1=fp.read()\n",
    "    c=0\n",
    "    for i in t1:\n",
    "        if (i.isupper()):\n",
    "            c=c+1\n",
    "    print(c)"
   ]
  },
  {
   "cell_type": "code",
   "execution_count": 141,
   "id": "f3cc15e0",
   "metadata": {},
   "outputs": [
    {
     "name": "stdout",
     "output_type": "stream",
     "text": [
      "s#d#f#s#\n",
      "#d#f#d#s#\n",
      "#a#f#\n",
      "#d#s#\n",
      "#a#f#\n",
      "#d#s#\n",
      "#\n"
     ]
    }
   ],
   "source": [
    "with open(r'poem.txt','r+') as fp:\n",
    "    t1=fp.read()\n",
    "    t2=''\n",
    "    for i in t1:\n",
    "        t2=t2+i+'#'\n",
    "    fp.write(t2)\n",
    "    print(t2)"
   ]
  },
  {
   "cell_type": "code",
   "execution_count": 148,
   "id": "83e05e29",
   "metadata": {},
   "outputs": [
    {
     "name": "stdout",
     "output_type": "stream",
     "text": [
      "sdfs\n",
      "dfds\n",
      "af\n",
      "ds\n",
      "af\n",
      "ds\n",
      "s!d!f!s!\n",
      "!d!f!d!s!\n",
      "!a!f!\n",
      "!d!s!\n",
      "!a!f!\n",
      "!d!s!\n",
      "!sdfs\n",
      "dfds\n",
      "af\n",
      "ds\n",
      "af\n",
      "ds\n",
      "s!!d!!f!!s!!\n",
      "!!d!!f!!d!!s!!\n",
      "!!a!!f!!\n",
      "!!d!!s!!\n",
      "!!a!!f!!\n",
      "!!d!!s!!\n",
      "!!sdfs\n",
      "dfds\n",
      "af\n",
      "ds\n",
      "af\n",
      "ds\n",
      "s!d!f!s!\n",
      "!d!f!d!s!\n",
      "!a!f!\n",
      "!d!s!\n",
      "!a!f!\n",
      "!d!s!\n",
      "!sdfs\n",
      "dfds\n",
      "af\n",
      "ds\n",
      "af\n",
      "ds\n",
      "s!!d!!f!!s!!\n",
      "!!d!!f!!d!!s!!\n",
      "!!a!!f!!\n",
      "!!d!!s!!\n",
      "!!a!!f!!\n",
      "!!d!!s!!\n",
      "!!\n"
     ]
    }
   ],
   "source": [
    "with open(r'poem.txt','r+') as fp:\n",
    "    t1=fp.read()\n",
    "    t2=''\n",
    "    for i in t1:\n",
    "        if i=='@':\n",
    "            t2=t2+'!'\n",
    "        else:\n",
    "            t2=t2+i\n",
    "    fp.close()\n",
    "    with open(r'poem.txt','w') as fp:\n",
    "        fp.write(t2)\n",
    "        print(t2)"
   ]
  },
  {
   "cell_type": "code",
   "execution_count": 149,
   "id": "8bea079e",
   "metadata": {},
   "outputs": [
    {
     "name": "stdout",
     "output_type": "stream",
     "text": [
      "a count is 16\n"
     ]
    }
   ],
   "source": [
    "with open (r'poem.txt','r') as fp:\n",
    "    t1=fp.read()\n",
    "    x1=len([cnt for cnt in t1.split() if 'a' in cnt])\n",
    "print(f'a count is {x1}')\n"
   ]
  },
  {
   "cell_type": "code",
   "execution_count": null,
   "id": "080e6d77",
   "metadata": {},
   "outputs": [],
   "source": [
    "# A binary file \"Book.dat\" has structure [BookNo, Book_Name, Author, Price].\n",
    "# i. Write a user defined function createFile() to input data for a record and add to Book.dat.\n",
    "# ii. Write a function countRec(Author) in Python which accepts the Author name as parameter \n",
    "# and count and return number of books by the given Author are stored in the binary file \"Book.dat\""
   ]
  },
  {
   "cell_type": "raw",
   "id": "2163c703",
   "metadata": {},
   "source": []
  },
  {
   "cell_type": "code",
   "execution_count": 167,
   "id": "6fc68e53",
   "metadata": {},
   "outputs": [
    {
     "name": "stdout",
     "output_type": "stream",
     "text": [
      "enter book no:-2\n",
      "enter book name :-sdaf\n",
      "enter author name :- kajal\n",
      "enter book price:-44\n",
      "enter author namekajal\n"
     ]
    },
    {
     "data": {
      "text/plain": [
       "2"
      ]
     },
     "execution_count": 167,
     "metadata": {},
     "output_type": "execute_result"
    }
   ],
   "source": [
    "import pickle\n",
    "def creatfile():\n",
    "    fobj=open('book.dat','ab')\n",
    "    bookno=int(input(\"enter book no:-\"))\n",
    "    book_name=input(\"enter book name :-\")\n",
    "    author=input(\"enter author name :- \")\n",
    "    price = int(input(\"enter book price:-\"))\n",
    "    rec=[bookno,book_name,author,price]\n",
    "    pickle.dump(rec,fobj)\n",
    "    fobj.close()\n",
    "\n",
    "creatfile()\n",
    "    \n",
    "def countrec(author):\n",
    "    fobj=open('book.dat','rb')\n",
    "    num=0\n",
    "    try:\n",
    "        while True:\n",
    "            rec=pickle.load(fobj)\n",
    "            if author==rec[2]:\n",
    "                num=num+1 \n",
    "    except:\n",
    "                fobj.close()\n",
    "    return num\n",
    "\n",
    "\n",
    "                \n",
    "    "
   ]
  },
  {
   "cell_type": "code",
   "execution_count": 192,
   "id": "5437979f",
   "metadata": {},
   "outputs": [
    {
     "name": "stdout",
     "output_type": "stream",
     "text": [
      "enter book no:-1\n",
      "enter book name :-23\n",
      "enter author name :- 232\n",
      "enter book price:-234\n",
      "you want to continue (Y/N) :- y\n",
      "enter book no:-324\n",
      "enter book name :-sdf\n",
      "enter author name :- 324\n",
      "enter book price:-324\n",
      "you want to continue (Y/N) :- n\n"
     ]
    }
   ],
   "source": [
    "import pickle\n",
    "def cf():\n",
    "    with open(r'book.dat','ab') as fp:\n",
    "        bookno=int(input())\n",
    "        book_name=input()\n",
    "        author=input()\n",
    "        price=int(input())\n",
    "        rec=[bookno,book_name,author,price]\n",
    "        pickle.dump(rec,fp)\n",
    "        fobj.close()\n",
    "c=0\n",
    "while c==0:\n",
    "    creatfile()\n",
    "    y=input('you want to continue (Y/N) :- ').lower()\n",
    "    if y  == 'y':\n",
    "        c=0\n",
    "    else:\n",
    "        c=1\n",
    "                \n",
    "import pickle\n",
    "def cf():\n",
    "    with open(r'book.dat','ab') as fp:\n",
    "        bookno=int(input())\n",
    "        book_name=input()\n",
    "        author=input()\n",
    "        price=int(input())\n",
    "        rec=[bookno,book_name,author,price]\n",
    "        pickle.dump(rec,fp)\n",
    "    "
   ]
  },
  {
   "cell_type": "code",
   "execution_count": 193,
   "id": "7b269f9f",
   "metadata": {},
   "outputs": [
    {
     "name": "stdout",
     "output_type": "stream",
     "text": [
      "enter author namekajal\n"
     ]
    },
    {
     "data": {
      "text/plain": [
       "2"
      ]
     },
     "execution_count": 193,
     "metadata": {},
     "output_type": "execute_result"
    }
   ],
   "source": [
    "countrec(input('enter author name'))"
   ]
  },
  {
   "cell_type": "code",
   "execution_count": 203,
   "id": "2a8e64ee",
   "metadata": {},
   "outputs": [
    {
     "data": {
      "text/plain": [
       "[['\\x80\\x04\\x95\\x1a\\x00\\x00\\x00\\x00\\x00\\x00\\x00]\\x94(K\\x01\\x8c\\x05sdfsd\\x94\\x8c\\x05kajal\\x94M\\x90\\x01e.\\x80\\x04\\x95\\x18\\x00\\x00\\x00\\x00\\x00\\x00\\x00]\\x94(K\\x02\\x8c\\x04sdaf\\x94\\x8c\\x05kajal\\x94K,e.\\x80\\x04\\x95\\x1a\\x00\\x00\\x00\\x00\\x00\\x00\\x00]\\x94(K\\x01\\x8c\\x05sdfds\\x94\\x8c\\x0532442\\x94M§\\x01e.\\x80\\x04\\x95\\x19\\x00\\x00\\x00\\x00\\x00\\x00\\x00]\\x94(K\\x01\\x8c\\x04FSDA\\x94\\x8c\\x0532432\\x94MD\\x01e.\\x80\\x04\\x95\\x17\\x00\\x00\\x00\\x00\\x00\\x00\\x00]\\x94(K',\n",
       "  '\\x8c\\x04SDFA\\x94\\x8c\\x042342\\x94K\"e.\\x80\\x04\\x95\\x15\\x00\\x00\\x00\\x00\\x00\\x00\\x00]\\x94(K\\x01\\x8c\\x03sdf\\x94\\x8c\\x03324\\x94Kêe.\\x80\\x04\\x95\\x15\\x00\\x00\\x00\\x00\\x00\\x00\\x00]\\x94(K\\x01\\x8c\\x03wer\\x94\\x8c\\x0234\\x94MW\\x01e.\\x80\\x04\\x95\\x16\\x00\\x00\\x00\\x00\\x00\\x00\\x00]\\x94(K\\x01\\x8c\\x03324\\x94\\x8c\\x03wer\\x94MD\\x01e.\\x80\\x04\\x95\\x17\\x00\\x00\\x00\\x00\\x00\\x00\\x00]\\x94(K\\x15\\x8c\\x043242\\x94\\x8c\\x03324\\x94M\\x82',\n",
       "  'e.\\x80\\x04\\x95\\x17\\x00\\x00\\x00\\x00\\x00\\x00\\x00]\\x94(MD\\x01\\x8c\\x03wer\\x94\\x8c\\x03324\\x94M°\\x01e.\\x80\\x04\\x95\\x14\\x00\\x00\\x00\\x00\\x00\\x00\\x00]\\x94(K\\x01\\x8c\\x0223\\x94\\x8c\\x03232\\x94Kêe.\\x80\\x04\\x95\\x17\\x00\\x00\\x00\\x00\\x00\\x00\\x00]\\x94(MD\\x01\\x8c\\x03sdf\\x94\\x8c\\x03324\\x94MD\\x01e.']]"
      ]
     },
     "execution_count": 203,
     "metadata": {},
     "output_type": "execute_result"
    }
   ],
   "source": [
    "f=[i.strip().split() for i in open('book.dat', encoding='latin1').readlines()]\n",
    "f"
   ]
  },
  {
   "cell_type": "code",
   "execution_count": null,
   "id": "7b0ff2c5",
   "metadata": {},
   "outputs": [],
   "source": []
  },
  {
   "cell_type": "code",
   "execution_count": null,
   "id": "06a8115a",
   "metadata": {},
   "outputs": [],
   "source": []
  }
 ],
 "metadata": {
  "kernelspec": {
   "display_name": "Python 3 (ipykernel)",
   "language": "python",
   "name": "python3"
  },
  "language_info": {
   "codemirror_mode": {
    "name": "ipython",
    "version": 3
   },
   "file_extension": ".py",
   "mimetype": "text/x-python",
   "name": "python",
   "nbconvert_exporter": "python",
   "pygments_lexer": "ipython3",
   "version": "3.11.5"
  }
 },
 "nbformat": 4,
 "nbformat_minor": 5
}
