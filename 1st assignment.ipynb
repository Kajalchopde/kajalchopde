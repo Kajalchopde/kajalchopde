{
 "cells": [
  {
   "cell_type": "markdown",
   "id": "d99c4822",
   "metadata": {},
   "source": [
    "Q. Declare an int value and store it in a variable.\n",
    "Check the type and print the id of the same.\n",
    ". Take one int value between 0 - 256.\n",
    "Assign it to two different variables.\n",
    "Check the id of both the variables. It should come the same. Check why?"
   ]
  },
  {
   "cell_type": "code",
   "execution_count": 16,
   "id": "fe95bddd",
   "metadata": {},
   "outputs": [
    {
     "name": "stdout",
     "output_type": "stream",
     "text": [
      "<class 'int'>\n",
      "140710327849768\n",
      "140710327849768\n",
      "140710327849832\n",
      "140710327849832\n",
      "140710327849832\n"
     ]
    }
   ],
   "source": [
    "a=1\n",
    "print(type(a))\n",
    "print(id(a))\n",
    "print(id(1))\n",
    "b=3\n",
    "x=b\n",
    "y=b\n",
    "print(id(x))\n",
    "print(id(y))\n",
    "print(id(3))\n",
    "## when int variable is same it store to same memory location\n"
   ]
  },
  {
   "cell_type": "markdown",
   "id": "f9f29ae2",
   "metadata": {},
   "source": [
    "Q. Take one int value either less than -5 or greater than 256.\n",
    "Assign it to two different variables.\n",
    "Check the id of both the variables. It should come different.Check why?\n"
   ]
  },
  {
   "cell_type": "code",
   "execution_count": 5,
   "id": "b6b6e67b",
   "metadata": {},
   "outputs": [],
   "source": []
  },
  {
   "cell_type": "code",
   "execution_count": 13,
   "id": "2e081da2",
   "metadata": {},
   "outputs": [
    {
     "name": "stdout",
     "output_type": "stream",
     "text": [
      "2287857036976\n",
      "2287857036976\n",
      "2287857036976\n",
      "2287857039248\n"
     ]
    }
   ],
   "source": [
    "g=260\n",
    "rr=g\n",
    "zz=g\n",
    "print(id(g))\n",
    "print(id(rr))\n",
    "print(id(zz))\n",
    "print(id(260))\n",
    "## Python caches and reuses the same objects for the commonly used integers ranging from -5 to 256 to optimize memory usage and improve performance."
   ]
  },
  {
   "cell_type": "markdown",
   "id": "85f6f1ba",
   "metadata": {},
   "source": [
    "Q. Arithmetic Operations on integers\n",
    "Take two different integer values.\n",
    "Store them in two different variables.\n",
    "Do below operations on them:-\n",
    "Find sum of both numbers\n",
    "Find difference between them\n",
    "Find the product of both numbers.\n",
    "Find value after dividing first num with second number\n",
    "Find the remainder after dividing first number with second number\n",
    "Find the quotient after dividing first number with second number\n",
    "Find the result of the first num to the power of the second number."
   ]
  },
  {
   "cell_type": "code",
   "execution_count": 25,
   "id": "96e40bac",
   "metadata": {},
   "outputs": [
    {
     "name": "stdout",
     "output_type": "stream",
     "text": [
      "Sum of 2 & 3 is 5\n",
      "Difference of 2 & 3 is -1\n",
      "Product of 2 & 3 is 6\n",
      "1\n",
      "0.6666666666666666\n",
      "2\n",
      "0\n",
      "8\n"
     ]
    }
   ],
   "source": [
    "a=2\n",
    "b=3\n",
    "c=a+b\n",
    "e=a-b\n",
    "f=a*b\n",
    "h=a/b\n",
    "i=a%b\n",
    "j=a//b\n",
    "k=a**b\n",
    "print(f'Sum of {a} & {b} is {c}')\n",
    "print(f'Difference of {a} & {b} is {e}')\n",
    "print(f'Product of {a} & {b} is {f}')\n",
    "print(f'value after dividing {a} with {b} is {h}')\n",
    "print(f'reminder after diving {a} with {b} is {i}')\n",
    "print(f'quotient after dividing {a} with {b} is {j}')\n",
    "print(f' result of the {a} to the power of {b} is {k}')"
   ]
  },
  {
   "cell_type": "markdown",
   "id": "16180e9e",
   "metadata": {},
   "source": [
    "Q. Comparison Operators on integers\n",
    "Take two different integer values.\n",
    "Store them in two different variables.\n",
    "Do below operations on them:-\n",
    "Compare se two numbers with below operator:-\n",
    "Greater than, '>'\n",
    "Smaller than, '<'\n",
    "Greater than or equal to, '>='\n",
    "Less than or equal to, '<='\n",
    "Observe their output(return type should be boolean)"
   ]
  },
  {
   "cell_type": "code",
   "execution_count": 27,
   "id": "40b7bf98",
   "metadata": {},
   "outputs": [
    {
     "name": "stdout",
     "output_type": "stream",
     "text": [
      "False\n",
      "True\n",
      "False\n",
      "True\n"
     ]
    }
   ],
   "source": [
    "a=5\n",
    "b=6\n",
    "print(a>b)\n",
    "print(a<b)\n",
    "print(a>=b)\n",
    "print(a<=b)\n"
   ]
  },
  {
   "cell_type": "markdown",
   "id": "407ba33e",
   "metadata": {},
   "source": [
    "Q. Equality Operator\n",
    "Take two different integer values.\n",
    "Store them in two different variables.\n",
    "Equate them using equality operators (==, !=)\n",
    "Observe the output(return type should be boolean)"
   ]
  },
  {
   "cell_type": "code",
   "execution_count": 28,
   "id": "7b1ed6c2",
   "metadata": {},
   "outputs": [
    {
     "name": "stdout",
     "output_type": "stream",
     "text": [
      "False\n",
      "True\n"
     ]
    }
   ],
   "source": [
    "a=5\n",
    "b=4\n",
    "print(a==b)\n",
    "print(a!=b)\n"
   ]
  },
  {
   "cell_type": "markdown",
   "id": "9df8b046",
   "metadata": {},
   "source": [
    "print(10 and 20)\n",
    "#----------------------------------------->Output is 20\n",
    "print(0 and 20)\n",
    "#----------------------------------------->Output is 0\n",
    "print(20 and 0)\n",
    "#----------------------------------------->Output is 0\n",
    "print(0 and 0)\n",
    "#----------------------------------------->Output is 0\n",
    "print(10 or 20)\n",
    "#----------------------------------------->Output is 10\n",
    "print(0 or 20)\n",
    "#----------------------------------------->Output is 20\n",
    "print(20 or 0)\n",
    "#----------------------------------------->Output is 20\n",
    "print(0 or 0)\n",
    "#----------------------------------------->Output is 0\n",
    "print(not 10)\n",
    "#----------------------------------------->Output is False\n",
    "print(not 0)\n",
    "#----------------------------------------->Output is True"
   ]
  },
  {
   "cell_type": "code",
   "execution_count": 29,
   "id": "ecb94e94",
   "metadata": {},
   "outputs": [
    {
     "name": "stdout",
     "output_type": "stream",
     "text": [
      "20\n",
      "0\n",
      "0\n",
      "0\n",
      "10\n",
      "20\n",
      "20\n",
      "0\n",
      "False\n",
      "True\n"
     ]
    }
   ],
   "source": [
    "print(10 and 20)\n",
    "print(0 and 20)\n",
    "print(20 and 0)\n",
    "print(0 and 0)\n",
    "print(10 or 20)\n",
    "print(0 or 20)\n",
    "print(20 or 0)\n",
    "print(0 or 0)\n",
    "print(not 10)\n",
    "print(not 0)\n"
   ]
  },
  {
   "cell_type": "markdown",
   "id": "7493b944",
   "metadata": {},
   "source": [
    "Q. Bitwise Operators\n",
    "Do below operations on the values provided below:-\n",
    "Bitwise and(&) -----------------------------------------> 10, 20\n",
    "-------> Output is 0\n",
    "Bitwise or(|) -----------------------------------------> 10, 20\n",
    "-------> Output is 30\n",
    "Bitwise(^) -----------------------------------------> 10, 20\n",
    "-------> Output is 30\n",
    "Bitwise negation(~) ------------------------------------> 10\n",
    "-------> Output is -11\n",
    "Bitwise left shift ------------------------------------> 10,2\n",
    "-------> Output is 40\n",
    "Bitwise right shift ------------------------------------> 10,2\n",
    "-------> Output is 2\n",
    "Cross check the output manually\n"
   ]
  },
  {
   "cell_type": "code",
   "execution_count": 56,
   "id": "87c9fdb8",
   "metadata": {},
   "outputs": [
    {
     "data": {
      "text/plain": [
       "-11"
      ]
     },
     "execution_count": 56,
     "metadata": {},
     "output_type": "execute_result"
    }
   ],
   "source": [
    "~10"
   ]
  },
  {
   "cell_type": "code",
   "execution_count": 38,
   "id": "acafd102",
   "metadata": {},
   "outputs": [
    {
     "data": {
      "text/plain": [
       "30"
      ]
     },
     "execution_count": 38,
     "metadata": {},
     "output_type": "execute_result"
    }
   ],
   "source": [
    "10^20"
   ]
  },
  {
   "cell_type": "code",
   "execution_count": 39,
   "id": "9ea218b9",
   "metadata": {},
   "outputs": [
    {
     "data": {
      "text/plain": [
       "10485760"
      ]
     },
     "execution_count": 39,
     "metadata": {},
     "output_type": "execute_result"
    }
   ],
   "source": [
    "10<<20"
   ]
  },
  {
   "cell_type": "code",
   "execution_count": 40,
   "id": "6739873e",
   "metadata": {},
   "outputs": [
    {
     "data": {
      "text/plain": [
       "0"
      ]
     },
     "execution_count": 40,
     "metadata": {},
     "output_type": "execute_result"
    }
   ],
   "source": [
    "10>>20"
   ]
  },
  {
   "cell_type": "code",
   "execution_count": 41,
   "id": "22e9fe31",
   "metadata": {},
   "outputs": [
    {
     "data": {
      "text/plain": [
       "0"
      ]
     },
     "execution_count": 41,
     "metadata": {},
     "output_type": "execute_result"
    }
   ],
   "source": [
    "10 & 20"
   ]
  },
  {
   "cell_type": "code",
   "execution_count": 42,
   "id": "0a492e6e",
   "metadata": {},
   "outputs": [
    {
     "data": {
      "text/plain": [
       "30"
      ]
     },
     "execution_count": 42,
     "metadata": {},
     "output_type": "execute_result"
    }
   ],
   "source": [
    "10 | 20"
   ]
  },
  {
   "cell_type": "markdown",
   "id": "7fc0b6d7",
   "metadata": {},
   "source": [
    "Q. What is the output of expression inside print statement. Cross check\n",
    "before running the program.\n",
    "\n",
    "a = 10\n",
    "b = 10\n",
    "print(a is b) #True or False?\n",
    "print(a is not b) #True or False?\n",
    "a = 1000\n",
    "b = 1000\n",
    "print(a is b) #True or False?\n",
    "print(a is not b) #True or False?\n"
   ]
  },
  {
   "cell_type": "code",
   "execution_count": 53,
   "id": "d2429a62",
   "metadata": {},
   "outputs": [
    {
     "name": "stdout",
     "output_type": "stream",
     "text": [
      "True\n",
      "140710327850056 140710327850056\n"
     ]
    }
   ],
   "source": [
    "a=10\n",
    "b=10\n",
    "print (a is b)\n",
    "print(id(a),id(b))"
   ]
  },
  {
   "cell_type": "code",
   "execution_count": 44,
   "id": "9f823c6c",
   "metadata": {},
   "outputs": [
    {
     "name": "stdout",
     "output_type": "stream",
     "text": [
      "False\n"
     ]
    }
   ],
   "source": [
    "print(a is not b)"
   ]
  },
  {
   "cell_type": "code",
   "execution_count": 48,
   "id": "07394f54",
   "metadata": {},
   "outputs": [
    {
     "name": "stdout",
     "output_type": "stream",
     "text": [
      "False\n"
     ]
    }
   ],
   "source": [
    "a=1000\n",
    "b=1000\n",
    "print(a is b)"
   ]
  },
  {
   "cell_type": "code",
   "execution_count": 46,
   "id": "bba9d41a",
   "metadata": {},
   "outputs": [
    {
     "name": "stdout",
     "output_type": "stream",
     "text": [
      "True\n"
     ]
    }
   ],
   "source": [
    "print(a is not b)"
   ]
  },
  {
   "cell_type": "code",
   "execution_count": 51,
   "id": "b14214e9",
   "metadata": {},
   "outputs": [
    {
     "name": "stdout",
     "output_type": "stream",
     "text": [
      "2287857037616 2287857037552\n"
     ]
    }
   ],
   "source": [
    "print(id(a),id(b))"
   ]
  },
  {
   "cell_type": "code",
   "execution_count": null,
   "id": "9906c222",
   "metadata": {},
   "outputs": [],
   "source": [
    "Q. What is the output of expression inside print statement. Cross check\n",
    "before running the program.\n",
    "print(10+(10*32)//2**5&20+(~(-10))<<2)"
   ]
  },
  {
   "cell_type": "code",
   "execution_count": 58,
   "id": "3b2fb60b",
   "metadata": {},
   "outputs": [
    {
     "name": "stdout",
     "output_type": "stream",
     "text": [
      "20\n"
     ]
    }
   ],
   "source": [
    "print(10+(320)//2**5&20+(9)<<2)"
   ]
  },
  {
   "cell_type": "code",
   "execution_count": 59,
   "id": "3c4a9f24",
   "metadata": {},
   "outputs": [
    {
     "name": "stdout",
     "output_type": "stream",
     "text": [
      "0\n"
     ]
    }
   ],
   "source": [
    "print(10+320//32&20+(9)<<2"
   ]
  },
  {
   "cell_type": "code",
   "execution_count": 73,
   "id": "e5b7b3e1",
   "metadata": {},
   "outputs": [
    {
     "data": {
      "text/plain": [
       "116"
      ]
     },
     "execution_count": 73,
     "metadata": {},
     "output_type": "execute_result"
    }
   ],
   "source": [
    "##29 - 2 -1\n",
    "##14 - 2 - 0\n",
    "##7 - 2 - 1\n",
    "##3 - 2 - 1\n",
    "##2 -2 - 1\n",
    "##11101\n",
    "##0011101\n",
    "0b1110100"
   ]
  },
  {
   "cell_type": "code",
   "execution_count": null,
   "id": "69c645a9",
   "metadata": {},
   "outputs": [],
   "source": [
    "print(10+10&116)"
   ]
  },
  {
   "cell_type": "code",
   "execution_count": 72,
   "id": "ef5d87ba",
   "metadata": {},
   "outputs": [
    {
     "name": "stdout",
     "output_type": "stream",
     "text": [
      "20\n"
     ]
    }
   ],
   "source": [
    "print(20&116)"
   ]
  },
  {
   "cell_type": "code",
   "execution_count": null,
   "id": "a3e1f803",
   "metadata": {},
   "outputs": [],
   "source": [
    "Q. Membership operation\n",
    "in, not in are two membership operators and it returns boolean value\n",
    "print('2' in 'Python2.7.8')\n",
    "print(10 in [10,10.20,10+20j,'Python'])\n",
    "print(10 in (10,10.20,10+20j,'Python'))\n",
    "print(2 in {1,2,3})\n",
    "print(3 in {1:100, 2:200, 3:300})\n",
    "print(10 in range(20))"
   ]
  },
  {
   "cell_type": "code",
   "execution_count": 74,
   "id": "ec626b4c",
   "metadata": {},
   "outputs": [
    {
     "name": "stdout",
     "output_type": "stream",
     "text": [
      "True\n"
     ]
    }
   ],
   "source": [
    "print('2' in 'Python2.7.8')"
   ]
  },
  {
   "cell_type": "code",
   "execution_count": 75,
   "id": "d42d2dce",
   "metadata": {},
   "outputs": [
    {
     "name": "stdout",
     "output_type": "stream",
     "text": [
      "True\n"
     ]
    }
   ],
   "source": [
    "print(10 in [10,10.20,10+20j, 'Python'])"
   ]
  },
  {
   "cell_type": "code",
   "execution_count": 76,
   "id": "21e6a756",
   "metadata": {},
   "outputs": [
    {
     "name": "stdout",
     "output_type": "stream",
     "text": [
      "True\n"
     ]
    }
   ],
   "source": [
    "print(10 in (10,10.20,10+20j,'Python'))\n"
   ]
  },
  {
   "cell_type": "code",
   "execution_count": 77,
   "id": "a0c440ee",
   "metadata": {},
   "outputs": [
    {
     "name": "stdout",
     "output_type": "stream",
     "text": [
      "True\n"
     ]
    }
   ],
   "source": [
    "print(2 in {1,2,3})\n"
   ]
  },
  {
   "cell_type": "code",
   "execution_count": 78,
   "id": "39d6bff9",
   "metadata": {},
   "outputs": [
    {
     "name": "stdout",
     "output_type": "stream",
     "text": [
      "True\n"
     ]
    }
   ],
   "source": [
    "print(3 in {1:100, 2:200, 3:300})"
   ]
  },
  {
   "cell_type": "code",
   "execution_count": 79,
   "id": "933d149b",
   "metadata": {},
   "outputs": [
    {
     "name": "stdout",
     "output_type": "stream",
     "text": [
      "True\n"
     ]
    }
   ],
   "source": [
    "print(10 in range(20))"
   ]
  },
  {
   "cell_type": "markdown",
   "id": "1b49e6cc",
   "metadata": {},
   "source": [
    "Q. An integer can be represented in binary, octal or hexadecimal form.\n",
    "Declare one binary, one octal and one hexadecimal value and store them\n",
    "in three different variables.\n",
    "Convert 9876 to its binary, octal and hexadecimal equivalent and print\n",
    "their corresponding value."
   ]
  },
  {
   "cell_type": "code",
   "execution_count": 83,
   "id": "e80a4994",
   "metadata": {},
   "outputs": [
    {
     "data": {
      "text/plain": [
       "'0x1'"
      ]
     },
     "execution_count": 83,
     "metadata": {},
     "output_type": "execute_result"
    }
   ],
   "source": [
    "#bin(1)\n",
    "#oct(1)\n",
    "hex(1)"
   ]
  },
  {
   "cell_type": "code",
   "execution_count": 85,
   "id": "0f6b6bcb",
   "metadata": {},
   "outputs": [
    {
     "name": "stdout",
     "output_type": "stream",
     "text": [
      "0b10011010010100\n",
      "0o23224\n",
      "0x2694\n"
     ]
    }
   ],
   "source": [
    "a='0b1'  #binary variable\n",
    "b='0o1'  #octal variable\n",
    "c='0x1'   #hexadecimal\n",
    "\n",
    "print(bin(9876)) #converting to binary\n",
    "print(oct(9876)) #converting to octal\n",
    "print(hex(9876)) #converting to hexa"
   ]
  },
  {
   "cell_type": "code",
   "execution_count": 87,
   "id": "fb11edef",
   "metadata": {},
   "outputs": [
    {
     "name": "stdout",
     "output_type": "stream",
     "text": [
      "80\n"
     ]
    }
   ],
   "source": [
    "#Q. What will be the output of following:-\n",
    "a = 0b1010000\n",
    "print(a)"
   ]
  },
  {
   "cell_type": "code",
   "execution_count": 88,
   "id": "78fda039",
   "metadata": {},
   "outputs": [
    {
     "name": "stdout",
     "output_type": "stream",
     "text": [
      "3870\n"
     ]
    }
   ],
   "source": [
    "b = 0o7436\n",
    "print(b)"
   ]
  },
  {
   "cell_type": "code",
   "execution_count": 89,
   "id": "b8ad1ddb",
   "metadata": {},
   "outputs": [
    {
     "name": "stdout",
     "output_type": "stream",
     "text": [
      "64222\n"
     ]
    }
   ],
   "source": [
    "c = 0xfade\n",
    "print(c)"
   ]
  },
  {
   "cell_type": "code",
   "execution_count": 90,
   "id": "40f93be0",
   "metadata": {},
   "outputs": [
    {
     "name": "stdout",
     "output_type": "stream",
     "text": [
      "0b1010000\n",
      "0o7436\n",
      "0xfade\n",
      "0b1010000\n",
      "0b1111101011011110\n",
      "0o175336\n",
      "0o7436\n",
      "0x50\n",
      "0xfade\n"
     ]
    }
   ],
   "source": [
    "print(bin(80))\n",
    "print(oct(3870))\n",
    "print(hex(64222))\n",
    "print(bin(0b1010000))\n",
    "print(bin(0xfade))\n",
    "print(oct(0xfade))\n",
    "print(oct(0o7436))\n",
    "print(hex(0b1010000))\n",
    "print(hex(0xfade))"
   ]
  },
  {
   "cell_type": "code",
   "execution_count": null,
   "id": "c1c454fd",
   "metadata": {},
   "outputs": [],
   "source": []
  }
 ],
 "metadata": {
  "kernelspec": {
   "display_name": "Python 3 (ipykernel)",
   "language": "python",
   "name": "python3"
  },
  "language_info": {
   "codemirror_mode": {
    "name": "ipython",
    "version": 3
   },
   "file_extension": ".py",
   "mimetype": "text/x-python",
   "name": "python",
   "nbconvert_exporter": "python",
   "pygments_lexer": "ipython3",
   "version": "3.11.5"
  }
 },
 "nbformat": 4,
 "nbformat_minor": 5
}
