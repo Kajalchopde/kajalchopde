{
 "cells": [
  {
   "cell_type": "markdown",
   "id": "0eba475b",
   "metadata": {},
   "source": [
    "read =rb\n",
    "write - wb\n",
    "append - ab\n",
    "read n write  - rb+\n",
    "write n read - wb+\n",
    "append n read - ab+\n",
    "rb\n",
    "wb\n",
    "ab\n",
    "rb+\n",
    "wb+ab+\n"
   ]
  },
  {
   "cell_type": "code",
   "execution_count": 6,
   "id": "65047f4b",
   "metadata": {},
   "outputs": [
    {
     "data": {
      "text/plain": [
       "b'\\x01\\x02\\x03\\x04\\x05\\x06'"
      ]
     },
     "execution_count": 6,
     "metadata": {},
     "output_type": "execute_result"
    }
   ],
   "source": [
    "lst=[1,2,3,4,5,6]\n",
    "x=bytes(lst)\n",
    "x"
   ]
  },
  {
   "cell_type": "code",
   "execution_count": 7,
   "id": "224f4cde",
   "metadata": {},
   "outputs": [
    {
     "data": {
      "text/plain": [
       "bytes"
      ]
     },
     "execution_count": 7,
     "metadata": {},
     "output_type": "execute_result"
    }
   ],
   "source": [
    "type(x)"
   ]
  },
  {
   "cell_type": "code",
   "execution_count": 13,
   "id": "9cde8967",
   "metadata": {},
   "outputs": [
    {
     "name": "stdout",
     "output_type": "stream",
     "text": [
      "b'dssdfds'\n"
     ]
    }
   ],
   "source": [
    "with open('lst.dat',mode ='wb+') as f:\n",
    "    f.write(bytes(\"dssdfds\", 'ascii'))\n",
    "    f.seek(0)\n",
    "    print(f.read())"
   ]
  },
  {
   "cell_type": "markdown",
   "id": "872ef4be",
   "metadata": {},
   "source": [
    "bytes - immutable\n",
    "bytearray - mutable"
   ]
  },
  {
   "cell_type": "code",
   "execution_count": 16,
   "id": "f2907962",
   "metadata": {},
   "outputs": [
    {
     "data": {
      "text/plain": [
       "bytearray(b'\\x01\\x02\\x03\\x04')"
      ]
     },
     "execution_count": 16,
     "metadata": {},
     "output_type": "execute_result"
    }
   ],
   "source": [
    "t=(1,2,3,4)\n",
    "x=bytearray(t)\n",
    "x"
   ]
  },
  {
   "cell_type": "code",
   "execution_count": 17,
   "id": "cdf98e7a",
   "metadata": {},
   "outputs": [
    {
     "data": {
      "text/plain": [
       "array(['1', '2', '3', 'sdf', '3.99'], dtype='<U32')"
      ]
     },
     "execution_count": 17,
     "metadata": {},
     "output_type": "execute_result"
    }
   ],
   "source": [
    "import numpy as np\n",
    "\n",
    "lst=[1,2,3,'sdf',3.99]\n",
    "arr=np.array(lst)\n",
    "arr"
   ]
  },
  {
   "cell_type": "code",
   "execution_count": 18,
   "id": "89d0028b",
   "metadata": {},
   "outputs": [
    {
     "name": "stdout",
     "output_type": "stream",
     "text": [
      "b'\\x80\\x04\\x95\\x0f\\x00\\x00\\x00\\x00\\x00\\x00\\x00]\\x94(K\\x01K\\x02K\\x03K\\x04K\\x05e.'\n"
     ]
    }
   ],
   "source": [
    "import pickle\n",
    "lst=[1,2,3,4,5]\n",
    "with open('lst.dat', mode='wb+') as f:\n",
    "    pickle.dump(lst,f)\n",
    "    f.seek(0)\n",
    "    print(f.read())"
   ]
  },
  {
   "cell_type": "code",
   "execution_count": 19,
   "id": "1498fd30",
   "metadata": {},
   "outputs": [
    {
     "name": "stdout",
     "output_type": "stream",
     "text": [
      "[1, 2, 3, 4, 5]\n"
     ]
    }
   ],
   "source": [
    "with open('lst.dat',mode='rb') as f:\n",
    "    print(pickle.load(f))"
   ]
  },
  {
   "cell_type": "code",
   "execution_count": 21,
   "id": "96a85c11",
   "metadata": {},
   "outputs": [
    {
     "name": "stdout",
     "output_type": "stream",
     "text": [
      "b'\\x80\\x04\\x95\\r\\x00\\x00\\x00\\x00\\x00\\x00\\x00]\\x94(K\\x01K\\x02K\\x03K\\x05e.'\n"
     ]
    }
   ],
   "source": [
    "import pickle\n",
    "lst=[1,2,3,5]\n",
    "with open('lst.dat',mode='wb+') as f:\n",
    "    pickle.dump(lst,f)\n",
    "    f.seek(0)\n",
    "    print(f.read())"
   ]
  },
  {
   "cell_type": "code",
   "execution_count": 22,
   "id": "735ce58e",
   "metadata": {},
   "outputs": [
    {
     "name": "stdout",
     "output_type": "stream",
     "text": [
      "[1, 2, 3, 5]\n"
     ]
    }
   ],
   "source": [
    "with open('lst.dat',mode='rb') as f:\n",
    "    print(pickle.load(f))"
   ]
  },
  {
   "cell_type": "code",
   "execution_count": 28,
   "id": "507082d7",
   "metadata": {},
   "outputs": [
    {
     "name": "stdout",
     "output_type": "stream",
     "text": [
      "b'\\x80\\x04\\x95\\t\\x00\\x00\\x00\\x00\\x00\\x00\\x00\\x8c\\x05sdfds\\x94.\\x80\\x04\\x95\\t\\x00\\x00\\x00\\x00\\x00\\x00\\x00\\x8c\\x05sdfds\\x94.\\x80\\x04\\x95\\t\\x00\\x00\\x00\\x00\\x00\\x00\\x00\\x8c\\x05sdfds\\x94.\\x80\\x04\\x95\\t\\x00\\x00\\x00\\x00\\x00\\x00\\x00\\x8c\\x05sdfds\\x94.\\x80\\x04\\x95\\t\\x00\\x00\\x00\\x00\\x00\\x00\\x00\\x8c\\x05sdfds\\x94.'\n"
     ]
    }
   ],
   "source": [
    "import pickle\n",
    "lst=[1,2,3,4]\n",
    "with open('lst.dat',mode='ab+') as f:\n",
    "    pickle.dump(\"sdfds\",f)\n",
    "    f.seek(0)\n",
    "    print(f.read())\n",
    "    f.seek(0)\n"
   ]
  },
  {
   "cell_type": "code",
   "execution_count": 31,
   "id": "f6e714c1",
   "metadata": {},
   "outputs": [
    {
     "name": "stdout",
     "output_type": "stream",
     "text": [
      "sdfds\n"
     ]
    }
   ],
   "source": [
    "with open('lst.dat',mode='rb') as f:\n",
    "    print(pickle.load(f))"
   ]
  },
  {
   "cell_type": "code",
   "execution_count": 32,
   "id": "c728f757",
   "metadata": {},
   "outputs": [
    {
     "name": "stdout",
     "output_type": "stream",
     "text": [
      "p\n",
      "y\n",
      "t\n",
      "h\n",
      "o\n",
      "n\n"
     ]
    }
   ],
   "source": [
    "for i in 'python':\n",
    "    print(i)"
   ]
  },
  {
   "cell_type": "code",
   "execution_count": 34,
   "id": "38bdcb53",
   "metadata": {},
   "outputs": [
    {
     "data": {
      "text/plain": [
       "<str_ascii_iterator at 0x203f84d2fb0>"
      ]
     },
     "execution_count": 34,
     "metadata": {},
     "output_type": "execute_result"
    }
   ],
   "source": [
    "str='python'\n",
    "x=iter(str)\n",
    "x"
   ]
  },
  {
   "cell_type": "code",
   "execution_count": 35,
   "id": "f6d561ef",
   "metadata": {},
   "outputs": [
    {
     "data": {
      "text/plain": [
       "'p'"
      ]
     },
     "execution_count": 35,
     "metadata": {},
     "output_type": "execute_result"
    }
   ],
   "source": [
    "next(x)"
   ]
  },
  {
   "cell_type": "code",
   "execution_count": 36,
   "id": "e1392189",
   "metadata": {},
   "outputs": [
    {
     "name": "stdout",
     "output_type": "stream",
     "text": [
      "h\n",
      "e\n",
      "l\n",
      "l\n",
      "o\n"
     ]
    }
   ],
   "source": [
    "k1=\"hellow how are you\"\n",
    "x1=iter(k1)\n",
    "print(next(x1))\n",
    "print(next(x1))\n",
    "print(next(x1))\n",
    "print(next(x1))\n",
    "print(next(x1))"
   ]
  },
  {
   "cell_type": "code",
   "execution_count": 37,
   "id": "2da21322",
   "metadata": {},
   "outputs": [
    {
     "data": {
      "text/plain": [
       "<generator object <genexpr> at 0x00000203F72DECF0>"
      ]
     },
     "execution_count": 37,
     "metadata": {},
     "output_type": "execute_result"
    }
   ],
   "source": [
    "t=(i for i in range(10))\n",
    "t"
   ]
  },
  {
   "cell_type": "code",
   "execution_count": 38,
   "id": "28c6d449",
   "metadata": {},
   "outputs": [
    {
     "data": {
      "text/plain": [
       "1"
      ]
     },
     "execution_count": 38,
     "metadata": {},
     "output_type": "execute_result"
    }
   ],
   "source": [
    "next(t)\n",
    "next(t)"
   ]
  },
  {
   "cell_type": "code",
   "execution_count": 43,
   "id": "7af5f1b7",
   "metadata": {},
   "outputs": [
    {
     "name": "stdout",
     "output_type": "stream",
     "text": [
      "0\n",
      "kaaappendnew contain\n",
      "sdfds\n",
      "fds\n",
      "fds\n",
      "f\n",
      "dsf\n",
      "ds\n",
      "f\n",
      "ds\n",
      "['kaaappendnew contain\\n', 'sdfds\\n', 'fds\\n', 'fds\\n', 'f\\n', 'dsf\\n', 'ds\\n', 'f\\n', 'ds']\n",
      "kaaappendnew contain\n",
      "\n",
      "sdfds\n",
      "\n",
      "fds\n",
      "\n",
      "fds\n",
      "\n",
      "f\n",
      "\n",
      "dsf\n",
      "\n",
      "ds\n",
      "\n",
      "f\n",
      "\n",
      "ds\n"
     ]
    }
   ],
   "source": [
    "with open('kajal.txt',mode='r') as f:\n",
    "    print(f.tell())\n",
    "    print(f.read())\n",
    "    f.seek(0)\n",
    "    print(f.readlines())\n",
    "    f.seek(0)\n",
    "    for i in f.readlines():\n",
    "        print(i)"
   ]
  },
  {
   "cell_type": "code",
   "execution_count": 54,
   "id": "8fcd0f92",
   "metadata": {},
   "outputs": [
    {
     "name": "stdout",
     "output_type": "stream",
     "text": [
      "['hello', 'how', 'are', 'you', 'i', 'am', 'very']\n"
     ]
    }
   ],
   "source": [
    "with open(\"kajal.txt\") as f:\n",
    "    x=f.read()\n",
    "    w=x.split()\n",
    "    print(w)"
   ]
  },
  {
   "cell_type": "code",
   "execution_count": 48,
   "id": "b774e4ba",
   "metadata": {},
   "outputs": [
    {
     "data": {
      "text/plain": [
       "28"
      ]
     },
     "execution_count": 48,
     "metadata": {},
     "output_type": "execute_result"
    }
   ],
   "source": [
    "len(x)"
   ]
  },
  {
   "cell_type": "code",
   "execution_count": 58,
   "id": "7507ef34",
   "metadata": {},
   "outputs": [
    {
     "name": "stdout",
     "output_type": "stream",
     "text": [
      "21\n"
     ]
    }
   ],
   "source": [
    "with open(\"kajal.txt\") as f:\n",
    "    x=f.read()\n",
    "\n",
    "c=0\n",
    "for i in x:\n",
    "    if i.isalnum():\n",
    "        c=c+1\n",
    "print(c)"
   ]
  },
  {
   "cell_type": "code",
   "execution_count": 60,
   "id": "6e96c933",
   "metadata": {},
   "outputs": [
    {
     "name": "stdout",
     "output_type": "stream",
     "text": [
      "5\n"
     ]
    }
   ],
   "source": [
    "with open(\"kajal.txt\") as f:\n",
    "    x=f.read()\n",
    "c=0\n",
    "for i in x:\n",
    "    if i.isupper():\n",
    "        c+=1\n",
    "print(c)"
   ]
  },
  {
   "cell_type": "code",
   "execution_count": 61,
   "id": "d33e1023",
   "metadata": {},
   "outputs": [],
   "source": [
    "with open(\"kajal.txt\", mode='w') as f:\n",
    "    f.write('hello python')"
   ]
  },
  {
   "cell_type": "code",
   "execution_count": 63,
   "id": "0715ade2",
   "metadata": {},
   "outputs": [
    {
     "name": "stdout",
     "output_type": "stream",
     "text": [
      "hello python\n"
     ]
    }
   ],
   "source": [
    "with open(\"kajal.txt\",mode='r') as f:\n",
    "    print(f.read())"
   ]
  },
  {
   "cell_type": "code",
   "execution_count": 67,
   "id": "2a272003",
   "metadata": {},
   "outputs": [
    {
     "name": "stdout",
     "output_type": "stream",
     "text": [
      "32\n",
      "new wordnew wordnew wordnew word\n"
     ]
    }
   ],
   "source": [
    "with open(\"kajal.txt\", mode='a+') as f:\n",
    "    f.write(\"new word\")\n",
    "    print(f.tell())\n",
    "    f.seek(0)\n",
    "    print(f.read())"
   ]
  },
  {
   "cell_type": "code",
   "execution_count": 68,
   "id": "baf520d6",
   "metadata": {},
   "outputs": [],
   "source": [
    "with open(\"kajal.txt\", mode='a+') as f:\n",
    "    f.writelines(\"new line1\")\n",
    "    f.writelines(\"new line2\")"
   ]
  },
  {
   "cell_type": "code",
   "execution_count": 71,
   "id": "240d40ba",
   "metadata": {},
   "outputs": [
    {
     "name": "stdout",
     "output_type": "stream",
     "text": [
      "new wordnew wordnew wordnew wordnew line1new line2\n"
     ]
    }
   ],
   "source": [
    "with open(\"kajal.txt\") as f:\n",
    "    print(f.read())"
   ]
  },
  {
   "cell_type": "code",
   "execution_count": 72,
   "id": "1a8bcd0e",
   "metadata": {},
   "outputs": [],
   "source": [
    "t=\"\"\"a=int(input(\"enter first number\"))\n",
    "b=int(input(\"enter second number\"))\n",
    "print(a+b)\"\"\"\n",
    "with open(\"k1.py\", mode='w+') as f:\n",
    "    f.write(t)"
   ]
  },
  {
   "cell_type": "code",
   "execution_count": 73,
   "id": "36bde581",
   "metadata": {},
   "outputs": [
    {
     "name": "stdout",
     "output_type": "stream",
     "text": [
      "enter first number1\n",
      "enter second number2\n",
      "3\n"
     ]
    }
   ],
   "source": [
    "%run k1.py"
   ]
  },
  {
   "cell_type": "code",
   "execution_count": 74,
   "id": "8d3f0f42",
   "metadata": {},
   "outputs": [],
   "source": [
    "import os\n",
    "os.remove(\"kajal.txt\")"
   ]
  },
  {
   "cell_type": "code",
   "execution_count": 76,
   "id": "cebc1f14",
   "metadata": {},
   "outputs": [],
   "source": [
    "os.remove(\"k1.py\")"
   ]
  },
  {
   "cell_type": "code",
   "execution_count": 85,
   "id": "41ba581e",
   "metadata": {},
   "outputs": [
    {
     "name": "stdout",
     "output_type": "stream",
     "text": [
      "['__builtins__', '__cached__', '__doc__', '__file__', '__loader__', '__name__', '__package__', '__spec__', 'add']\n"
     ]
    },
    {
     "data": {
      "text/plain": [
       "3"
      ]
     },
     "execution_count": 85,
     "metadata": {},
     "output_type": "execute_result"
    }
   ],
   "source": [
    "import module_1\n",
    "print(dir(module_1))\n",
    "module_1.add(1,2)"
   ]
  },
  {
   "cell_type": "code",
   "execution_count": 81,
   "id": "4f64e788",
   "metadata": {},
   "outputs": [
    {
     "name": "stdout",
     "output_type": "stream",
     "text": [
      " Volume in drive C has no label.\n",
      " Volume Serial Number is EC26-97B9\n",
      "\n",
      " Directory of C:\\Users\\Admin\n",
      "\n",
      "03/29/2024  09:14 AM    <DIR>          .\n",
      "03/29/2024  09:14 AM    <DIR>          ..\n",
      "12/30/2023  09:50 PM    <DIR>          .anaconda\n",
      "03/29/2024  09:14 AM    <DIR>          .conda\n",
      "12/30/2023  09:51 PM                25 .condarc\n",
      "12/30/2023  09:50 PM    <DIR>          .continuum\n",
      "02/17/2024  12:48 PM    <DIR>          .dotnet\n",
      "03/29/2024  09:13 AM    <DIR>          .ipynb_checkpoints\n",
      "01/12/2024  08:10 PM    <DIR>          .ipython\n",
      "01/12/2024  08:37 PM    <DIR>          .jupyter\n",
      "03/12/2024  09:08 PM    <DIR>          .matplotlib\n",
      "12/17/2023  09:41 PM    <DIR>          .ssh\n",
      "06/17/2023  01:05 PM    <DIR>          .vscode\n",
      "02/29/2024  09:28 PM    <DIR>          __pycache__\n",
      "11/16/2023  11:33 AM             6,904 -1.14-windows.xml\n",
      "02/19/2024  10:08 AM            18,875 1st assignment.ipynb\n",
      "02/19/2024  05:44 PM             9,242 2nd assignmet.ipynb\n",
      "01/28/2023  12:59 PM    <DIR>          3D Objects\n",
      "02/19/2024  05:44 PM             7,436 3rd assignment.ipynb\n",
      "02/19/2024  07:56 PM            11,257 4th assignment.ipynb\n",
      "03/25/2024  08:47 PM                85 add.py\n",
      "03/05/2024  09:15 PM    <DIR>          anaconda3\n",
      "01/28/2023  12:59 PM    <DIR>          Contacts\n",
      "11/16/2023  11:44 AM    <DIR>          Documents\n",
      "03/29/2024  08:38 AM    <DIR>          Downloads\n",
      "01/28/2023  12:59 PM    <DIR>          Favorites\n",
      "02/23/2024  09:36 PM                86 greet.py\n",
      "02/23/2024  09:15 PM    <DIR>          kajal first project\n",
      "02/23/2024  09:31 PM                95 ktcfirst.py\n",
      "01/28/2023  12:59 PM    <DIR>          Links\n",
      "03/01/2024  08:42 PM                24 listt.dat\n",
      "03/25/2024  08:54 PM                68 loop.py\n",
      "03/28/2024  09:54 PM               100 lst.dat\n",
      "03/28/2024  09:26 PM                 0 lst.txt\n",
      "02/29/2024  09:54 PM               138 main.zip\n",
      "02/23/2024  09:36 PM               193 main_1.py\n",
      "12/11/2023  10:34 PM    <DIR>          Microsoft\n",
      "03/29/2024  09:13 AM               652 module_1.ipynb\n",
      "02/23/2024  09:36 PM               253 module_3.py\n",
      "01/28/2023  12:59 PM    <DIR>          Music\n",
      "03/28/2024  09:59 PM    <DIR>          OneDrive\n",
      "03/25/2024  11:11 PM    <DIR>          prac data\n",
      "03/15/2024  10:35 PM    <DIR>          python classs\n",
      "01/28/2023  12:59 PM    <DIR>          Saved Games\n",
      "01/28/2023  01:01 PM    <DIR>          Searches\n",
      "12/10/2023  08:33 PM    <DIR>          SuperchargeXcel\n",
      "03/14/2024  08:13 PM            61,194 Titanic.csv\n",
      "02/18/2024  12:34 PM    <DIR>          Untitled Folder\n",
      "03/04/2024  08:56 PM        36,284,629 Untitled.ipynb\n",
      "03/04/2024  10:14 PM             3,417 Untitled1.ipynb\n",
      "03/27/2024  09:58 PM             5,315 Untitled10.ipynb\n",
      "03/29/2024  09:14 AM            14,262 Untitled11.ipynb\n",
      "03/14/2024  08:14 PM           215,906 Untitled2.ipynb\n",
      "03/17/2024  10:59 PM           103,224 Untitled3.ipynb\n",
      "03/18/2024  10:04 PM           228,389 Untitled4.ipynb\n",
      "03/22/2024  10:49 PM           507,471 Untitled5.ipynb\n",
      "03/23/2024  10:51 PM               589 Untitled6.ipynb\n",
      "03/24/2024  04:57 PM           572,528 Untitled7.ipynb\n",
      "03/24/2024  11:55 PM           506,286 Untitled8.ipynb\n",
      "03/27/2024  08:13 PM        38,195,486 Untitled9.ipynb\n",
      "11/16/2023  11:45 AM    <DIR>          Videos\n",
      "              30 File(s)     76,754,129 bytes\n",
      "              31 Dir(s)  47,752,814,592 bytes free\n"
     ]
    }
   ],
   "source": [
    "ls\n"
   ]
  },
  {
   "cell_type": "code",
   "execution_count": null,
   "id": "43244dd5",
   "metadata": {},
   "outputs": [],
   "source": []
  }
 ],
 "metadata": {
  "kernelspec": {
   "display_name": "Python 3 (ipykernel)",
   "language": "python",
   "name": "python3"
  },
  "language_info": {
   "codemirror_mode": {
    "name": "ipython",
    "version": 3
   },
   "file_extension": ".py",
   "mimetype": "text/x-python",
   "name": "python",
   "nbconvert_exporter": "python",
   "pygments_lexer": "ipython3",
   "version": "3.11.5"
  }
 },
 "nbformat": 4,
 "nbformat_minor": 5
}
