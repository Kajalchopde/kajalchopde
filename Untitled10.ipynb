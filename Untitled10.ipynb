{
 "cells": [
  {
   "cell_type": "code",
   "execution_count": 6,
   "id": "92ec5872",
   "metadata": {},
   "outputs": [
    {
     "name": "stdout",
     "output_type": "stream",
     "text": [
      "0\n",
      "1\n",
      "2\n"
     ]
    }
   ],
   "source": [
    "#break#continue#pass\n",
    "for i in range(10):\n",
    "    if i==3:\n",
    "      break\n",
    "    print(i)"
   ]
  },
  {
   "cell_type": "code",
   "execution_count": null,
   "id": "17d95cb1",
   "metadata": {},
   "outputs": [],
   "source": [
    "#break - out of loop\n",
    "continue "
   ]
  },
  {
   "cell_type": "code",
   "execution_count": 28,
   "id": "e1cf886a",
   "metadata": {},
   "outputs": [
    {
     "name": "stdout",
     "output_type": "stream",
     "text": [
      "enter the Email :-xyz@gmail.com\n",
      "enter the password :-python\n",
      "Email & Password matched\n"
     ]
    }
   ],
   "source": [
    "while True:\n",
    "    a=input(\"enter the Email :-\")\n",
    "    b=input(\"enter the password :-\")\n",
    "    if a == \"xyz@gmail.com\" and b == 'python':  \n",
    "        print(\"Email & Password matched\")\n",
    "        break\n",
    "    else:\n",
    "        print('Wrong Input') \n",
    "        c=input(\"Do you want to attemp again (Y=Yes / N=No)\")\n",
    "        if c.upper()=='Y':\n",
    "            print(\"Logged In\")\n",
    "            continue\n",
    "        else:\n",
    "            print(\"ok, better luck next time\")\n",
    "            break\n"
   ]
  },
  {
   "cell_type": "code",
   "execution_count": 32,
   "id": "d1d2b822",
   "metadata": {},
   "outputs": [
    {
     "name": "stdout",
     "output_type": "stream",
     "text": [
      "0\n",
      "1\n",
      "2\n"
     ]
    }
   ],
   "source": [
    "for i in range(10):\n",
    "    if i == 3:\n",
    "        break\n",
    "    print(i)\n",
    "else:\n",
    "    print(\"loop completed\")"
   ]
  },
  {
   "cell_type": "code",
   "execution_count": 36,
   "id": "4347327c",
   "metadata": {},
   "outputs": [
    {
     "name": "stdout",
     "output_type": "stream",
     "text": [
      "enter file namedsd\n",
      "file not found\n",
      "file not found\n",
      "file not found\n",
      "file not found\n"
     ]
    }
   ],
   "source": [
    "lst=['a','b','c','d']\n",
    "a=input('enter file name')\n",
    "for i in lst:\n",
    "    if i==a:\n",
    "            print(\"file is found\")\n",
    "            break\n",
    "    else:\n",
    "        print(\"file not found\")\n",
    "        "
   ]
  },
  {
   "cell_type": "code",
   "execution_count": 54,
   "id": "1fd0487d",
   "metadata": {},
   "outputs": [
    {
     "name": "stdout",
     "output_type": "stream",
     "text": [
      "enter any number7\n",
      "\n",
      "it is a prime number\n",
      "\n",
      "it is a prime number\n",
      "it is not a prime number\n"
     ]
    }
   ],
   "source": [
    "a=int(input(\"enter any number\"))\n",
    "for i in range(2,a):\n",
    "    if a%i==1:\n",
    "        print(\"it is a prime number\")\n",
    "    else:\n",
    "        print(\"it is not a prime number\")\n",
    "        break"
   ]
  },
  {
   "cell_type": "code",
   "execution_count": 60,
   "id": "46f55a95",
   "metadata": {},
   "outputs": [
    {
     "name": "stdout",
     "output_type": "stream",
     "text": [
      "kajal\n",
      "kajal\n",
      "kajal\n",
      "kajal\n",
      "kajal\n",
      "kajal\n",
      "kajal\n",
      "kajal\n"
     ]
    }
   ],
   "source": [
    "#pass\n",
    "for i in range(1,10):\n",
    "    if i==2:\n",
    "        pass\n",
    "    else:\n",
    "        print(\"kajal\")"
   ]
  },
  {
   "cell_type": "code",
   "execution_count": 74,
   "id": "31555412",
   "metadata": {},
   "outputs": [],
   "source": [
    "def a(xx,yy):\n",
    "    return(xx+yy),(xx*yy)"
   ]
  },
  {
   "cell_type": "code",
   "execution_count": 75,
   "id": "89b5bc96",
   "metadata": {},
   "outputs": [
    {
     "name": "stdout",
     "output_type": "stream",
     "text": [
      "7\n",
      "12\n"
     ]
    }
   ],
   "source": [
    "c,d=a(3,4)\n",
    "print(c)\n",
    "print(d)"
   ]
  },
  {
   "cell_type": "code",
   "execution_count": 89,
   "id": "3382a0c4",
   "metadata": {},
   "outputs": [],
   "source": [
    "def func(i):\n",
    "         return str(i)\n",
    "        "
   ]
  },
  {
   "cell_type": "code",
   "execution_count": 90,
   "id": "06f6379d",
   "metadata": {},
   "outputs": [
    {
     "data": {
      "text/plain": [
       "['1', '2', '3']"
      ]
     },
     "execution_count": 90,
     "metadata": {},
     "output_type": "execute_result"
    }
   ],
   "source": [
    "list(map(func,[1,2,3]))\n"
   ]
  },
  {
   "cell_type": "code",
   "execution_count": null,
   "id": "acec7710",
   "metadata": {},
   "outputs": [],
   "source": []
  }
 ],
 "metadata": {
  "kernelspec": {
   "display_name": "Python 3 (ipykernel)",
   "language": "python",
   "name": "python3"
  },
  "language_info": {
   "codemirror_mode": {
    "name": "ipython",
    "version": 3
   },
   "file_extension": ".py",
   "mimetype": "text/x-python",
   "name": "python",
   "nbconvert_exporter": "python",
   "pygments_lexer": "ipython3",
   "version": "3.11.5"
  }
 },
 "nbformat": 4,
 "nbformat_minor": 5
}
