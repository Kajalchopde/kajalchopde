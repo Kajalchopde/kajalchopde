{
 "cells": [
  {
   "cell_type": "code",
   "execution_count": null,
   "id": "3416b8ad",
   "metadata": {},
   "outputs": [],
   "source": [
    "import pickle\n",
    "with open('players.dat','ab') as fp:\n",
    "    code=3\n",
    "    name='Anjana'\n",
    "    country='india'\n",
    "    total_runs=240\n",
    "    rec=[code,name,country,total_runs]\n",
    "    pickle.dump(rec,fp)\n"
   ]
  },
  {
   "cell_type": "code",
   "execution_count": 97,
   "id": "8d0d80bb",
   "metadata": {},
   "outputs": [
    {
     "name": "stdout",
     "output_type": "stream",
     "text": [
      "['€\\x04•\\x12\\x00\\x00\\x00\\x00\\x00\\x00\\x00]”(Mí\\x03Œ\\x05kajal”Kde.€\\x04•\\x12\\x00\\x00\\x00\\x00\\x00\\x00\\x00]”(K\\x02Œ\\x05pooja”M\\n', '\\x04e.€\\x04•\\x12\\x00\\x00\\x00\\x00\\x00\\x00\\x00]”(Mí\\x03Œ\\x05kajal”Kde.€\\x04•\\x12\\x00\\x00\\x00\\x00\\x00\\x00\\x00]”(K\\x02Œ\\x05pooja”M\\n', '\\x04e.€\\x04•\\x12\\x00\\x00\\x00\\x00\\x00\\x00\\x00]”(Mí\\x03Œ\\x05kajal”Kde.€\\x04•\\x12\\x00\\x00\\x00\\x00\\x00\\x00\\x00]”(K\\x02Œ\\x05pooja”M\\n', '\\x04e.€\\x04•\\x12\\x00\\x00\\x00\\x00\\x00\\x00\\x00]”(Mí\\x03Œ\\x05kajal”Kde.€\\x04•\\x12\\x00\\x00\\x00\\x00\\x00\\x00\\x00]”(K\\x02Œ\\x05pooja”M\\n', \"\\x04e.€\\x04•\\x14\\x00\\x00\\x00\\x00\\x00\\x00\\x00]”(Mî\\x03Œ\\x06kajal1”M\\x10'e.\"]\n"
     ]
    }
   ],
   "source": [
    "with open(\"employee.dat\") as f:\n",
    "    lines=f.readlines()\n",
    "    print(lines)"
   ]
  },
  {
   "cell_type": "code",
   "execution_count": 31,
   "id": "5c4e88ac",
   "metadata": {},
   "outputs": [
    {
     "name": "stdout",
     "output_type": "stream",
     "text": [
      "[1, 'kajal', 'india', 100]\n",
      "[2, 'keertana', 'india', 200]\n",
      "[3, 'Anjana', 'india', 240]\n"
     ]
    }
   ],
   "source": [
    "import pickle\n",
    "infile=open(\"players.dat\",\"rb\")\n",
    "try:\n",
    "    while True:\n",
    "        record = pickle.load(infile)\n",
    "        if record[2] == 'india':\n",
    "                print(record)\n",
    "except EOFError:\n",
    "    pass\n",
    "infile.close()"
   ]
  },
  {
   "cell_type": "code",
   "execution_count": 70,
   "id": "84c1f5c4",
   "metadata": {},
   "outputs": [
    {
     "name": "stdout",
     "output_type": "stream",
     "text": [
      "entry country name :-india\n",
      "count of india is 3\n"
     ]
    }
   ],
   "source": [
    "def findp(y):\n",
    "    with open(\"players.dat\",'rb') as infile1:\n",
    "        try:\n",
    "            c=0\n",
    "            while True:\n",
    "                rec=pickle.load(infile1)\n",
    "                if rec[2]==y:\n",
    "                    c=c+1\n",
    "        except EOFError:\n",
    "            pass\n",
    "    infile1.close()\n",
    "    print(f'count of {y} is {c}')\n",
    "    \n",
    "    \n",
    "import pickle\n",
    "x=input(\"entry country name :-\")\n",
    "findp(x)\n",
    "\n"
   ]
  },
  {
   "cell_type": "code",
   "execution_count": null,
   "id": "d0825847",
   "metadata": {},
   "outputs": [],
   "source": [
    "# A binary file school.dat has structure(rollno, name, class, fees)\n",
    "\n",
    "# Write a definition for function total_fees( ) that reads each object of file and calculate \n",
    "# the total fees of students and display the same."
   ]
  },
  {
   "cell_type": "code",
   "execution_count": 86,
   "id": "12e40bfe",
   "metadata": {},
   "outputs": [],
   "source": [
    "import pickle\n",
    "with open('school.dat','ab') as fp:\n",
    "    rollno=1005\n",
    "    name='kajal'\n",
    "    classs='10'\n",
    "    fees=100\n",
    "    rec=[rollno,name,classs,fees]\n",
    "    pickle.dump(rec,fp)\n",
    "    \n",
    "    "
   ]
  },
  {
   "cell_type": "code",
   "execution_count": 82,
   "id": "be0c4ec2",
   "metadata": {},
   "outputs": [
    {
     "name": "stdout",
     "output_type": "stream",
     "text": [
      "b'\\x80\\x04\\x95\\x16\\x00\\x00\\x00\\x00\\x00\\x00\\x00]\\x94(K\\x01\\x8c\\x05kajal\\x94\\x8c\\x0210\\x94Kde.\\x80\\x04\\x95\\x16\\x00\\x00\\x00\\x00\\x00\\x00\\x00]\\x94(K\\x01\\x8c\\x05kajal\\x94\\x8c\\x0210\\x94Kde.\\x80\\x04\\x95\\x16\\x00\\x00\\x00\\x00\\x00\\x00\\x00]\\x94(K\\x01\\x8c\\x05kajal\\x94\\x8c\\x0210\\x94Kde.'\n"
     ]
    }
   ],
   "source": [
    "with open ('school.dat','rb') as fp:\n",
    "    print(fp.read())"
   ]
  },
  {
   "cell_type": "code",
   "execution_count": 85,
   "id": "79854517",
   "metadata": {},
   "outputs": [
    {
     "name": "stdout",
     "output_type": "stream",
     "text": [
      "total fees is 300\n"
     ]
    }
   ],
   "source": [
    "def total_fees():\n",
    "    with open('school.dat','rb') as fp:\n",
    "        try:\n",
    "            xx=0\n",
    "            while True:\n",
    "                rec=pickle.load(fp)\n",
    "                xx=xx+rec[3]        \n",
    "        except EOFError:\n",
    "            pass\n",
    "    print(f'total fees is {xx}')\n",
    "\n",
    "total_fees()"
   ]
  },
  {
   "cell_type": "code",
   "execution_count": 87,
   "id": "ab459761",
   "metadata": {},
   "outputs": [
    {
     "name": "stdout",
     "output_type": "stream",
     "text": [
      "roll no. 1005 details are [1005, 'kajal', '10', 100]\n"
     ]
    }
   ],
   "source": [
    "# Write a function to search and display details of student whose rollno is '1005' \n",
    "# from the binary file student.dat having structure [rollno, name, class and fees].\n",
    "\n",
    "def findrec():\n",
    "    with open('school.dat','rb') as fp:\n",
    "        try:\n",
    "            while True:\n",
    "                rec=pickle.load(fp)\n",
    "                if rec[0]==1005:\n",
    "                    d=rec\n",
    "        except EOFError:\n",
    "            pass\n",
    "    print(f'roll no. 1005 details are {d}')\n",
    "    \n",
    "findrec()"
   ]
  },
  {
   "cell_type": "code",
   "execution_count": 96,
   "id": "dae30b3a",
   "metadata": {},
   "outputs": [
    {
     "name": "stdout",
     "output_type": "stream",
     "text": [
      "[2, 'pooja', 1034]\n",
      "[2, 'pooja', 1034]\n",
      "[2, 'pooja', 1034]\n",
      "[2, 'pooja', 1034]\n"
     ]
    }
   ],
   "source": [
    "# Given a binary file employee.dat, created using dictionary object having keys: (empcode, name, and salary)\n",
    "\n",
    "# Write a python function that add one more record at the end of file.\n",
    "# Write a python function that display all employee records whose salary is more that 30000\n",
    "import pickle\n",
    "\n",
    "def addr():\n",
    "    with open('employee.dat','ab') as fp:\n",
    "        empcode=2\n",
    "        name='pooja'\n",
    "        salary=1034\n",
    "        rec=[empcode,name,salary]\n",
    "        pickle.dump(rec,fp)    \n",
    "    return\n",
    "\n",
    "\n",
    "def dispr():\n",
    "    with open('employee.dat','rb') as fp:\n",
    "        try:\n",
    "            while True:\n",
    "                rec=pickle.load(fp)\n",
    "                if rec[2]>= 1000:\n",
    "                    print(rec)\n",
    "        except EOFError:\n",
    "            pass\n",
    "    return\n",
    "\n",
    "\n",
    "\n",
    "\n",
    "\n",
    "with open('employee.dat','ab') as fp:\n",
    "    empcode=1006\n",
    "    name='kajal1'\n",
    "    salary=10000\n",
    "    rec=[empcode,name,salary]\n",
    "    pickle.dump(rec,fp)\n",
    "    addr()\n",
    "    dispr()\n",
    "    \n",
    "    "
   ]
  },
  {
   "cell_type": "code",
   "execution_count": 108,
   "id": "b3bac924",
   "metadata": {},
   "outputs": [
    {
     "name": "stdout",
     "output_type": "stream",
     "text": [
      "kajal1 75\n",
      "kajal1 75\n",
      "kajal1 75\n"
     ]
    }
   ],
   "source": [
    "# A binary file \"STUDENT.DAT\" has structure (admission_number, Name, Percentage). \n",
    "# Write a function count_rec() in Python that would read contents of the file \"STUDENT.DAT\" \n",
    "# and display the details of those students whose percentage is above 75. \n",
    "# Also display number of students scoring above 75%\n",
    "def addre():\n",
    "    with open('student.dat','ab') as fp:\n",
    "        admission_number=10\n",
    "        name='keertana'\n",
    "        percentage=60\n",
    "        rec=[admission_number,name,percentage]\n",
    "        pickle.dump(rec,fp)\n",
    "    return\n",
    "\n",
    "def dispre():\n",
    "    with open('student.dat','rb') as fp:\n",
    "        try:\n",
    "            while True:\n",
    "                rec=pickle.load(fp)\n",
    "                if rec[2]>=70:\n",
    "                    print(rec[1],rec[2])\n",
    "        except EOFError:\n",
    "            pass\n",
    "    return\n",
    "\n",
    "with open('student.dat','ab') as fp:\n",
    "    admission_number=1\n",
    "    name='kajal1'\n",
    "    percentage=75\n",
    "    rec=[admission_number,name,percentage]\n",
    "    pickle.dump(rec,fp)\n",
    "    addre()\n",
    "    dispre()\n"
   ]
  },
  {
   "cell_type": "code",
   "execution_count": 109,
   "id": "b88b005b",
   "metadata": {},
   "outputs": [
    {
     "name": "stdout",
     "output_type": "stream",
     "text": [
      "-inf\n"
     ]
    }
   ],
   "source": [
    "mx=float(\"-inf\")\n",
    "print(mx)"
   ]
  },
  {
   "cell_type": "code",
   "execution_count": 114,
   "id": "af4ed483",
   "metadata": {},
   "outputs": [
    {
     "ename": "TypeError",
     "evalue": "find_max() takes 1 positional argument but 3 were given",
     "output_type": "error",
     "traceback": [
      "\u001b[1;31m---------------------------------------------------------------------------\u001b[0m",
      "\u001b[1;31mTypeError\u001b[0m                                 Traceback (most recent call last)",
      "Cell \u001b[1;32mIn[114], line 9\u001b[0m\n\u001b[0;32m      6\u001b[0m     \u001b[38;5;28mprint\u001b[39m(max_num)\n\u001b[0;32m      7\u001b[0m     \u001b[38;5;28;01mreturn\u001b[39;00m\n\u001b[1;32m----> 9\u001b[0m find_max(\u001b[38;5;241m3\u001b[39m,\u001b[38;5;241m2\u001b[39m,\u001b[38;5;241m1\u001b[39m)\n",
      "\u001b[1;31mTypeError\u001b[0m: find_max() takes 1 positional argument but 3 were given"
     ]
    }
   ],
   "source": [
    "def find_max(nums):\n",
    "    max_num = float(\"-inf\") # smaller than all other numbers\n",
    "    for num in nums:\n",
    "        if num > max_num:\n",
    "            max_num+=num\n",
    "    print(max_num)\n",
    "    return\n",
    "\n",
    "find_max(3,2,1)"
   ]
  },
  {
   "cell_type": "code",
   "execution_count": 119,
   "id": "f290f18b",
   "metadata": {},
   "outputs": [
    {
     "name": "stdout",
     "output_type": "stream",
     "text": [
      "enter a dictionary:-{1:200,2:300}\n",
      "{1: 200, 2: 300} <class 'dict'>\n"
     ]
    }
   ],
   "source": [
    "d=eval(input(\"enter a dictionary:-\"))\n",
    "print(d,type(d))"
   ]
  },
  {
   "cell_type": "code",
   "execution_count": null,
   "id": "9078493e",
   "metadata": {},
   "outputs": [],
   "source": [
    "new_dict = {new_list: [] for new_list in range(4)}"
   ]
  },
  {
   "cell_type": "code",
   "execution_count": 128,
   "id": "e14dc599",
   "metadata": {},
   "outputs": [
    {
     "name": "stdout",
     "output_type": "stream",
     "text": [
      "{'tom': {'email': 'tom_latham019@gmail.com', 'Phone': 1987654321, 'City': 'California'}, 'kathy': {'email': 'kathy_abram897@gmail.com', 'Phone': 1887654321, 'City': 'New York'}} <class 'dict'>\n"
     ]
    },
    {
     "data": {
      "text/plain": [
       "{'email': 'tom_latham019@gmail.com', 'Phone': 1987654321, 'City': 'California'}"
      ]
     },
     "execution_count": 128,
     "metadata": {},
     "output_type": "execute_result"
    }
   ],
   "source": [
    "# Initialize a dictionary \"emp_info\" with below details\n",
    "# In - emp_info['Tom']\n",
    "# Out - {'email':'tom_latham019@gmail.com', 'Phone': +1987654321, 'City': 'California'}\n",
    "\n",
    "# In - emp_info['Kathy']\n",
    "# Out - {'email':'kathy_abram897@gmail.com', 'Phone': +1887654321, 'City': 'New York'}\n",
    "\n",
    "name=['tom','kathy']\n",
    "valuen=[{'email':'tom_latham019@gmail.com', 'Phone': +1987654321, 'City': 'California'},\n",
    "        {'email':'kathy_abram897@gmail.com', 'Phone': +1887654321, 'City': 'New York'}]\n",
    "       \n",
    "\n",
    "emp_info=dict(zip(name,valuen))\n",
    "\n",
    "print(emp_info,type(emp_info))\n",
    "emp_info.pop('tom')"
   ]
  },
  {
   "cell_type": "code",
   "execution_count": 138,
   "id": "d98c0ccb",
   "metadata": {},
   "outputs": [
    {
     "name": "stdout",
     "output_type": "stream",
     "text": [
      "{'emp1': {'ename': 'john', 'eid': 'sg101', 'esal': '$10000'}, 'emp2': {'ename': 'smith', 'eid': 'sg102', 'esal': '$9000'}, 'emp3': {'ename': 'peter', 'eid': 'sg103', 'esal': '$9500'}}\n"
     ]
    },
    {
     "data": {
      "text/plain": [
       "{'ename': 'smith', 'eid': 'sg102', 'esal': '$9000'}"
      ]
     },
     "execution_count": 138,
     "metadata": {},
     "output_type": "execute_result"
    }
   ],
   "source": [
    "lst1=['emp1','emp2','emp3']\n",
    "emp_key=['ename','eid','esal']\n",
    "emp1_val=['john','sg101','$10000']\n",
    "emp2_val=['smith','sg102','$9000']\n",
    "emp3_val=['peter','sg103','$9500']\n",
    "\n",
    "l1=dict(zip(emp_key,emp1_val))\n",
    "l2=dict(zip(emp_key,emp2_val))\n",
    "l3=dict(zip(emp_key,emp3_val))\n",
    "lfinal=[l1,l2,l3]\n",
    "empd=dict(zip(lst1,lfinal))\n",
    "print(empd)\n",
    "empd.pop('emp2')"
   ]
  },
  {
   "cell_type": "code",
   "execution_count": 152,
   "id": "3b09241d",
   "metadata": {},
   "outputs": [],
   "source": [
    "sampleDict = { \n",
    "   \"class\":{ \n",
    "      \"student\":{ \n",
    "         \"name\":\"Mike\",\n",
    "         \"marks\":{ \n",
    "            \"physics\":70,\n",
    "            \"history\":80\n",
    "         }\n",
    "      }\n",
    "   }\n",
    "}"
   ]
  },
  {
   "cell_type": "code",
   "execution_count": 153,
   "id": "91cf6555",
   "metadata": {},
   "outputs": [
    {
     "name": "stdout",
     "output_type": "stream",
     "text": [
      "{'class': {'student': {'name': 'Mike', 'marks': {'physics': 70, 'history': 80}}}}\n"
     ]
    },
    {
     "data": {
      "text/plain": [
       "('class',\n",
       " {'student': {'name': 'Mike', 'marks': {'physics': 70, 'history': 80}}})"
      ]
     },
     "execution_count": 153,
     "metadata": {},
     "output_type": "execute_result"
    }
   ],
   "source": [
    "print(sampleDict)\n",
    "sampleDict.popitem()"
   ]
  },
  {
   "cell_type": "code",
   "execution_count": null,
   "id": "5e883ee4",
   "metadata": {},
   "outputs": [],
   "source": []
  }
 ],
 "metadata": {
  "kernelspec": {
   "display_name": "Python 3 (ipykernel)",
   "language": "python",
   "name": "python3"
  },
  "language_info": {
   "codemirror_mode": {
    "name": "ipython",
    "version": 3
   },
   "file_extension": ".py",
   "mimetype": "text/x-python",
   "name": "python",
   "nbconvert_exporter": "python",
   "pygments_lexer": "ipython3",
   "version": "3.11.5"
  }
 },
 "nbformat": 4,
 "nbformat_minor": 5
}
